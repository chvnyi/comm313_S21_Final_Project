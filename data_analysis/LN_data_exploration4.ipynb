{
 "cells": [
  {
   "cell_type": "markdown",
   "metadata": {},
   "source": [
    "# Data Exploration (4):\n",
    "## Keyness Analysis\n",
    "* This notebook focuses on analyzing the Lexis Nexis data using keyness analysis to observe any additional patterns for the years 2017, 2018, 2020, 2021.\n",
    "    * 2019 acts as a sort of middle ground\n",
    "\n",
    "---"
   ]
  },
  {
   "cell_type": "markdown",
   "metadata": {},
   "source": [
    "### Setup\n",
    "* includes additional modules, functions, and chars_to_strip"
   ]
  },
  {
   "cell_type": "code",
   "execution_count": 1,
   "metadata": {},
   "outputs": [],
   "source": [
    "import json\n",
    "from collections import Counter\n",
    "import random\n",
    "import matplotlib.pyplot as plt\n",
    "import os\n",
    "import re\n",
    "import pandas as pd\n",
    "import math\n",
    "\n",
    "from nltk.sentiment import SentimentIntensityAnalyzer"
   ]
  },
  {
   "cell_type": "code",
   "execution_count": 2,
   "metadata": {},
   "outputs": [],
   "source": [
    "%run functions.ipynb"
   ]
  },
  {
   "cell_type": "code",
   "execution_count": 3,
   "metadata": {},
   "outputs": [],
   "source": [
    "chars_to_remove = '!\"#$%&\\'()*+,-./:;<=>?@[\\\\]^_`{|}~•'"
   ]
  },
  {
   "cell_type": "markdown",
   "metadata": {},
   "source": [
    "## 1. Load data\n",
    "* all word_dist's taken from the frequency analyses conducted in `LN_data_exploration1`."
   ]
  },
  {
   "cell_type": "code",
   "execution_count": 4,
   "metadata": {},
   "outputs": [],
   "source": [
    "LN2017 = json.load(open('../data/LN_data/cleaned/LN_2017.json'))"
   ]
  },
  {
   "cell_type": "code",
   "execution_count": 5,
   "metadata": {},
   "outputs": [],
   "source": [
    "LN2018 = json.load(open('../data/LN_data/cleaned/LN_2018.json'))\n",
    "LN2019 = json.load(open('../data/LN_data/cleaned/LN_2019.json'))\n",
    "LN2020 = json.load(open('../data/LN_data/cleaned/LN_2020.json'))\n",
    "LN2021 = json.load(open('../data/LN_data/cleaned/LN_2021.json'))"
   ]
  },
  {
   "cell_type": "code",
   "execution_count": 6,
   "metadata": {},
   "outputs": [],
   "source": [
    "# set up a Counter for words\n",
    "LN2017_word_dist = Counter()\n",
    "\n",
    "# process each document in list\n",
    "for doc in LN2017:\n",
    "    text = doc['body']\n",
    "    tokens = tokenize(text, lowercase=True, strip_chars=chars_to_remove)\n",
    "    LN2017_word_dist.update(tokens)"
   ]
  },
  {
   "cell_type": "code",
   "execution_count": 7,
   "metadata": {},
   "outputs": [],
   "source": [
    "LN2018_word_dist = Counter()\n",
    "\n",
    "for doc in LN2018:\n",
    "    text = doc['body']\n",
    "    tokens = tokenize(text, lowercase=True, strip_chars=chars_to_remove)\n",
    "    LN2018_word_dist.update(tokens)"
   ]
  },
  {
   "cell_type": "code",
   "execution_count": 8,
   "metadata": {},
   "outputs": [],
   "source": [
    "LN2019_word_dist = Counter()\n",
    "\n",
    "for doc in LN2019:\n",
    "    text = doc['body']\n",
    "    tokens = tokenize(text, lowercase=True, strip_chars=chars_to_remove)\n",
    "    LN2019_word_dist.update(tokens)"
   ]
  },
  {
   "cell_type": "code",
   "execution_count": 9,
   "metadata": {},
   "outputs": [],
   "source": [
    "LN2020_word_dist = Counter()\n",
    "\n",
    "for doc in LN2020:\n",
    "    text = doc['body']\n",
    "    tokens = tokenize(text, lowercase=True, strip_chars=chars_to_remove)\n",
    "    LN2020_word_dist.update(tokens)"
   ]
  },
  {
   "cell_type": "code",
   "execution_count": 10,
   "metadata": {},
   "outputs": [],
   "source": [
    "LN2021_word_dist = Counter()\n",
    "\n",
    "for doc in LN2021:\n",
    "    text = doc['body']\n",
    "    tokens = tokenize(text, lowercase=True, strip_chars=chars_to_remove)\n",
    "    LN2021_word_dist.update(tokens)"
   ]
  },
  {
   "cell_type": "markdown",
   "metadata": {},
   "source": [
    "---"
   ]
  },
  {
   "cell_type": "markdown",
   "metadata": {},
   "source": [
    "## 2. Keyness\n",
    "* exploring 2017 + 2018 with 2020 + 2021\n",
    "* exploring 2017 with 2020\n",
    "    * first full year vs. last full year of data collected"
   ]
  },
  {
   "cell_type": "code",
   "execution_count": 11,
   "metadata": {},
   "outputs": [],
   "source": [
    "word_dist_1718 = Counter()\n",
    "\n",
    "for doc in LN2017 + LN2018:\n",
    "    text = doc['body']\n",
    "    tokens = tokenize(text, lowercase=True, strip_chars=chars_to_remove)\n",
    "    word_dist_1718.update(tokens)"
   ]
  },
  {
   "cell_type": "code",
   "execution_count": 12,
   "metadata": {
    "scrolled": true
   },
   "outputs": [
    {
     "data": {
      "text/plain": [
       "[('the', 164204),\n",
       " ('and', 89485),\n",
       " ('to', 86064),\n",
       " ('of', 82304),\n",
       " ('in', 63553),\n",
       " ('a', 53698),\n",
       " ('that', 34983),\n",
       " ('for', 31136),\n",
       " ('is', 29651),\n",
       " ('on', 26437),\n",
       " ('with', 20593),\n",
       " ('china', 17953),\n",
       " ('as', 17894),\n",
       " ('it', 16499),\n",
       " ('this', 16482),\n",
       " ('by', 15536),\n",
       " ('are', 15536),\n",
       " ('chinese', 14665),\n",
       " ('its', 14055),\n",
       " ('us', 13232),\n",
       " ('from', 13046),\n",
       " ('has', 12579),\n",
       " ('have', 12527),\n",
       " ('be', 12221),\n",
       " ('at', 12083),\n",
       " ('we', 11914),\n",
       " ('you', 11911),\n",
       " ('i', 10420),\n",
       " ('was', 9943),\n",
       " ('will', 9932),\n",
       " ('said', 9685),\n",
       " ('an', 9412),\n",
       " ('not', 9267),\n",
       " ('or', 8846),\n",
       " ('but', 8502),\n",
       " ('they', 8204),\n",
       " ('about', 8199),\n",
       " ('government', 8006),\n",
       " ('market', 7842),\n",
       " ('more', 7401),\n",
       " ('their', 7203),\n",
       " ('he', 6726),\n",
       " ('which', 6515),\n",
       " ('company', 6405),\n",
       " ('new', 6380),\n",
       " ('our', 6379),\n",
       " ('so', 6165),\n",
       " ('other', 6045),\n",
       " ('also', 5950),\n",
       " ('were', 5931)]"
      ]
     },
     "execution_count": 12,
     "metadata": {},
     "output_type": "execute_result"
    }
   ],
   "source": [
    "word_dist_1718.most_common(50)"
   ]
  },
  {
   "cell_type": "code",
   "execution_count": 13,
   "metadata": {},
   "outputs": [],
   "source": [
    "word_dist_20021 = Counter()\n",
    "\n",
    "for doc in LN2020 + LN2021:\n",
    "    text = doc['body']\n",
    "    tokens = tokenize(text, lowercase=True, strip_chars=chars_to_remove)\n",
    "    word_dist_20021.update(tokens)"
   ]
  },
  {
   "cell_type": "code",
   "execution_count": 14,
   "metadata": {
    "scrolled": true
   },
   "outputs": [
    {
     "data": {
      "text/plain": [
       "[('the', 382941),\n",
       " ('to', 207677),\n",
       " ('of', 206041),\n",
       " ('and', 179830),\n",
       " ('in', 141501),\n",
       " ('a', 108719),\n",
       " ('for', 76729),\n",
       " ('that', 69891),\n",
       " ('is', 63216),\n",
       " ('on', 57703),\n",
       " ('with', 47751),\n",
       " ('as', 41088),\n",
       " ('by', 40630),\n",
       " ('its', 38576),\n",
       " ('from', 38234),\n",
       " ('at', 35252),\n",
       " ('this', 31362),\n",
       " ('it', 30498),\n",
       " ('are', 30014),\n",
       " ('has', 29719),\n",
       " ('will', 27785),\n",
       " ('us', 27357),\n",
       " ('be', 27348),\n",
       " ('was', 23419),\n",
       " ('have', 23141),\n",
       " ('we', 22679),\n",
       " ('an', 22152),\n",
       " ('mln', 21632),\n",
       " ('china', 21493),\n",
       " ('sp', 21044),\n",
       " ('chinese', 20337),\n",
       " ('consensus', 20275),\n",
       " ('capital', 19818),\n",
       " ('not', 18213),\n",
       " ('or', 18108),\n",
       " ('company', 17641),\n",
       " ('2020', 16308),\n",
       " ('iq', 16212),\n",
       " ('you', 16195),\n",
       " ('vs', 15933),\n",
       " ('new', 15356),\n",
       " ('which', 15350),\n",
       " ('our', 15250),\n",
       " ('said', 15138),\n",
       " ('last', 14921),\n",
       " ('but', 14776),\n",
       " ('i', 14403),\n",
       " ('market', 14369),\n",
       " ('up', 14131),\n",
       " ('than', 13791)]"
      ]
     },
     "execution_count": 14,
     "metadata": {},
     "output_type": "execute_result"
    }
   ],
   "source": [
    "word_dist_20021.most_common(50)"
   ]
  },
  {
   "cell_type": "markdown",
   "metadata": {},
   "source": [
    "### Keyness for 2017, 2018 vs. 2020, 2021"
   ]
  },
  {
   "cell_type": "code",
   "execution_count": 15,
   "metadata": {},
   "outputs": [],
   "source": [
    "LN2017_token_cnt = sum(LN2017_word_dist.values())\n",
    "LN2020_token_cnt = sum(LN2020_word_dist.values())"
   ]
  },
  {
   "cell_type": "code",
   "execution_count": 16,
   "metadata": {},
   "outputs": [
    {
     "name": "stdout",
     "output_type": "stream",
     "text": [
      "990587 tokens in 2017\n",
      "6240764 tokens in 2020\n"
     ]
    }
   ],
   "source": [
    "print(f'{LN2017_token_cnt} tokens in 2017')\n",
    "print(f'{LN2020_token_cnt} tokens in 2020')"
   ]
  },
  {
   "cell_type": "markdown",
   "metadata": {},
   "source": [
    "* From previous notebooks, it's known that LN2020 is noticeably larger than LN2017 (2020 contains more articles), so it makes sense that 2020 would have more tokens in comparison. "
   ]
  },
  {
   "cell_type": "code",
   "execution_count": 17,
   "metadata": {},
   "outputs": [
    {
     "name": "stdout",
     "output_type": "stream",
     "text": [
      "WORD                     Corpus A Freq.Corpus B Freq.Keyness\n",
      "============================================================\n",
      "2017                     3942      1062      5241.705\n",
      "china                    17953     21493     4616.499\n",
      "2016                     2412      739       3001.737\n",
      "corresponding            1354      41        2982.760\n",
      "steel                    1774      334       2744.390\n",
      "chinese                  14665     20337     2507.982\n",
      "tariffs                  1953      610       2405.015\n",
      "you                      11911     16195     2166.377\n",
      "and                      89485     179830    1957.028\n",
      "trade                    5712      6207      1825.555\n",
      "i                        10420     14403     1800.583\n",
      "2015                     1396      431       1730.089\n",
      "blockchain               1079      233       1583.424\n",
      "industry                 3633      3345      1577.596\n",
      "2018                     2898      2317      1557.185\n",
      "zte                      1124      313       1470.339\n",
      "google                   1795      1108      1315.122\n",
      "statements               1737      1051      1299.025\n",
      "bartiromo                4325      5056      1176.926\n",
      "mcdowell                 1737      1180      1146.122\n",
      "internet                 2243      1874      1132.245\n",
      "they                     8204      12118     1131.776\n",
      "includes                 1751      1213      1129.404\n",
      "a                        53698     108719    1084.132\n",
      "analyzed                 617       78        1080.840\n",
      "said                     9685      15138     1071.539\n",
      "about                    8199      12360     1048.200\n",
      "chinas                   4297      5285      1033.367\n",
      "forwardlooking           1025      492       946.064\n",
      "table                    1510      1079      938.531\n",
      "independently            550       77        936.661\n",
      "netease                  418       14        912.416\n",
      "government               8006      12536     879.187\n",
      "companies                5542      7923      857.588\n",
      "technology               5175      7286      842.752\n",
      "that                     34983     69891     812.878\n",
      "information              4378      5926      807.216\n",
      "percent                  3570      4542      785.763\n",
      "so                       6165      9335      774.859\n",
      "animation                355       15        756.448\n",
      "years                    3877      5151      755.602\n",
      "2024                     635       216       744.661\n",
      "it                       16499     30498     738.868\n",
      "cooperation              946       550       736.191\n",
      "bitcoin                  575       176       715.966\n",
      "think                    3911      5315      712.423\n",
      "he                       6726      10649     704.620\n",
      "what                     5223      7825      683.636\n",
      "figures                  663       281       673.090\n",
      "ltd                      924       593       649.606\n"
     ]
    }
   ],
   "source": [
    "calculate_keyness(word_dist_1718, word_dist_20021, top=50)"
   ]
  },
  {
   "cell_type": "code",
   "execution_count": 18,
   "metadata": {},
   "outputs": [
    {
     "name": "stdout",
     "output_type": "stream",
     "text": [
      "WORD                     Corpus A Freq.Corpus B Freq.Keyness\n",
      "============================================================\n",
      "consensus                20275     117       12905.762\n",
      "sp                       21044     353       11861.430\n",
      "vs                       15933     58        10423.305\n",
      "2020                     16308     328       8888.729\n",
      "capital                  19818     906       8523.569\n",
      "guidance                 10664     197       5908.250\n",
      "tiktok                   7132      10        4818.737\n",
      "q1                       6890      36        4415.672\n",
      "q4                       6400      15        4263.111\n",
      "eps                      6717      44        4235.077\n",
      "beats                    6109      5         4167.399\n",
      "expected                 12903     1018      4161.859\n",
      "sees                     6905      102       3973.249\n",
      "pandemic                 5809      36        3678.319\n",
      "2019                     7042      264       3259.788\n",
      "co                       9094      743       2863.266\n",
      "dec                      4878      107       2611.555\n",
      "per                      9930      1061      2513.731\n",
      "reports                  10750     1254      2495.755\n",
      "patients                 5313      200       2455.997\n",
      "prior                    5727      281       2391.457\n",
      "01                       4287      78        2381.825\n",
      "mm                       3394      13        2214.709\n",
      "virus                    3307      13        2155.054\n",
      "share                    10564     1446      2043.035\n",
      "announces                3584      60        2020.805\n",
      "revenues                 7049      654       2017.039\n",
      "guides                   3070      12        2001.199\n",
      "03                       3723      82        1991.447\n",
      "excluding                4769      242       1962.300\n",
      "rose                     4752      261       1885.200\n",
      "items                    4373      203       1869.105\n",
      "last                     14921     2749      1820.114\n",
      "earnings                 8373      1057      1784.054\n",
      "misses                   2583      7         1711.565\n",
      "02                       3434      102       1707.326\n",
      "fda                      2819      29        1702.246\n",
      "phase                    4321      243       1694.742\n",
      "futures                  4819      353       1631.728\n",
      "05                       2974      61        1614.618\n",
      "04                       3133      83        1605.410\n",
      "march                    6220      658       1589.264\n",
      "mar                      2425      23        1477.565\n",
      "q2                       2516      47        1391.064\n",
      "06                       2569      56        1377.216\n",
      "et                       3126      139       1359.442\n",
      "biden                    2192      18        1355.181\n",
      "clinical                 3202      157       1337.477\n",
      "outbreak                 2015      9         1303.932\n",
      "expects                  3397      227       1215.707\n"
     ]
    }
   ],
   "source": [
    "calculate_keyness(word_dist_20021, word_dist_1718, top=50)"
   ]
  },
  {
   "cell_type": "markdown",
   "metadata": {},
   "source": [
    "**Observations**:\n",
    "* Comparing the two sets, there isn't a strong sentiment difference detected between the words; however, it still shows a bit of insight into the shifts from 2018 + 2018 and 2020 + 2021.\n",
    "* To get the more obvious difference out of the way, 2020 and 2021 has a higher relative frequency of health related terms than in 2017 and 2018. Words like 'pandemic', 'patients', 'fda, 'clinical', and 'outbreak' appear at higher rates than in the earlier years as a result of COVID. The words that appear in greater frequency in 2017 and 2018 are thus more tech related: 'blockchain', 'google', 'zte', 'internet', 'bitcoin', and the word 'technology' itself.\n",
    "\n",
    "* 'cooperation', 'forwardlooking', and 'independently' seem to be more positive words that appear earlier (17, 18), whereas 'exlcuding', and 'misses' in 2020 and 2021 hold a more negative undertone. \n",
    "    * there is a mix of potentially positive and negative words in the 2020 + 2021 list, but there is still a visible difference compared to 2017 + 2018 which is more positive/neutral"
   ]
  },
  {
   "cell_type": "markdown",
   "metadata": {},
   "source": [
    "### Keyness for 2017 vs. 2021"
   ]
  },
  {
   "cell_type": "code",
   "execution_count": 19,
   "metadata": {
    "scrolled": false
   },
   "outputs": [
    {
     "name": "stdout",
     "output_type": "stream",
     "text": [
      "WORD                     Corpus A Freq.Corpus B Freq.Keyness\n",
      "============================================================\n",
      "2017                     1622      862       3495.423\n",
      "2016                     1311      607       2996.710\n",
      "china                    6026      17828     2246.590\n",
      "corresponding            526       36        1834.363\n",
      "2015                     743       369       1649.434\n",
      "and                      30839     151577    1494.150\n",
      "internet                 1034      1393      1210.148\n",
      "blockchain               425       138       1103.287\n",
      "statements               710       687       1088.942\n",
      "industry                 1354      2564      1087.025\n",
      "chinese                  4702      16667     1083.862\n",
      "cooperation              554       410       1008.583\n",
      "bitcoin                  272       42        846.686\n",
      "weibo                    319       114       802.646\n",
      "forwardlooking           403       263       786.104\n",
      "investment               1040      2197      717.536\n",
      "steel                    359       229       708.614\n",
      "analyzed                 237       61        658.150\n",
      "chinas                   1530      4274      646.743\n",
      "includes                 639       1062      601.645\n",
      "reform                   337       258       601.527\n",
      "liu                      314       246       552.827\n",
      "information              1591      4882      544.407\n",
      "m2m                      146       5         538.024\n",
      "cuba                     170       24        537.741\n",
      "ltd                      364       378       530.189\n",
      "rights                   967       2377      522.705\n",
      "regulations              409       503       519.701\n",
      "independently            197       67        503.877\n",
      "development              1168      3232      503.563\n",
      "source                   472       703       500.513\n",
      "his                      1750      5766      498.940\n",
      "korea                    489       771       488.244\n",
      "contact                  447       654       482.707\n",
      "international            1180      3360      478.897\n",
      "years                    1384      4262      469.498\n",
      "future                   863       2163      450.564\n",
      "government               2693      10521     444.084\n",
      "online                   723       1666      436.054\n",
      "tax                      562       1107      428.101\n",
      "lattice                  122       9         422.125\n",
      "xi                       410       631       420.130\n",
      "fruit                    129       18        408.875\n",
      "sina                     131       20        408.631\n",
      "such                     1206      3744      401.101\n",
      "more                     2597      10326     399.880\n",
      "figures                  238       204       396.216\n",
      "police                   526       1060      388.273\n",
      "innovation               423       742       373.818\n",
      "sides                    235       217       372.355\n",
      "automotive               276       317       371.479\n",
      "animation                112       13        365.670\n",
      "mobile                   433       790       364.583\n",
      "rating                   213       177       361.664\n",
      "canyon                   134       40        356.919\n",
      "netease                  101       8         346.721\n",
      "cloud                    398       722       337.522\n",
      "exchange                 436       866       328.357\n",
      "north                    540       1243      326.245\n",
      "view                     409       786       322.051\n",
      "table                    481       1045      318.241\n",
      "robots                   157       98        313.341\n",
      "visit                    307       476       312.109\n",
      "education                350       610       311.714\n",
      "trends                   373       688       309.765\n",
      "oems                     118       37        309.670\n",
      "packet                   103       20        306.183\n",
      "human                    659       1785      296.757\n",
      "lawyers                  190       185       290.112\n",
      "they                     2357      9897      287.737\n",
      "promote                  238       310       287.371\n",
      "zk                       95        17        287.329\n",
      "smart                    301       498       284.867\n",
      "a                        16819     91771     284.208\n",
      "xiaobo                   89        12        283.740\n",
      "system                   747       2193      283.421\n",
      "overseas                 236       315       278.612\n",
      "systems                  640       1765      277.851\n",
      "nuclear                  199       219       277.191\n",
      "pollution                106       34        276.231\n",
      "enforcement              319       570       275.643\n",
      "bridge                   154       118       274.743\n",
      "dialogue                 154       120       272.011\n",
      "said                     2927      13007     270.071\n",
      "environmental            197       224       267.330\n",
      "in                       21348     118896    267.232\n",
      "baidu                    155       126       266.819\n",
      "cars                     209       259       263.815\n",
      "he                       2107      8798      263.801\n",
      "ms                       247       367       262.569\n",
      "rodgers                  84        13        261.367\n",
      "players                  239       354       254.884\n",
      "duties                   126       78        252.526\n",
      "holmes                   76        8         251.681\n",
      "archives                 72        5         250.717\n",
      "about                    2353      10168     250.673\n",
      "forum                    168       169       250.546\n",
      "inc                      460       1130      248.935\n",
      "nobel                    87        20        248.697\n",
      "topics                   187       218       248.627\n"
     ]
    }
   ],
   "source": [
    "## the frequency (keyness) of words that appear more often in 2017 articles than 2020 articles\n",
    "\n",
    "calculate_keyness(LN2017_word_dist, LN2020_word_dist)"
   ]
  },
  {
   "cell_type": "code",
   "execution_count": 20,
   "metadata": {
    "scrolled": false
   },
   "outputs": [
    {
     "name": "stdout",
     "output_type": "stream",
     "text": [
      "WORD                     Corpus A Freq.Corpus B Freq.Keyness\n",
      "============================================================\n",
      "sp                       19989     79        5171.172\n",
      "consensus                19371     59        5140.297\n",
      "vs                       15292     23        4252.162\n",
      "2020                     14596     132       3317.967\n",
      "capital                  19005     430       3181.423\n",
      "guidance                 10016     58        2467.865\n",
      "q1                       6761      9         1890.685\n",
      "eps                      6613      24        1726.129\n",
      "sees                     6643      27        1713.277\n",
      "expected                 11297     318       1677.374\n",
      "2019                     6252      23        1629.651\n",
      "q4                       5767      11        1583.175\n",
      "pandemic                 5154      16        1365.373\n",
      "per                      9159      300       1230.451\n",
      "reports                  10235     388       1228.270\n",
      "patients                 4998      35        1194.250\n",
      "dec                      4611      34        1091.672\n",
      "co                       8308      296       1048.236\n",
      "futures                  4247      44        935.703\n",
      "01                       3917      33        903.800\n",
      "last                     12611     766       892.262\n",
      "phase                    3944      37        889.335\n",
      "prior                    5139      113       872.290\n",
      "revenues                 6831      244       860.160\n",
      "items                    4272      61        860.011\n",
      "rose                     4474      78        839.311\n",
      "earnings                 7907      349       826.069\n",
      "share                    9824      530       818.783\n",
      "03                       3427      26        807.097\n",
      "excluding                4669      102       794.980\n",
      "march                    5843      188       794.933\n",
      "guides                   2979      9         791.069\n",
      "virus                    2832      5         780.916\n",
      "announces                3138      23        743.746\n",
      "fda                      2560      9         670.336\n",
      "clinical                 2874      27        647.855\n",
      "mar                      2373      5         647.440\n",
      "05                       2712      22        630.537\n",
      "04                       2771      25        630.230\n",
      "q2                       2392      8         629.367\n",
      "02                       3019      40        622.137\n",
      "et                       2670      29        581.382\n",
      "fell                     3223      63        577.094\n",
      "index                    3734      110       538.889\n",
      "06                       2334      22        525.736\n",
      "outbreak                 1913      5         514.055\n",
      "april                    5030      235       495.678\n",
      "quarter                  8259      558       491.800\n",
      "huawei                   3347      97        488.072\n",
      "above                    3400      105       475.754\n",
      "increased                4779      225       467.084\n",
      "trial                    3095      89        453.534\n",
      "approximately            3466      122       441.440\n",
      "expects                  3124      96        438.585\n",
      "07                       2123      28        438.099\n",
      "500                      3336      114       434.523\n",
      "average                  3791      153       430.960\n",
      "09                       1855      16        425.946\n",
      "adjusted                 2183      35        422.490\n",
      "announced                6859      466       404.451\n",
      "week                     6035      381       402.347\n",
      "january                  3534      151       381.082\n",
      "below                    2976      107       372.815\n",
      "dividend                 1946      35        360.635\n",
      "001                      1479      10        355.542\n",
      "down                     6773      492       352.549\n",
      "approx                   1526      14        345.806\n",
      "5g                       2067      47        345.166\n",
      "fair                     3095      131       336.754\n",
      "sales                    7683      609       332.400\n",
      "treatment                3324      154       330.479\n",
      "todays                   1934      43        326.527\n",
      "yield                    1733      30        325.994\n",
      "impact                   4309      250       325.842\n",
      "worse                    1627      27        310.963\n",
      "closed                   2485      92        304.094\n",
      "weeks                    2826      122       301.729\n",
      "points                   2932      132       300.281\n",
      "q3                       1316      12        298.616\n",
      "update                   2332      83        294.468\n",
      "12                       3704      209       291.048\n",
      "better                   5003      343       290.286\n",
      "ebitda                   1499      24        290.255\n",
      "upside                   1259      11        288.314\n",
      "downside                 1193      8         287.189\n",
      "volume                   2504      101       284.801\n",
      "decreased                1508      26        284.108\n",
      "002                      1296      14        282.588\n",
      "temporary                1275      14        276.856\n",
      "health                   4597      309       276.195\n",
      "18                       2400      97        272.481\n",
      "downgraded               1544      32        269.411\n",
      "disease                  1661      40        269.379\n",
      "february                 2621      120       263.832\n",
      "cap                      1348      21        263.551\n",
      "therapy                  1184      12        262.248\n",
      "13                       2751      134       259.038\n",
      "liquidity                1241      16        257.829\n",
      "004                      1066      7         257.517\n",
      "neutral                  1304      20        256.331\n"
     ]
    }
   ],
   "source": [
    "## the frequency (keyness) of words that appear more often in 2020 articles than 2017 articles\n",
    "\n",
    "calculate_keyness(LN2020_word_dist, LN2017_word_dist)"
   ]
  },
  {
   "cell_type": "markdown",
   "metadata": {},
   "source": [
    "**Observations**:\n",
    "* Isolating just the two years (2017, 2020) reflect similar results as the analysis prior.\n",
    "    * Coverage on the pandemic invades a lot of the 2020 articles since it seems impossible to speak on COVID without mentioning China or its government."
   ]
  },
  {
   "cell_type": "markdown",
   "metadata": {},
   "source": [
    "---"
   ]
  }
 ],
 "metadata": {
  "kernelspec": {
   "display_name": "Python 3",
   "language": "python",
   "name": "python3"
  },
  "language_info": {
   "codemirror_mode": {
    "name": "ipython",
    "version": 3
   },
   "file_extension": ".py",
   "mimetype": "text/x-python",
   "name": "python",
   "nbconvert_exporter": "python",
   "pygments_lexer": "ipython3",
   "version": "3.7.3"
  }
 },
 "nbformat": 4,
 "nbformat_minor": 2
}

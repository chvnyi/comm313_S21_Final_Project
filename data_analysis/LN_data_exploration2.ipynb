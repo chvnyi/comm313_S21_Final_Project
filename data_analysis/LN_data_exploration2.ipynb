{
 "cells": [
  {
   "cell_type": "markdown",
   "metadata": {},
   "source": [
    "# Data Exploration (2):\n",
    "## KWIC Analyses\n",
    "* This notebook focuses on observing the KWIC analysis got a select words gathered from the frequency list or from my own prior knowledge surrounding the coverage of China in the media.\n",
    "    * split between two notebooks\n",
    "\n",
    "\n",
    "---"
   ]
  },
  {
   "cell_type": "markdown",
   "metadata": {},
   "source": [
    "### Setup\n",
    "* includes additional modules, functions, and chars_to_strip"
   ]
  },
  {
   "cell_type": "code",
   "execution_count": 1,
   "metadata": {},
   "outputs": [],
   "source": [
    "import json\n",
    "from collections import Counter\n",
    "import random\n",
    "import os\n",
    "import re\n",
    "import math\n",
    "import pandas as pd\n",
    "import numpy as np\n",
    "import matplotlib.pyplot as plt\n",
    "import seaborn as sn\n",
    "import graphviz"
   ]
  },
  {
   "cell_type": "code",
   "execution_count": 2,
   "metadata": {},
   "outputs": [],
   "source": [
    "%run functions.ipynb"
   ]
  },
  {
   "cell_type": "code",
   "execution_count": 3,
   "metadata": {},
   "outputs": [],
   "source": [
    "chars_to_remove = '!\"#$%&\\'()*+,-./:;<=>?@[\\\\]^_`{|}~•'"
   ]
  },
  {
   "cell_type": "markdown",
   "metadata": {},
   "source": [
    "## 1. Load data"
   ]
  },
  {
   "cell_type": "code",
   "execution_count": 4,
   "metadata": {},
   "outputs": [],
   "source": [
    "LN2017 = json.load(open('../data/LN_data/cleaned/LN_2017.json'))\n",
    "LN2018 = json.load(open('../data/LN_data/cleaned/LN_2018.json'))\n",
    "LN2019 = json.load(open('../data/LN_data/cleaned/LN_2019.json'))\n",
    "LN2020 = json.load(open('../data/LN_data/cleaned/LN_2020.json'))\n",
    "LN2021 = json.load(open('../data/LN_data/cleaned/LN_2021.json'))"
   ]
  },
  {
   "cell_type": "code",
   "execution_count": 5,
   "metadata": {},
   "outputs": [],
   "source": [
    "all_word_dist = Counter()\n",
    "\n",
    "for doc in LN2017 + LN2018 + LN2019 + LN2020 + LN2021:\n",
    "    text = doc['body']\n",
    "    tokens = tokenize(text, lowercase=True, strip_chars=chars_to_remove)\n",
    "    all_word_dist.update(tokens)"
   ]
  },
  {
   "cell_type": "markdown",
   "metadata": {},
   "source": [
    "## 1. KWIC \n",
    "* using the list of words from `LN_data_exploration1`, I performed several KWIC analyses to gather more insight on the words. "
   ]
  },
  {
   "cell_type": "markdown",
   "metadata": {},
   "source": [
    "### KWIC on 'bartiromo'\n",
    "* doublechecking context for this word (last name) as I'm unfamiliar with it since it appears so often"
   ]
  },
  {
   "cell_type": "code",
   "execution_count": 6,
   "metadata": {},
   "outputs": [],
   "source": [
    "all_kwic_bartiromo = []\n",
    "\n",
    "for doc in LN2017 + LN2018 + LN2019 + LN2020 + LN2021:\n",
    "    text = doc['body']\n",
    "    tokens = tokenize(text, lowercase=True, strip_chars=chars_to_remove)\n",
    "    kwic = make_kwic('bartiromo', tokens)\n",
    "    all_kwic_bartiromo.extend(kwic)"
   ]
  },
  {
   "cell_type": "code",
   "execution_count": 7,
   "metadata": {},
   "outputs": [
    {
     "data": {
      "text/plain": [
       "15510"
      ]
     },
     "execution_count": 7,
     "metadata": {},
     "output_type": "execute_result"
    }
   ],
   "source": [
    "len(all_kwic_bartiromo)"
   ]
  },
  {
   "cell_type": "code",
   "execution_count": 8,
   "metadata": {},
   "outputs": [
    {
     "name": "stdout",
     "output_type": "stream",
     "text": [
      "                                          bartiromo  fbn host good morning\n",
      "                 with no air conditioner  bartiromo  not good mcdowell theyre\n",
      "                    a lot more expensive  bartiromo  yes youre right freeman\n",
      "                  thank you good morning  bartiromo  so much to unpack\n",
      "                  was still a republican  bartiromo  thats right dagen mcdowell\n",
      "             property varney thats right  bartiromo  but i just im\n",
      "                       by his legal team  bartiromo  yes mcdowell and he\n",
      "                   suspect also that the  bartiromo  i know ray attorney\n",
      "                and easier deangelis yes  bartiromo  jackie thank you so\n",
      "                you listen simonetti yes  bartiromo  because this is the\n"
     ]
    }
   ],
   "source": [
    "all_kwic_bartiromo_s1 = random.sample(all_kwic_bartiromo, 10)\n",
    "all_kwic_bartiromo_s1 = sort_kwic(all_kwic_bartiromo_s1, 'L1')\n",
    "print_kwic(all_kwic_bartiromo_s1)"
   ]
  },
  {
   "cell_type": "markdown",
   "metadata": {},
   "source": [
    "**Observations**:\n",
    "(As this isn't a main part of my analysis, I limited it to 10 results to take up less space)\n",
    "* My assumption was correct; it's referring to Maria Batiromo, a journalist and Fox News anchor who speaks about her \"takes\" on China on Fox News and in her latest book \"The Cost.\"\n",
    "    * Bartriomo: on Fox News, sees China as an enemy --> not a surprising conclusion"
   ]
  },
  {
   "cell_type": "markdown",
   "metadata": {},
   "source": [
    "### KWIC of 'china'"
   ]
  },
  {
   "cell_type": "code",
   "execution_count": 9,
   "metadata": {},
   "outputs": [],
   "source": [
    "all_kwic_china = []\n",
    "\n",
    "for doc in LN2017 + LN2018 + LN2019 + LN2020 + LN2021:\n",
    "    text = doc['body']\n",
    "    tokens = tokenize(text, lowercase=True, strip_chars=chars_to_remove)\n",
    "    kwic = make_kwic('china', tokens)\n",
    "    all_kwic_china.extend(kwic)"
   ]
  },
  {
   "cell_type": "code",
   "execution_count": 10,
   "metadata": {},
   "outputs": [
    {
     "data": {
      "text/plain": [
       "61399"
      ]
     },
     "execution_count": 10,
     "metadata": {},
     "output_type": "execute_result"
    }
   ],
   "source": [
    "len(all_kwic_china)"
   ]
  },
  {
   "cell_type": "code",
   "execution_count": 11,
   "metadata": {
    "scrolled": true
   },
   "outputs": [
    {
     "name": "stdout",
     "output_type": "stream",
     "text": [
      "                                          china  refuted the explosive claims\n",
      "                    fcc priority in 2011  china  mobile usa which is\n",
      "                     30 stake in allianz  china  general insurance becoming the\n",
      "               human capital has allowed  china  to better realize the\n",
      "                      between the us and  china  saying the motivation was\n",
      "                   the united states and  china  are still building also\n",
      "         asiapacific excluding japan and  china  middle east latin america\n",
      "                    countries the us and  china  are not the only\n",
      "                   the united states and  china  the infrastructure programme is\n",
      "                stock market or angering  china  by calling too much\n",
      "                 estate progress such as  china  overseas 267 was more\n",
      "                   downgraded to hold at  china  renaissance posts alltime lows\n",
      "                while throwing stones at  china  shirk said that as\n",
      "             security law implemented by  china  in hong kong has\n",
      "              in australia brazil canada  china  the eu mexico ukraine\n",
      "          appropriate measures to ensure  china  does not abuse hong\n",
      "                  us canada japan europe  china  asiapacific excluding japan and\n",
      "             companies doing business in  china  to reveal links to\n",
      "                are massive shortages in  china  they want all of\n",
      "                 and consulates based in  china  delegates highlighted the need\n",
      "                   stop playing games in  china  too bad this isnt\n",
      "             why abduleheds relatives in  china  deleted her from their\n",
      "               advancements in health in  china  but they havent focused\n",
      "            is runofthemill governing in  china  as we saw with\n",
      "                    its tech industry in  china  you are dealing with\n",
      "                            20 a year in  china  vs 5 in the\n",
      "                     will be packaged in  china  anyone else with me”\n",
      "                     his dear friends in  china  a happy lunar new\n",
      "          morning post report indicating  china  wont buy agricultural goods\n",
      "                    the second factor is  china  where the move to\n",
      "                  on the session keeping  china  from getting your information\n",
      "              became reliant on mainland  china  shaking the foundation of\n",
      "          explored hoovers unique modern  china  collections and evaluated how\n",
      "                      point in 28 months  china  is cooling and the\n",
      "                    full week of october  china  reportedly granted new waivers\n",
      "                           not a part of  china  if china continues to\n",
      "               election cracking down on  china  has been one of\n",
      "                 as an adversarial power  china  cannot be allowed to\n",
      "         another state media publication  china  daily said in an\n",
      "            case received wide publicity  china  routinely dismisses attempts by\n",
      "                   bln 65 yryr regarding  china  tariffs the company said\n",
      "                dpi by geographic region  china  india and rest of\n",
      "              public policy center since  china  first reported an atypical\n",
      "   according to mastercard spendingpulse  china  purchased 256 million tons\n",
      "           front bloomberg reported that  china  is more reluctant to\n",
      "                      china us well then  china  bartiromo welcome back we\n",
      "           everybody expecting from this  china  meeting october 10th the\n",
      "                 rights but according to  china  its not because its\n",
      "                        all goes back to  china  long term we have\n",
      "    his pressureboosting strategy toward  china  trump gave tiktok an\n"
     ]
    }
   ],
   "source": [
    "all_kwic_china_s1 = random.sample(all_kwic_china, 50)\n",
    "all_kwic_china_s1 = sort_kwic(all_kwic_china_s1, 'L1')\n",
    "print_kwic(all_kwic_china_s1)"
   ]
  },
  {
   "cell_type": "markdown",
   "metadata": {},
   "source": [
    "**Observations**: \n",
    "* 'china' is always used in the same definition (as the country and not 'fine china'/'porcelain')\n",
    "* Looking at a random sample for 'china', there isn't a strong sense of contempt or pity as they seem to be related to a wide array of emotions and topics. However, this is not unexpected since this one of my most common and broader terms within the dataset (there are 61,399 instances of 'china'). While there appears to negativity within the list, it seems more nitpicky in this cases instead of apparent examples of articles contributing to sinophobia. Of course, KWIC lists only show a small portion of the article so it's hard to tell if the entire article is harmful or not, but just by this alone, it's difficult to say. A collocation analysis may provide more insights."
   ]
  },
  {
   "cell_type": "markdown",
   "metadata": {},
   "source": [
    "### KWIC of 'goverment' "
   ]
  },
  {
   "cell_type": "code",
   "execution_count": 12,
   "metadata": {},
   "outputs": [],
   "source": [
    "all_kwic_gov = []\n",
    "\n",
    "for doc in LN2017 + LN2018 + LN2019 + LN2020 + LN2021:\n",
    "    text = doc['body']\n",
    "    tokens = tokenize(text, lowercase=True, strip_chars=chars_to_remove)\n",
    "    kwic = make_kwic('government', tokens)\n",
    "    all_kwic_gov.extend(kwic)"
   ]
  },
  {
   "cell_type": "code",
   "execution_count": 13,
   "metadata": {},
   "outputs": [
    {
     "data": {
      "text/plain": [
       "30463"
      ]
     },
     "execution_count": 13,
     "metadata": {},
     "output_type": "execute_result"
    }
   ],
   "source": [
    "len(all_kwic_gov)"
   ]
  },
  {
   "cell_type": "code",
   "execution_count": 14,
   "metadata": {
    "scrolled": true
   },
   "outputs": [
    {
     "name": "stdout",
     "output_type": "stream",
     "text": [
      "                        to 2025 table 10  government  enduser market share breakdown\n",
      "                   private sector with a  government  that plans and executes\n",
      "               including us military and  government  employees with highlevel security\n",
      "            chinese culture business and  government  williams said the trip\n",
      "     cooperation and partnership between  government  law enforcement and private\n",
      "                forced to choose between  government  funding and highquality costeffective\n",
      "               guidance from the central  government  to go abroad seeking\n",
      "                     ties to the chinese  government  an accusation the company\n",
      "                   work with the chinese  government  is a false statement\n",
      "                     us says the chinese  government  blurs the lines between\n",
      "                   behalf of the chinese  government  and they should not\n",
      "            throughout china the chinese  government  should immediately shut down\n",
      "                      in sum the chinese  government  is taking an alltools\n",
      "             associated with the chinese  government  nathaniel gleicher facebooks head\n",
      "            prominence since the chinese  government  took steps to make\n",
      "                   doing to what chinese  government  inaudible bartiromo yes no\n",
      "              easing efforts the chinese  government  reiterated its support hong\n",
      "                    in which the chinese  government  continues to exploit our\n",
      "                    asked by the chinese  government  to remove any content\n",
      "                  the matter the chinese  government  has recently strengthened control\n",
      "                 financed by the chinese  government  due to a bid\n",
      "                  to support the chinese  government  in the deep water\n",
      "       laboratories although the chinese  government  has denies this its\n",
      "                agency says that chinese  government  offices have access to\n",
      "                    site but the chinese  government  appears to be holding\n",
      "                     june 15 the chinese  government  warned sunday it would\n",
      "                    a report the chinese  government  has called on the\n",
      "              that the current coalition  government  will serve its full\n",
      "                to the chinese communist  government  ive introduced harsh sanctions\n",
      "                   action by the federal  government  through hhs to support\n",
      "                   action by the federal  government  through hhs to support\n",
      "                   edge enable a foreign  government  to utilize digital spying\n",
      "         commended president jinping his  government  and people for successfully\n",
      "    coronavirus restrictions the italian  government  has reportedly requested eur222\n",
      "                   office said the local  government  and police were fully\n",
      "                     ties to the russian  government  these concerns are compounded\n",
      "                     critic of the srags  government  management it has forced\n",
      "                         in china as the  government  raised pressure on shoe\n",
      "             sunday mornings hearing the  government  argued that measures to\n",
      "                   and cleaner ovens the  government  will keep cracking down\n",
      "              peacefully welcomed by the  government  and people of cuba\n",
      "              demonstrators but said the  government  would carry on with\n",
      "     discussing private negotiations the  government  on saturday delayed a\n",
      "                        just one way the  government  has closely monitored the\n",
      "                freedom to criticize the  government  what it does badly\n",
      "                 what biometric data the  government  holds on them technology\n",
      "               among americans for their  government  there is no national\n",
      "              infrastructure cpni the uk  government  authority for protective security\n",
      "           american companies without us  government  approval the us extended\n",
      "            cybersecurity issues the usa  government  went after the popular\n"
     ]
    }
   ],
   "source": [
    "all_kwic_gov_s1 = random.sample(all_kwic_gov, 50)\n",
    "all_kwic_gov_s1 = sort_kwic(all_kwic_gov_s1, 'L1')\n",
    "print_kwic(all_kwic_gov_s1)"
   ]
  },
  {
   "cell_type": "markdown",
   "metadata": {},
   "source": [
    "**Observations**:\n",
    "* 'government' shows a much more interesting sample. By looking at the first few examples and running the cell over again to receive different random samples, words and phrases such as \"contempt\", \"crack down\", \"detention facilities\", \"monitoring\", and \"vulnerabilities\" appear as additional context for 'government.' \n",
    "    * Additional samples also display clear mentions of China's government as \"weak\", \"stringent\", and \"communist\" also appear. \n",
    "* Based on my first analysis, it was noted that there didn't seem to be any outward feelings of negativity towards Chinese people, but it's much easier for news media to criticize the Chinese government instead. For starters, this seems to be a better alternative and not harmful. Yet, the jump from criticizing the government to the people isn't very far; even if it isn't a conscious connection, negative assumptions about the government will lead to negative assumptions about the people. In history, there are several examples of this broad categorization with the most relevant one in ASAM history being the reason America established internment camps for Japanese Americans."
   ]
  },
  {
   "cell_type": "markdown",
   "metadata": {},
   "source": [
    "### KWIC of 'control'"
   ]
  },
  {
   "cell_type": "code",
   "execution_count": 15,
   "metadata": {},
   "outputs": [],
   "source": [
    "all_kwic_control = []\n",
    "\n",
    "for doc in LN2017 + LN2018 + LN2019 + LN2020 + LN2021:\n",
    "    text = doc['body']\n",
    "    tokens = tokenize(text, lowercase=True, strip_chars=chars_to_remove)\n",
    "    kwic = make_kwic('control', tokens)\n",
    "    all_kwic_control.extend(kwic)"
   ]
  },
  {
   "cell_type": "code",
   "execution_count": 16,
   "metadata": {},
   "outputs": [
    {
     "data": {
      "text/plain": [
       "4960"
      ]
     },
     "execution_count": 16,
     "metadata": {},
     "output_type": "execute_result"
    }
   ],
   "source": [
    "len(all_kwic_control)"
   ]
  },
  {
   "cell_type": "code",
   "execution_count": 17,
   "metadata": {
    "scrolled": true
   },
   "outputs": [
    {
     "name": "stdout",
     "output_type": "stream",
     "text": [
      "              submarines and command and  control  he said we expect\n",
      "            maritime risk management and  control  while esper according to\n",
      "              and application payers can  control  their home appliances payers\n",
      "                 are beyond the companys  control  which may cause the\n",
      "                 are beyond the companys  control  which may cause the\n",
      "             braking and adaptive cruise  control  highly autonomous vehiclesin other\n",
      " addressing chinese government direction  control  and subsidization of chinese\n",
      "                   great wall of disease  control  has been put in\n",
      "                 the centers for disease  control  and prevention says an\n",
      "        agencies the manufacturer doesnt  control  the cyber components it\n",
      "                    its efforts to exert  control  at home and expand\n",
      "divisions counterintelligence and export  control  section the criminal divisions\n",
      "          panopto which allows finegrain  control  limiting access to those\n",
      "                       from the phase ii  control  trial in the fourth\n",
      "                            you to be in  control  of your business bartiromo\n",
      "          to implement total information  control  the report also notes\n",
      "               analysis 5 global machine  control  system market by equipment\n",
      "                 would boost the machine  control  system market growth moreover\n",
      "                   brussels has far more  control  over what facebook does\n",
      "                       sale or change of  control  transaction 1655 bxp boston\n",
      "                 subject to direction or  control  by the communist party\n",
      "                    those who develop or  control  connected software applications in\n",
      "                    the end customers or  control  key parts of the\n",
      "             subject to chinas ownership  control  or influence the energy\n",
      "       has imposed nationwide quarantine  control  and travel restrictions due\n",
      "       has imposed nationwide quarantine  control  and travel restrictions due\n",
      "                    a phase 3 randomized  control  trial rct enhance to\n",
      "            believe that this represents  control  of society these two\n",
      "                    wants to retain some  control  over content moderation and\n",
      "                program and a supporting  control  framework they were not\n",
      "                 with entities under the  control  of the government of\n",
      "              dipyrone injection for the  control  of pyrexia fever in\n",
      "              dipyrone injection for the  control  of pyrexia fever in\n",
      "                    which are beyond the  control  of zk international actual\n",
      "                           vs 549 in the  control  group achieving both noninferiority\n",
      "            communications who use their  control  over access or marketplaces\n",
      "                largely have under their  control  through the government and\n",
      "                of the governments tight  control  over religion and calling\n",
      "                of the governments tight  control  over religion and calling\n",
      "               center starting sunday to  control  the flow of people\n",
      "         stealing american technology to  control  its own people and\n",
      "                     that its ability to  control  their private data he\n",
      "               the countrys officials to  control  what people see and\n",
      "                           to be able to  control  the internet commercial openings\n",
      "                     get the virus under  control  said nyt analysts steven\n",
      "                 their debt ratios under  control  reserve bank of new\n",
      "                      the virus is under  control  businesses will reopen and\n",
      "                      of wuhan was under  control  according to beijings official\n",
      "               compared to the untreated  control  group 0843 wires on\n",
      "               compared to the untreated  control  and metformin groups both\n"
     ]
    }
   ],
   "source": [
    "all_kwic_control_s1 = random.sample(all_kwic_control, 50)\n",
    "all_kwic_control_s1 = sort_kwic(all_kwic_control_s1, 'L1')\n",
    "print_kwic(all_kwic_control_s1)"
   ]
  },
  {
   "cell_type": "markdown",
   "metadata": {},
   "source": [
    "### KWIC of 'freedom'"
   ]
  },
  {
   "cell_type": "code",
   "execution_count": 18,
   "metadata": {},
   "outputs": [],
   "source": [
    "all_kwic_freedom = []\n",
    "\n",
    "for doc in LN2017 + LN2018 + LN2019 + LN2020 + LN2021:\n",
    "    text = doc['body']\n",
    "    tokens = tokenize(text, lowercase=True, strip_chars=chars_to_remove)\n",
    "    kwic = make_kwic('freedom', tokens)\n",
    "    all_kwic_freedom.extend(kwic)"
   ]
  },
  {
   "cell_type": "code",
   "execution_count": 19,
   "metadata": {
    "scrolled": true
   },
   "outputs": [
    {
     "name": "stdout",
     "output_type": "stream",
     "text": [
      "                                          freedom  house issued the following\n",
      "                                          freedom  support hong kong those\n",
      "            their commitment to academic  freedom  to uphold the principle\n",
      "                the precepts of academic  freedom  and threatens global scholarly\n",
      "                  of speech and academic  freedom  wednesdays gao report studied\n",
      "              write respect for academic  freedom  and other human rights\n",
      "                  of speech and academic  freedom  wednesdays gao report studied\n",
      "                  said that the academic  freedom  in the us is\n",
      "      cyber operation codenamed airborne  freedom  and launched by the\n",
      "          our behaviors connectivity and  freedom  the extent to which\n",
      "                     freedom no pain and  freedom  from the most bothersome\n",
      "              freedom of association and  freedom  of thought isnt that\n",
      "                     freedom no pain and  freedom  from the most bothersome\n",
      "               freedom of expression and  freedom  of communication its an\n",
      "            demand legal recognition and  freedom  from state interference in\n",
      "                trample human rights and  freedom  for their own people\n",
      "               states respects the broad  freedom  private companies have in\n",
      "       undermine democracy washington dc  freedom  house 2018 85 charlie\n",
      "                     that said fight for  freedom  stand with hong kong\n",
      "                  hong kong protests for  freedom  against china after this\n",
      "                both companies will have  freedom  to advance therapeutic candidates\n",
      "                   the forum on internet  freedom  in africahave been transformative\n",
      "                      daily has lost its  freedom  to seek and disseminate\n",
      "                 crackdown on hong kongs  freedom  google facebook and twitter\n",
      "                 crackdown on hong kongs  freedom  google facebook and twitter\n",
      "            between suppression of media  freedom  in response to the\n",
      "                    second claim of more  freedom  muchpublicized rights violations are\n",
      "                violated its promises of  freedom  expression in censoring a\n",
      "                  monitors the status of  freedom  around the world and\n",
      "              eliminating any glimpse of  freedom  selfdetermination or cultural expression\n",
      "                         do it again our  freedom  depends on it 1\n",
      "                       and put their own  freedom  at risk even if\n",
      "              regime is without parallel  freedom  houses 2017 freedom on\n",
      "             stifling hong kong people’s  freedom  on the internet” she\n",
      "             concern about limited press  freedom  in china xis policies\n",
      "                     its impact on press  freedom  in the former colony\n",
      "       their organs supporting religious  freedom  is fundamental to who\n",
      "       universal principles of religious  freedom  and human rights for\n",
      "               they care about religious  freedom  for all faith groups\n",
      "  ambassador for international religious  freedom  bars them from the\n",
      "       large for international religious  freedom  sam brownback said he\n",
      "                       fold over for the  freedom  and rights of what\n",
      "        citizens for decadeseffacing the  freedom  baked into the moral\n",
      "                    their data and their  freedom  of expression is under\n",
      "              willing to sacrifice their  freedom  to promote change and\n",
      "                        of the rights to  freedom  of expression and privacy\n",
      "                according to rsf usbased  freedom  house had also spoken\n",
      "   from usbased freedomofspeech watchdog  freedom  house as the ruling\n",
      "                   seen as teaching what  freedom  of expression means on\n",
      "                       the last 40 years  freedom  of speech for intellectuals\n"
     ]
    }
   ],
   "source": [
    "all_kwic_freedom_s1 = random.sample(all_kwic_freedom, 50)\n",
    "all_kwic_freedom_s1 = sort_kwic(all_kwic_freedom_s1, 'L1')\n",
    "print_kwic(all_kwic_freedom_s1)"
   ]
  },
  {
   "cell_type": "markdown",
   "metadata": {},
   "source": [
    "**Observations**:\n",
    "* Unlike the rest of the words in this analysis, the context for 'control' is more obviously negative. Whether it's criticizing government practices (\"a wider government move to tighten control over freedom of expression said human\", \"pathology of the chinese government to control the narratives of the country both\", \"a wider government move to tighten control over freedom of expression said human\") or internet policies (\"theres no doubt about it their control over the internet is going to\", \"over the domestic internet and closely control what information may be accessed by\", \"heralding a new era of state control over the mobile web starting on\"), the random sample seems to serve the main purpose of inciting fear and perpetuating the image of a tight/restrictive communist regime. \n",
    "* While seemingly innocent, stories of \"controlling\" governments and instances of a \"lack of freedom\" especially resonate with American readers who are very sensitive to and passionate about protecting their rights. The choice to use \"freedom\" is deliberate and intentional. This directly fuels the belief that the West is \"superior\" to the \"inferior, less progressive\" East who needs the help of the West to liberate them with the knowledge of the \"real news\" instead of the communist propaganda the Chinese government has been feeding them. But every country provides propaganda. It just happens to be that this narrative of China as a \"threat\" is more widespread (even outside of the States) and constantly in our faces that people accept it as fact. After all, everyone is saying the same thing, so shouldn't the information be true?"
   ]
  },
  {
   "cell_type": "markdown",
   "metadata": {},
   "source": [
    "### KWIC of 'communist'"
   ]
  },
  {
   "cell_type": "code",
   "execution_count": 20,
   "metadata": {},
   "outputs": [],
   "source": [
    "all_kwic_comm = []\n",
    "\n",
    "for doc in LN2017 + LN2018 + LN2019 + LN2020 + LN2021:\n",
    "    text = doc['body']\n",
    "    tokens = tokenize(text, lowercase=True, strip_chars=chars_to_remove)\n",
    "    kwic = make_kwic('communist', tokens)\n",
    "    all_kwic_comm.extend(kwic)"
   ]
  },
  {
   "cell_type": "code",
   "execution_count": 21,
   "metadata": {},
   "outputs": [
    {
     "data": {
      "text/plain": [
       "4427"
      ]
     },
     "execution_count": 21,
     "metadata": {},
     "output_type": "execute_result"
    }
   ],
   "source": [
    "len(all_kwic_comm)"
   ]
  },
  {
   "cell_type": "code",
   "execution_count": 22,
   "metadata": {
    "scrolled": true
   },
   "outputs": [
    {
     "name": "stdout",
     "output_type": "stream",
     "text": [
      "                                          communist  party is stepping up\n",
      "                  the podium before 2300  communist  party delegates to deliver\n",
      "          location and internet activity  communist  china uses millions of\n",
      "               line even more alarmingly  communist  party cells have reportedly\n",
      "              the chinese government and  communist  partys efforts to undermine\n",
      "               on chinese government and  communist  party officials it believes\n",
      "               industry strategy seen by  communist  leaders as a path\n",
      "                referring to the chinese  communist  party by its initials\n",
      "                     the ccp the chinese  communist  party forbes im shocked\n",
      "               companies and the chinese  communist  party dagen mcdowell fbn\n",
      "                     used by the chinese  communist  party this is not\n",
      "        modernday xi jinpinglead chinese  communist  party pose to the\n",
      "                    reach of the chinese  communist  partys censors and law\n",
      "                  and the ruling chinese  communist  party in beijing had\n",
      "         software from potential chinese  communist  party control is completely\n",
      "             inexcusable and the chinese  communist  party and government must\n",
      "               the regulator the chinese  communist  party has demonstrated the\n",
      "                combat zones the chinese  communist  party has a goal\n",
      "         and unconditionally the chinese  communist  party again showed that\n",
      "                     to feed the chinese  communist  partys insatiable hunger for\n",
      "                 bidding for the chinese  communist  party i mean nancy\n",
      "              government and the chinese  communist  party distinctions between civilian\n",
      "                    to allow the chinese  communist  party to access americans\n",
      "                   linked to the chinese  communist  party ccp by canterbury\n",
      "                 could allow the chinese  communist  party access to americans\n",
      "               spokesman for the chinese  communist  party arguing that he\n",
      "         distinguish between the chinese  communist  party and chinese people\n",
      "               your meeting with chinese  communist  party general secretary and\n",
      "          physically attacked by chinese  communist  party supporters during a\n",
      "                  members of the chinese  communist  party3 censored content at\n",
      "                       data true to form  communist  officials have threatened imprisonment\n",
      "                  for those suffering in  communist  china the legacy of\n",
      "                        on china and its  communist  partys missteps bremmer well\n",
      "                      also hope you know  communist  china did not abide\n",
      "        also generously praised lowlevel  communist  party cadres frontline health\n",
      "        by chinas authoritarian oneparty  communist  government his seizure came\n",
      "                 proposed trip china the  communist  party said that the\n",
      "                   those dictated by the  communist  party on sensitive issues\n",
      "                   the crackdown set the  communist  party on a path\n",
      "                reporters last month the  communist  partys united front uses\n",
      "                 transparency in how the  communist  nation funds nondefense ai\n",
      "              the chinese government the  communist  chinese government poses the\n",
      "                         the face of the  communist  party with web restrictions\n",
      "                   company linked to the  communist  regime and a frequent\n",
      "                  from peoples daily the  communist  partys official newspaper and\n",
      "                        in charge of the  communist  partys organization department of\n",
      "                    well as material the  communist  party might prefer you\n",
      "                  the secretariat of the  communist  party of china” warns\n",
      "                      just say no theyre  communist  you need to remember\n",
      "                    stole what it wanted  communist  leaders deflected demands for\n"
     ]
    }
   ],
   "source": [
    "all_kwic_comm_s1 = random.sample(all_kwic_comm, 50)\n",
    "all_kwic_comm_s1 = sort_kwic(all_kwic_comm_s1, 'L1')\n",
    "print_kwic(all_kwic_comm_s1)"
   ]
  },
  {
   "cell_type": "markdown",
   "metadata": {},
   "source": [
    "**Observations**:\n",
    "* The inclusion of 'communist' especially alongside 'chinese' to form 'chinese communist party' is also a deliberate choice to draw on the Western fears of decades of propaganda. Dating back to [McCarthyism and the Red Scare](https://millercenter.org/the-presidency/educational-resources/age-of-eisenhower/mcarthyism-red-scare) during the 1950s in America, the word itself as always been negatively associated.  "
   ]
  },
  {
   "cell_type": "markdown",
   "metadata": {},
   "source": [
    "### KWIC of 'but'\n",
    "* 'but' is a coordinating conjunction specifically used to connect two ideas that contrast\n",
    "    * I thought it was an interesting word to look at due to the fact that it appeared very often among the LN articles and could indicate this type of sentence structure:\n",
    "        * positive first half *but* ends the sentence negatively\n",
    "        * disguising something negative as something positive"
   ]
  },
  {
   "cell_type": "code",
   "execution_count": 23,
   "metadata": {},
   "outputs": [],
   "source": [
    "all_kwic_but = []\n",
    "\n",
    "for doc in LN2017 + LN2018 + LN2019 + LN2020 + LN2021:\n",
    "    text = doc['body']\n",
    "    tokens = tokenize(text, lowercase=True, strip_chars=chars_to_remove)\n",
    "    kwic = make_kwic('but', tokens)\n",
    "    all_kwic_but.extend(kwic)"
   ]
  },
  {
   "cell_type": "code",
   "execution_count": 24,
   "metadata": {},
   "outputs": [
    {
     "data": {
      "text/plain": [
       "38656"
      ]
     },
     "execution_count": 24,
     "metadata": {},
     "output_type": "execute_result"
    }
   ],
   "source": [
    "len(all_kwic_but)"
   ]
  },
  {
   "cell_type": "code",
   "execution_count": 25,
   "metadata": {
    "scrolled": true
   },
   "outputs": [
    {
     "name": "stdout",
     "output_type": "stream",
     "text": [
      "               lower in overnight action  but  the market has since\n",
      "                   one person to another  but  they dont know contagious\n",
      "              floyd was resisting arrest  but  there is a new\n",
      "             outbreak originated in bats  but  the way the virus\n",
      "                    that they can change  but  they need to change\n",
      "            which certainly rivals china  but  were in a moment\n",
      "               blocked in mainland china  but  users can access it\n",
      "          jurisdiction of this committee  but  they could also benefit\n",
      "              from the rutgers community  but  from people around the\n",
      "             by chinese parent companies  but  they have different histories\n",
      "           patterns which are continuing  but  the current situation has\n",
      "                   as a separate country  but  with the shift in\n",
      "                     so its pretty crazy  but  i mean even what\n",
      "                        for a trade deal  but  some investors are leaning\n",
      "      down that produces dissatisfaction  but  attraction at the same\n",
      "                presidents heart and ear  but  treasury secretary steve mnuchin\n",
      "       subscribers inline with estimates  but  eps below as content\n",
      "          pfizer beat earnings estimates  but  missed revenue estimates us\n",
      "                seng index opened evenly  but  declined in trading finishing\n",
      "                 its a branding exercise  but  in the shorter term\n",
      "                 a different way forward  but  simply do not have\n",
      "                         go to jail here  but  the chinese have tens\n",
      "       liability protection is important  but  we just also have\n",
      "             employment figures for july  but  expectations for more rate\n",
      "            tariffs from existing levels  but  not by as much\n",
      "                 cny200 bln of liquidity  but  left the mediumterm lending\n",
      "           unlike alphabets money losing  but  futureproofing other bets segment\n",
      "                     thank you very much  but  you can still guess\n",
      "             jobs growth versus november  but  would denote the eighth\n",
      "               to deter the perpetrators  but  a more aggressive stance\n",
      "                youre not yet profitable  but  its trying to distract\n",
      "                a muted initial reaction  but  treasuries slipped to lows\n",
      "                shaoyun han who resigned  but  will continue to serve\n",
      "                like to see restrictions  but  as part of this\n",
      "                   with china and russia  but  that was before russia\n",
      "     organizations that require specific  but  comprehensive information we offer\n",
      "                    the very early stage  but  because of your coverup\n",
      "              keep the republican stocks  but  dont overstay your welcome\n",
      "                        food in my teeth  but  avocado green apple broccoli\n",
      "                expected to be temporary  but  nonetheless acknowledged that it\n",
      "                expected to be temporary  but  nonetheless acknowledged that it\n",
      "                   who shouldnt be there  but  it doesnt mean you\n",
      "                   are in shanghai today  but  president trump has been\n",
      "              institutions those are two  but  at the end of\n",
      "                    not only is unlawful  but  also restricts huawei from\n",
      "                   the number of victims  but  national police spokesman brig\n",
      "                 there in iranian waters  but  the oil market is\n",
      "                         taken us a year  but  weve got it on\n",
      "           will compensate bartiromo yes  but  it blow off the\n",
      "               on research bartiromo yes  but  thats just came out\n"
     ]
    }
   ],
   "source": [
    "all_kwic_but_s1 = random.sample(all_kwic_but, 50)\n",
    "all_kwic_but_s1 = sort_kwic(all_kwic_but_s1, 'L1')\n",
    "print_kwic(all_kwic_but_s1)"
   ]
  },
  {
   "cell_type": "markdown",
   "metadata": {},
   "source": [
    "### KWIC of 'influence'"
   ]
  },
  {
   "cell_type": "code",
   "execution_count": 26,
   "metadata": {},
   "outputs": [],
   "source": [
    "all_kwic_influence = []\n",
    "\n",
    "for doc in LN2017 + LN2018 + LN2019 + LN2020 + LN2021:\n",
    "    text = doc['body']\n",
    "    tokens = tokenize(text, lowercase=True, strip_chars=chars_to_remove)\n",
    "    kwic = make_kwic('influence', tokens)\n",
    "    all_kwic_influence.extend(kwic)"
   ]
  },
  {
   "cell_type": "code",
   "execution_count": 27,
   "metadata": {
    "scrolled": true
   },
   "outputs": [
    {
     "name": "stdout",
     "output_type": "stream",
     "text": [
      "           beijings growing presence and  influence  in un agencies should\n",
      "                 is there emerging asian  influence  in american music but\n",
      "              was presumably the biggest  influence  on the transports but\n",
      "                 united states by buying  influence  and conducting espionage at\n",
      "                a chinese company chinas  influence  over tiktoks content critics\n",
      "                  the increase in chinas  influence  will be felt immensely\n",
      "      significant concerns about chinese  influence  is hikvision the hangzhoubased\n",
      "                 pushing back on chinese  influence  let me ask you\n",
      "                      hr 6010 on chinese  influence  operations which he intends\n",
      "            american assets from chinese  influence  and possession and serve\n",
      "           efforts to combat coordinated  influence  operations we disabled 210\n",
      "               of political and cultural  influence  says mr onyebuchi african\n",
      "                   to do semicoup either  influence  the campaign or try\n",
      "              order on foreign electoral  influence  what other chinese socialmedia\n",
      "              order on foreign electoral  influence  what other chinese socialmedia\n",
      "                        be able to exert  influence  in beijing and may\n",
      "              is subject to exploitation  influence  and control by the\n",
      "         each companys growing financial  influence  baba stock fell 83\n",
      "                    about chinas bid for  influence  at american universities is\n",
      "              threat of improper foreign  influence  in higher education is\n",
      "      intellectual property from foreign  influence  innovation is the engine\n",
      "                         a place to gain  influence  and access near the\n",
      "                 our adversaries to gain  influence  in cuba starting with\n",
      "        organizations and chinas growing  influence  in them gertz claimed\n",
      "        carrying out investigations into  influence  campaigns using its platforms\n",
      "                  has been expanding its  influence  efforts ahead of november\n",
      "                    a foundation for its  influence  as the belt and\n",
      "                   efforts to expand its  influence  worldwide pence also protests\n",
      "                   that allow for lesser  influence  over their own markets\n",
      "                      the risk of malign  influence  of particular concern allowing\n",
      "                 will be a marketdriving  influence  as were moving ahead\n",
      "             which has imparted negative  influence  on consumer sentiment downgraded\n",
      "             chinese government does not  influence  the apps use in\n",
      "                    whole other level of  influence  and are likely to\n",
      "             chinas ownership control or  influence  the energy information administrations\n",
      "                  powers that control or  influence  would bestow upon beijing\n",
      "             internet showing the partys  influence  on the global film\n",
      "                 entities subject to prc  influence  that seek to invest\n",
      "     federal statutes covering racketeer  influence  and corrupt organizations money\n",
      "                     them from beijing s  influence  or we need to\n",
      "              be enough to significantly  influence  behavior additionally there is\n",
      "                 sector uneasy about the  influence  of the jack mabased\n",
      "                     has been working to  influence  american public opinion in\n",
      "                   regime allowing it to  influence  global audiences through his\n",
      "                      but thats going to  influence  any decisions on their\n",
      "              an unprecedented effort to  influence  american public opinion the\n",
      "              centered their attempts to  influence  americans thinking by playing\n",
      "                  popular china wants to  influence  our choice in the\n",
      "                     goals and they want  influence  and control and they\n",
      "                       you then use your  influence  operation to promote the\n"
     ]
    }
   ],
   "source": [
    "all_kwic_influence_s1 = random.sample(all_kwic_influence, 50)\n",
    "all_kwic_influence_s1 = sort_kwic(all_kwic_influence_s1, 'L1')\n",
    "print_kwic(all_kwic_influence_s1)"
   ]
  },
  {
   "cell_type": "markdown",
   "metadata": {},
   "source": [
    "**Observations**:\n",
    "* 'influence' is mainly used in the context to explain the reach of China's influence in a negative manner\n",
    "    * the word itself is quite loaded. Influence could refer to positive influences in one's life/decision; however, in many contexts, influence could also imply that one's final decision wasn't made independently, but actually as a result of an external force affecting your choice. \n",
    "    * \"lawmakers wary of chinese  influence  on american lives\" - inclusion of 'wary' in the same sentence\n",
    "    * \"are susceptible to chinese  influence  on the political military\" - inclusion of 'susceptible' to portray the weakness of one's own mind falling for \"Chinese influence\"\n",
    "    * \"abroad to counter chinese  influence  has 60 billion in\" - inclusion of a large number that quantifies China's influence"
   ]
  },
  {
   "cell_type": "markdown",
   "metadata": {},
   "source": [
    "### KWIC of 'concerns'"
   ]
  },
  {
   "cell_type": "code",
   "execution_count": 28,
   "metadata": {},
   "outputs": [],
   "source": [
    "all_kwic_concerns = []\n",
    "\n",
    "for doc in LN2017 + LN2018 + LN2019 + LN2020 + LN2021:\n",
    "    text = doc['body']\n",
    "    tokens = tokenize(text, lowercase=True, strip_chars=chars_to_remove)\n",
    "    kwic = make_kwic('concerns', tokens)\n",
    "    all_kwic_concerns.extend(kwic)"
   ]
  },
  {
   "cell_type": "code",
   "execution_count": 29,
   "metadata": {
    "scrolled": true
   },
   "outputs": [
    {
     "name": "stdout",
     "output_type": "stream",
     "text": [
      "                   assuage our fears and  concerns  about that or confirm\n",
      "                    the company have any  concerns  over how police could\n",
      "                    eager to address any  concerns  senator schumer has and\n",
      "                    new 5g technology as  concerns  grow about chinese telecommunications\n",
      "         value amid apparent coronavirus  concerns  and a 75 drop\n",
      "           wechat do raise cybersecurity  concerns  they are not significantly\n",
      "                   unity in voicing deep  concerns  about the technology which\n",
      "          transaction went ahead despite  concerns  raised to the court\n",
      "               et with google dismissing  concerns  about ip theft in\n",
      "             quit dragonfly over ethical  concerns  about the project and\n",
      "              general us economic growth  concerns  1439 comdx energy settlement\n",
      "                      board the ncsc has  concerns  around huaweis engineering and\n",
      "                     urge google to heed  concerns  from its own employees\n",
      "                     biden only that his  concerns  set in motion the\n",
      "                 that dunford shared his  concerns  about us tech firms\n",
      "                       he had raised his  concerns  with liverpool but received\n",
      "           the agencys foreign influence  concerns  when it comes to\n",
      "                     is likely to invite  concerns  about the groups cash\n",
      "                     is likely to invite  concerns  about the groups cash\n",
      "                     is likely to invite  concerns  about the groups cash\n",
      "   considerations rather than legitimate  concerns  about technology the us\n",
      "                          one of my main  concerns  leftbehind children especially those\n",
      "                    according to the nih  concerns  surrounding foreign influence highlight\n",
      "              waters the ministers noted  concerns  expressed by some ministers\n",
      "                    voice those kinds of  concerns  of a project that\n",
      "                       has any issues or  concerns  i would encourage them\n",
      "                  chinese rival zte over  concerns  that the company has\n",
      "         including tiktok citing privacy  concerns  amid tensions between the\n",
      "         in a seasonallyadjusted quarter  concerns  about weak pmis in\n",
      "            rollback of december quarter  concerns  that have the fed\n",
      "                       in order to quell  concerns  about the detentions of\n",
      "                 the university to raise  concerns  about anastasia lin a\n",
      "                ustr has recently raised  concerns  at the world trade\n",
      "                      the us have raised  concerns  about the deal fearing\n",
      "                police the chairs raised  concerns  about the chinese governments\n",
      "              back reportedly by renewed  concerns  involving the coronavirus and\n",
      "                   us companies and said  concerns  about spying or malware\n",
      "           anonymity because of security  concerns  said the chinese activity\n",
      "          might be exaggerating security  concerns  to limit competition with\n",
      "                of deepening us security  concerns  over its ties to\n",
      "               needs to balance security  concerns  with trade as jörg\n",
      "             5g network despite security  concerns  uk prime minister theresa\n",
      "                   said they had serious  concerns  about a future in\n",
      "                      the us has serious  concerns  about the security risks\n",
      "                      that it has strong  concerns  about the chinese governments\n",
      "                  the robots while their  concerns  are about taking jobs\n",
      "                 at google responding to  concerns  of multiple human rights\n",
      "                       the open on trade  concerns  the major averages have\n",
      "        modest growth despite widespread  concerns  about the possible negative\n",
      "        modest growth despite widespread  concerns  about the possible negative\n"
     ]
    }
   ],
   "source": [
    "all_kwic_concerns_s1 = random.sample(all_kwic_concerns, 50)\n",
    "all_kwic_concerns_s1 = sort_kwic(all_kwic_concerns_s1, 'L1')\n",
    "print_kwic(all_kwic_concerns_s1)"
   ]
  },
  {
   "cell_type": "markdown",
   "metadata": {},
   "source": [
    "**Observations**:\n",
    "* Adds to idea of the amount of uncertainty that would arise should China be acknowledged for its advancements and growth.\n",
    "    * there seems to be so much that could go wrong when something's related to China\n",
    "    * many of the instances of concern appear to be related to large scale ones, such as: national security, growth, trade, \"serious\" concerns to heighten the severity of the issue at hand."
   ]
  },
  {
   "cell_type": "markdown",
   "metadata": {},
   "source": [
    "### KWIC of 'huawei'"
   ]
  },
  {
   "cell_type": "code",
   "execution_count": 30,
   "metadata": {},
   "outputs": [],
   "source": [
    "all_kwic_huawei = []\n",
    "\n",
    "for doc in LN2017 + LN2018 + LN2019 + LN2020 + LN2021:\n",
    "    text = doc['body']\n",
    "    tokens = tokenize(text, lowercase=True, strip_chars=chars_to_remove)\n",
    "    kwic = make_kwic('huawei', tokens)\n",
    "    all_kwic_huawei.extend(kwic)"
   ]
  },
  {
   "cell_type": "code",
   "execution_count": 31,
   "metadata": {
    "scrolled": true
   },
   "outputs": [
    {
     "name": "stdout",
     "output_type": "stream",
     "text": [
      "              in 2019 washington accused  huawei  the chinese technology group\n",
      "           rather unusual stance against  huawei  and the chinese government\n",
      "                   seems to tilt against  huawei  even the uk now\n",
      "       sees washingtons campaign against  huawei  as a political ploy\n",
      "           the latters sanctions against  huawei  and chinaindia relations continue\n",
      "         for patent infringement against  huawei  technologies co solaredge is\n",
      "                     choice but to allow  huawei  in its a false\n",
      "          of his administration allowing  huawei  technologies co entry to\n",
      "                         to do right and  huawei  is one of those\n",
      "             expert for cybersecurity at  huawei  told reporters here that\n",
      "           equipment could this backfire  huawei  is already the biggest\n",
      "               trojan horses for beijing  huawei  marine hopes to win\n",
      "          tighter restrictions on chinas  huawei  technologies would be banned\n",
      "       government suggested that despite  huawei  being at the bleeding\n",
      "               youre interested why does  huawei  have so many problems\n",
      "                  let chinese tech giant  huawei  have a limited role\n",
      "               the chinese telecom giant  huawei  came as a jarring\n",
      "              release of huawei handsets  huawei  will lose its access\n",
      "                  us sanctions on huawei  huawei  officials have questioned whether\n",
      "             government so interested in  huawei  roschelle why they pulled\n",
      "          of chinese companies including  huawei  and to treat chinese\n",
      "              technology there is little  huawei  can do to overcome\n",
      "                 end of the negotiations  huawei  is caught in the\n",
      "                    ago the exclusion of  huawei  from its 5g network\n",
      "                   the warsaw offices of  huawei  and orange polands leading\n",
      "                       just last week on  huawei  technologies the order expected\n",
      "                    still is sticking on  huawei  and the south korean\n",
      "             toning down restrictions on  huawei  to prevent the interruption\n",
      "                   is still divided over  huawei  but the trendline is\n",
      "            federal efforts to prosecute  huawei  and other stateowned enterprises\n",
      "                        the us to punish  huawei  for flouting this us\n",
      "                under the earlier ruling  huawei  would have been limited\n",
      "           blacklist trump publicly said  huawei  could be part of\n",
      "                  new ranking of samsung  huawei  and apple is very\n",
      "       including cabinet secretaries say  huawei  can give the chinese\n",
      "                 system in that scenario  huawei  may just be an\n",
      "                       a tool for spying  huawei  has consistently denied that\n",
      "                be used for surveillance  huawei  at the center of\n",
      "  intellectual property allegations that  huawei  poses a cybersecurity risk\n",
      "             meanwhile a revelation that  huawei  was among the companies\n",
      "                  and seriousness of the  huawei  problem ii tools of\n",
      "               to produce things through  huawei  is prohibited and requires\n",
      "              shipments of components to  huawei  this headwind is likely\n",
      "                  own bans against using  huawei  an official at the\n",
      "                 having a nightmare week  huawei  is reportedly facing a\n",
      "                  their 5g networks with  huawei  for security reasons the\n",
      "            continue doing business with  huawei  the evening push lifted\n",
      "           they pursue partnerships with  huawei  and by extension the\n",
      "             against doing business with  huawei  he alleges huawei was\n",
      "            continue doing business with  huawei  the first hour of\n"
     ]
    }
   ],
   "source": [
    "all_kwic_huawei_s1 = random.sample(all_kwic_huawei, 50)\n",
    "all_kwic_huawei_s1 = sort_kwic(all_kwic_huawei_s1, 'L1')\n",
    "print_kwic(all_kwic_huawei_s1)"
   ]
  },
  {
   "cell_type": "markdown",
   "metadata": {},
   "source": [
    "**Observations**:\n",
    "* All related negative news regarding Huawei and the ban as America continues to push the potential Chinese competitor out of the market. \n",
    "    * nothing surprised based on what I already know about how Huawei is perceived in the states"
   ]
  },
  {
   "cell_type": "markdown",
   "metadata": {},
   "source": [
    "### KWIC of 'vs'"
   ]
  },
  {
   "cell_type": "code",
   "execution_count": 32,
   "metadata": {},
   "outputs": [],
   "source": [
    "all_kwic_vs = []\n",
    "\n",
    "for doc in LN2017 + LN2018 + LN2019 + LN2020 + LN2021:\n",
    "    text = doc['body']\n",
    "    tokens = tokenize(text, lowercase=True, strip_chars=chars_to_remove)\n",
    "    kwic = make_kwic('vs', tokens)\n",
    "    all_kwic_vs.extend(kwic)"
   ]
  },
  {
   "cell_type": "code",
   "execution_count": 33,
   "metadata": {},
   "outputs": [
    {
     "name": "stdout",
     "output_type": "stream",
     "text": [
      "                   1031 september ppi 03  vs  briefingcom consensus of 01\n",
      "                 interest margin was 361  vs  319 in the prior\n",
      "           closed briefingcom sp futures  vs  fair value 1010 nasdaq\n",
      "                   09771 0726 sp futures  vs  fair value 090 nasdaq\n",
      "         then representing 101114 growth  vs  a projected 2019 midpoint\n",
      "     263267 excluding nonrecurring items  vs  262 sp capital iq\n",
      "     283293 excluding nonrecurring items  vs  291 sp capital iq\n",
      "        050 excluding nonrecurring items  vs  053 sp capital iq\n",
      "     359369 excluding nonrecurring items  vs  363 sp capital iq\n",
      "             with 2720 contracts trading  vs  open int of 120\n"
     ]
    }
   ],
   "source": [
    "all_kwic_vs_s1 = random.sample(all_kwic_vs, 10)\n",
    "all_kwic_vs_s1 = sort_kwic(all_kwic_vs_s1, 'L1')\n",
    "print_kwic(all_kwic_vs_s1)"
   ]
  },
  {
   "cell_type": "markdown",
   "metadata": {},
   "source": [
    "**Observations**:\n",
    "* Not the results I was expecting. All of them seem to be comparing two things, but I'm not quite sure what the topic is about and the surrounding words only make the context more difficult for me to decipher. Overall, it doesn't seem to be useful for the purposes of my project."
   ]
  },
  {
   "cell_type": "markdown",
   "metadata": {},
   "source": [
    "---"
   ]
  }
 ],
 "metadata": {
  "kernelspec": {
   "display_name": "Python 3",
   "language": "python",
   "name": "python3"
  },
  "language_info": {
   "codemirror_mode": {
    "name": "ipython",
    "version": 3
   },
   "file_extension": ".py",
   "mimetype": "text/x-python",
   "name": "python",
   "nbconvert_exporter": "python",
   "pygments_lexer": "ipython3",
   "version": "3.7.3"
  }
 },
 "nbformat": 4,
 "nbformat_minor": 2
}

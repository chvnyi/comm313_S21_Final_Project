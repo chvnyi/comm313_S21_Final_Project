{
 "cells": [
  {
   "cell_type": "markdown",
   "metadata": {},
   "source": [
    "# Data Exploration (2.1):\n",
    "## KWIC Analyses\n",
    "* This notebook focuses on observing the KWIC analysis got a select words gathered from the frequency list or from my own prior knowledge surrounding the coverage of China in the media.\n",
    "    * split between two notebooks\n",
    "\n",
    "\n",
    "---"
   ]
  },
  {
   "cell_type": "markdown",
   "metadata": {},
   "source": [
    "### Setup\n",
    "* includes additional modules, functions, and chars_to_strip"
   ]
  },
  {
   "cell_type": "code",
   "execution_count": 1,
   "metadata": {},
   "outputs": [],
   "source": [
    "import json\n",
    "from collections import Counter\n",
    "import random\n",
    "import os\n",
    "import re\n",
    "import math\n",
    "import pandas as pd\n",
    "import numpy as np\n",
    "import matplotlib.pyplot as plt\n",
    "import seaborn as sn\n",
    "import graphviz"
   ]
  },
  {
   "cell_type": "code",
   "execution_count": 2,
   "metadata": {},
   "outputs": [],
   "source": [
    "%run functions.ipynb"
   ]
  },
  {
   "cell_type": "code",
   "execution_count": 3,
   "metadata": {},
   "outputs": [],
   "source": [
    "chars_to_remove = '!\"#$%&\\'()*+,-./:;<=>?@[\\\\]^_`{|}~•'"
   ]
  },
  {
   "cell_type": "markdown",
   "metadata": {},
   "source": [
    "## 1. Load data"
   ]
  },
  {
   "cell_type": "code",
   "execution_count": 4,
   "metadata": {},
   "outputs": [],
   "source": [
    "LN2017 = json.load(open('../data/LN_data/cleaned/LN_2017.json'))\n",
    "LN2018 = json.load(open('../data/LN_data/cleaned/LN_2018.json'))\n",
    "LN2019 = json.load(open('../data/LN_data/cleaned/LN_2019.json'))\n",
    "LN2020 = json.load(open('../data/LN_data/cleaned/LN_2020.json'))\n",
    "LN2021 = json.load(open('../data/LN_data/cleaned/LN_2021.json'))"
   ]
  },
  {
   "cell_type": "code",
   "execution_count": 5,
   "metadata": {},
   "outputs": [],
   "source": [
    "all_word_dist = Counter()\n",
    "\n",
    "for doc in LN2017 + LN2018 + LN2019 + LN2020 + LN2021:\n",
    "    text = doc['body']\n",
    "    tokens = tokenize(text, lowercase=True, strip_chars=chars_to_remove)\n",
    "    all_word_dist.update(tokens)"
   ]
  },
  {
   "cell_type": "markdown",
   "metadata": {},
   "source": [
    "## 1. KWIC \n",
    "* using the list of words from `LN_data_exploration1`, I performed several KWIC analyses to gather more insight on the words. "
   ]
  },
  {
   "cell_type": "markdown",
   "metadata": {},
   "source": [
    "### KWIC on 'tiktok'"
   ]
  },
  {
   "cell_type": "code",
   "execution_count": 6,
   "metadata": {},
   "outputs": [],
   "source": [
    "all_kwic_tiktok = []\n",
    "\n",
    "for doc in LN2017 + LN2018 + LN2019 + LN2020 + LN2021:\n",
    "    text = doc['body']\n",
    "    tokens = tokenize(text, lowercase=True, strip_chars=chars_to_remove)\n",
    "    kwic = make_kwic('tiktok', tokens)\n",
    "    all_kwic_tiktok.extend(kwic)"
   ]
  },
  {
   "cell_type": "code",
   "execution_count": 7,
   "metadata": {},
   "outputs": [
    {
     "data": {
      "text/plain": [
       "7703"
      ]
     },
     "execution_count": 7,
     "metadata": {},
     "output_type": "execute_result"
    }
   ],
   "source": [
    "len(all_kwic_tiktok)"
   ]
  },
  {
   "cell_type": "code",
   "execution_count": 8,
   "metadata": {},
   "outputs": [
    {
     "name": "stdout",
     "output_type": "stream",
     "text": [
      "                        dress up weird a  tiktok  video of richer catching\n",
      "                 to raise concerns about  tiktok  the chinese socialmedia service\n",
      "   providing evidence washington accuses  tiktok  whose parent company is\n",
      "             continuing talks to acquire  tiktok  while apple remained hot\n",
      "            company in december alleging  tiktok  surreptitiously vacuumed up and\n",
      "          mobile applications wechat and  tiktok  to safeguard the national\n",
      "               wellknown short video app  tiktok  according to trump chinese\n",
      "              situation and officials at  tiktok  and oracle did not\n",
      "                     week that would ban  tiktok  in 45 days if\n",
      "                29 india suddenly banned  tiktok  the app which is\n",
      "                   users data to beijing  tiktok  filed this week for\n",
      "                  so microsoft might buy  tiktok  really a really other\n",
      "             american company should buy  tiktok  so thateveryone can continue\n",
      "                     of data gathered by  tiktok  oracle will be able\n",
      "                   that’s also not clear  tiktok  could have been put\n",
      "                 jani jani 24 downloaded  tiktok  a couple of years\n",
      "         where consumers have downloaded  tiktok  more than 165 million\n",
      "                      from its main feed  tiktok  in a statement said\n",
      "               a government deadline for  tiktok  to sell its us\n",
      "                  people who already had  tiktok  on their phones could\n",
      "             social media apps including  tiktok  suggesting it shared information\n",
      "                    had been merged into  tiktok  musically had been acquired\n",
      "                on an investigation into  tiktok  by apple in early\n",
      "   constructive dialogue over litigation  tiktok  said in a blog\n",
      "                  chinese stocks era may  tiktok  down for american investors\n",
      "                      and wechat by name  tiktok  did not respond to\n",
      "             speed up their negotiations  tiktok  downloaded 175 million times\n",
      "                       become the ceo of  tiktok  owned by beijingbased startup\n",
      "          government denies extension of  tiktok  divestiture deadline valerie maconafpgetty\n",
      "                    the us operations of  tiktok  according to a person\n",
      "                  would bar downloads of  tiktok  and wechat two widely\n",
      "                  banned employee use of  tiktok  for the agencys social\n",
      "                   the chinese owners of  tiktok  and wechat fbi director\n",
      "                  the chief executive of  tiktok  also the chief operating\n",
      "                           on the use of  tiktok  subsection a defines the\n",
      "         believe bytedances ownership of  tiktok  gives the ccp an\n",
      "                         mark the end of  tiktok  in the us and\n",
      "          companies bytedance which owns  tiktok  and tencent the owner\n",
      "                on americans cell phones  tiktok  has trained more than\n",
      "          oracles interest in purchasing  tiktok  according to the article\n",
      "                        the end she says  tiktok  was not the place\n",
      "                      to find a solution  tiktok  reacted but we are\n",
      "                    in the united states  tiktok  has approximately 49 million\n",
      "                  trump had ordered that  tiktok  be banned in the\n",
      "           prime minister indicated that  tiktok  would not be banned\n",
      "                        a message to the  tiktok  community original sound tiktok\n",
      "          calls for greater transparency  tiktok  does not disclose the\n",
      "                     available in the us  tiktok  said in a statement\n",
      "              reporters over the weekend  tiktok  will cease to operate\n",
      "                the national level while  tiktok  which operates only outside\n"
     ]
    }
   ],
   "source": [
    "all_kwic_tiktok_s1 = random.sample(all_kwic_tiktok, 50)\n",
    "all_kwic_tiktok_s1 = sort_kwic(all_kwic_tiktok_s1, 'L1')\n",
    "print_kwic(all_kwic_tiktok_s1)"
   ]
  },
  {
   "cell_type": "markdown",
   "metadata": {},
   "source": [
    "**Observations**:\n",
    "* Similar to Huawei, the context for TikTok is mainly related to coverage on the potential security threats of users downloading Tiktok\n",
    "    * ridiculous especially since most users of any social media site are already aware of the fact that companies are constantly stealing our information. What difference does it make whether TikTok has it or Facebook has it? Apparently a huge difference because new outlets would not stop talking about the apparent ~ dangers of TikTok ~\n",
    "        * most of these voices tend to be those of the older generation as they have a stronger aversion to technology, but younger audiences who have grown up with technology all their life are less paranoid about the dangers of tech\n",
    "        * Facebook and Google are consistently exposed for having full on detailed profiles of its users and while some Americans are vocal about it, most don't seem to mind\n",
    "            * but of course it's different if cHiNa does it cause china bad, america good :)"
   ]
  },
  {
   "cell_type": "markdown",
   "metadata": {},
   "source": [
    "### KWIC of 'beijing' "
   ]
  },
  {
   "cell_type": "code",
   "execution_count": 9,
   "metadata": {},
   "outputs": [],
   "source": [
    "all_kwic_beijing = []\n",
    "\n",
    "for doc in LN2017 + LN2018 + LN2019 + LN2020 + LN2021:\n",
    "    text = doc['body']\n",
    "    tokens = tokenize(text, lowercase=True, strip_chars=chars_to_remove)\n",
    "    kwic = make_kwic('beijing', tokens)\n",
    "    all_kwic_beijing.extend(kwic)"
   ]
  },
  {
   "cell_type": "code",
   "execution_count": 10,
   "metadata": {},
   "outputs": [
    {
     "data": {
      "text/plain": [
       "8071"
      ]
     },
     "execution_count": 10,
     "metadata": {},
     "output_type": "execute_result"
    }
   ],
   "source": [
    "len(all_kwic_beijing)"
   ]
  },
  {
   "cell_type": "code",
   "execution_count": 11,
   "metadata": {
    "scrolled": true
   },
   "outputs": [
    {
     "name": "stdout",
     "output_type": "stream",
     "text": [
      "                                          beijing  confirmed friday that it\n",
      "                      program and axis a  beijing  group specializing in leisure\n",
      "             other fields washington and  beijing  are fighting over us\n",
      "                        the holy see and  beijing  according to the americans\n",
      "                         one deal us and  beijing  officials lawmakers and trade\n",
      "                   pointed the finger at  beijing  over an extensive hacking\n",
      "                    los angeles tel aviv  beijing  bangalore berlin london singapore\n",
      "                     kong was accused by  beijing  of supporting antichina people\n",
      "         draconian regulations issued by  beijing  in a bid to\n",
      "                trade and currency fears  beijing  and washington still in\n",
      "               government can enter from  beijing  to spy on the\n",
      "             a intelligent response from  beijing  targets 20 chinese public\n",
      "                    claims the app gives  beijing  access to the personal\n",
      "                          good as it got  beijing  does not accept that\n",
      "             with the chinese government  beijing  has always denied this\n",
      "                 australia our office in  beijing  opened in 2004 and\n",
      "                 mongolian whisky bar in  beijing  you miss a few\n",
      "                        from her home in  beijing  and held incommunicado for\n",
      "                      at a conference in  beijing  im afraid this is\n",
      "                regular news briefing in  beijing  on thursday adding that\n",
      "               professor of sociology in  beijing  said the government has\n",
      "                      talks this week in  beijing  could determine if that\n",
      "      chinese government spokesperson in  beijing  said that china would\n",
      "            tiananmen square protests in  beijing  also zoom has admitted\n",
      "                than 20 cities including  beijing  shanghai and chongqing have\n",
      "     preparing to export internationally  beijing  is constructing a 21stcentury\n",
      "                  unless enforced by law  beijing  china on monday reported\n",
      "               chinas law independent of  beijing  russia has forged a\n",
      "                    said comments out of  beijing  have been more positive\n",
      "                       on the streets of  beijing  people expressed sorrow and\n",
      "                       meng he called on  beijing  to end their “arbitrary\n",
      "               to it generally prevented  beijing  from appointing bishops that\n",
      "            international body to punish  beijing  in the early days\n",
      "                 in talks but reiterated  beijing  is willing to fight\n",
      "              security apparatus it said  beijing  “exploits united states investors”\n",
      "      stealthily for beijings spymasters  beijing  protested mengs arrest but\n",
      "             are adequate that suggested  beijing  might be pausing in\n",
      "                 ordered by beijing that  beijing  did not have full\n",
      "                        did not say that  beijing  would adopt a titfortat\n",
      "                 for the censorship that  beijing  continues to exert on\n",
      "          industrial clusters namely the  beijing  tianjin hebei region the\n",
      "                        to end users the  beijing  optoelectronics technology company boet\n",
      "               attempting to subvert the  beijing  government according to videos\n",
      "              bytedances alleged link to  beijing  the report noted tiktok\n",
      "                   through their ties to  beijing  both companies declined his\n",
      "          protested against the upcoming  beijing  olympics and asked the\n",
      "               culmination this may when  beijing  announced that it would\n",
      "                   south china sea which  beijing  claims most of photo\n",
      "              the selfruled island which  beijing  views as part of\n",
      "          industry withinchina last year  beijing  announced new controls on\n"
     ]
    }
   ],
   "source": [
    "all_kwic_beijing_s1 = random.sample(all_kwic_beijing, 50)\n",
    "all_kwic_beijing_s1 = sort_kwic(all_kwic_beijing_s1, 'L1')\n",
    "print_kwic(all_kwic_beijing_s1)"
   ]
  },
  {
   "cell_type": "markdown",
   "metadata": {},
   "source": [
    "**Observations**:\n",
    "* 'beijing' used as a synonym to China.\n",
    "    * \"its used by the  beijing  government for espionage efforts\"\n",
    "* Interestingly, even though it's used as a synonym, the surrounding context for Beijing seems more negative in comparison to that of just 'china'.\n",
    "    * this is likely due to the fact that the number of instances for 'beijing' appears much less frequently than that of 'china'"
   ]
  },
  {
   "cell_type": "markdown",
   "metadata": {},
   "source": [
    "### KWIC of 'propaganda'"
   ]
  },
  {
   "cell_type": "code",
   "execution_count": 12,
   "metadata": {},
   "outputs": [],
   "source": [
    "all_kwic_propaganda = []\n",
    "\n",
    "for doc in LN2017 + LN2018 + LN2019 + LN2020 + LN2021:\n",
    "    text = doc['body']\n",
    "    tokens = tokenize(text, lowercase=True, strip_chars=chars_to_remove)\n",
    "    kwic = make_kwic('propaganda', tokens)\n",
    "    all_kwic_propaganda.extend(kwic)"
   ]
  },
  {
   "cell_type": "code",
   "execution_count": 13,
   "metadata": {},
   "outputs": [
    {
     "data": {
      "text/plain": [
       "801"
      ]
     },
     "execution_count": 13,
     "metadata": {},
     "output_type": "execute_result"
    }
   ],
   "source": [
    "len(all_kwic_propaganda)"
   ]
  },
  {
   "cell_type": "code",
   "execution_count": 14,
   "metadata": {
    "scrolled": true
   },
   "outputs": [
    {
     "name": "stdout",
     "output_type": "stream",
     "text": [
      "                spread positive energy a  propaganda  catch phrase used by\n",
      "                  china quietly pulled a  propaganda  film celebrating its tech\n",
      "                the chinese government a  propaganda  consolation prize blocking a\n",
      "                         on to china and  propaganda  that may come the\n",
      "       chinese governments messaging and  propaganda  have been at fanning\n",
      "            center on disinformation and  propaganda  related to coronavirus ms\n",
      "                 york for commercial and  propaganda  purposes since 2011 after\n",
      "                   a vast censorship and  propaganda  apparatus at home the\n",
      "                 debate the line between  propaganda  and public diplomacy in\n",
      "             exposed to the brainwashing  propaganda  and kept away from\n",
      "                  as saying we broadcast  propaganda  radio programs to china\n",
      "                accused of promoting ccp  propaganda  and falsely rumored that\n",
      "                 year we detailed chinas  propaganda  efforts through the confucius\n",
      "        they werent factchecking chinese  propaganda  that claimed the new\n",
      "               intent to amplify chinese  propaganda  and disinformation however an\n",
      "                zhao has peddled chinese  propaganda  about the virus on\n",
      "                      later in a chinese  propaganda  video courtesy of bahram\n",
      "                    tool in the countrys  propaganda  machine and they are\n",
      "                use it for disseminating  propaganda  and to recruit but\n",
      "own interference activities disseminating  propaganda  on social media and\n",
      "                     engaged in a global  propaganda  blitz downplaying its culpability\n",
      "     verbal notification from government  propaganda  teams that they shouldnt\n",
      "                   risk is not injecting  propaganda  or misinformation into video\n",
      "                 the register calling it  propaganda  and asserting that beijing\n",
      "                 ramping up its military  propaganda  targeted at taiwans citizens\n",
      "              information and in myanmar  propaganda  legitimizing crimes against humanity\n",
      "         governments previous methods of  propaganda  were too dry meaning\n",
      "                on disseminating its own  propaganda  in a campaign described\n",
      "              studies of communist party  propaganda  the chinese government has\n",
      "             and chinese communist party  propaganda  the us should counter\n",
      "                 to implement the partys  propaganda  guidelines it said adding\n",
      "              while the communist partys  propaganda  department did not reply\n",
      "      with spreading propaganda positive  propaganda  about china ultimately controlled\n",
      "               islamic state was posting  propaganda  videos on the app\n",
      "               efforts to plant prochina  propaganda  across us college campuses\n",
      "             result of chance prochinese  propaganda  tends to portray hong\n",
      "                   the algorithm to push  propaganda  what is oracles relationship\n",
      "                    posing as the russia  propaganda  agency that sought to\n",
      "                      to do with selling  propaganda  the chinese communist partys\n",
      "              party accounts that spread  propaganda  and whitewash the history\n",
      "            china that combine spreading  propaganda  favoring china with outright\n",
      "                   said the entire state  propaganda  machine including the official\n",
      "         foreign ministry and stateowned  propaganda  organs like the global\n",
      "             expect from chinas staterun  propaganda  apparatus perhaps the largest\n",
      "                      say they doubt the  propaganda  drive in the united\n",
      "                 out that difference the  propaganda  of the end of\n",
      "                    media outlets as the  propaganda  proxies that they are\n",
      "                    china in addition to  propaganda  and influence operations the\n",
      "              workshop one bulletin with  propaganda  materials and one set\n",
      "                      over the last year  propaganda  from alqaeda leaders seeks\n"
     ]
    }
   ],
   "source": [
    "all_kwic_propaganda_s1 = random.sample(all_kwic_propaganda, 50)\n",
    "all_kwic_propaganda_s1 = sort_kwic(all_kwic_propaganda_s1, 'L1')\n",
    "print_kwic(all_kwic_propaganda_s1)"
   ]
  },
  {
   "cell_type": "markdown",
   "metadata": {},
   "source": [
    "### KWIC of 'orwellian'"
   ]
  },
  {
   "cell_type": "code",
   "execution_count": 15,
   "metadata": {},
   "outputs": [],
   "source": [
    "all_kwic_orwellian = []\n",
    "\n",
    "for doc in LN2017 + LN2018 + LN2019 + LN2020 + LN2021:\n",
    "    text = doc['body']\n",
    "    tokens = tokenize(text, lowercase=True, strip_chars=chars_to_remove)\n",
    "    kwic = make_kwic('orwellian', tokens)\n",
    "    all_kwic_orwellian.extend(kwic)"
   ]
  },
  {
   "cell_type": "code",
   "execution_count": 16,
   "metadata": {},
   "outputs": [
    {
     "data": {
      "text/plain": [
       "78"
      ]
     },
     "execution_count": 16,
     "metadata": {},
     "output_type": "execute_result"
    }
   ],
   "source": [
    "len(all_kwic_orwellian)"
   ]
  },
  {
   "cell_type": "code",
   "execution_count": 17,
   "metadata": {
    "scrolled": true
   },
   "outputs": [
    {
     "name": "stdout",
     "output_type": "stream",
     "text": [
      "                     to create an almost  orwellian  surveillance state you know\n",
      "                 local authorities in an  orwellian  step now established a\n",
      "                   ccp has instituted an  orwellian  system of surveillance intimidation\n",
      "                sinister creep toward an  orwellian  world   \n",
      "                     not only created an  orwellian  state apparatus that oppresses\n",
      "                 local authorities in an  orwellian  step now established a\n",
      "                 not only constructed an  orwellian  hightech surveillance state at\n",
      "                   ccp has instituted an  orwellian  system of surveillance intimidation\n",
      "                     not only created an  orwellian  state apparatus that oppresses\n",
      "                   ccp has instituted an  orwellian  system of surveillance intimidation\n",
      "                     not only created an  orwellian  state apparatus that has\n",
      "                   the campaign takes an  orwellian  theme with the line\n",
      "                    china will become an  orwellian  tool of social monitoring\n",
      "                 local authorities in an  orwellian  step now established a\n",
      "                power has constructed an  orwellian  hightech surveillance state and\n",
      "        observers consider dystopian and  orwellian  china is the worlds\n",
      "           their names are appropriately  orwellian  the state ethnic affairs\n",
      "          surveillance and detention are  orwellian  political tools china should\n",
      "                  slammed the demands as  orwellian  nonsense said they are\n",
      "                  slammed the demands as  orwellian  nonsense describing them as\n",
      "                white house described as  orwellian  nonsense chinese demands that\n",
      "                 references to taiwan as  orwellian  nonsense it was reported\n",
      "               slammed chinas demands as  orwellian  nonsense calling them part\n",
      "                  slammed the demands as  orwellian  nonsense said they are\n",
      "                white house described as  orwellian  nonsense chinese demands that\n",
      "               denounced the warnings as  orwellian  nonsense but toeing the\n",
      "                they reference taiwan as  orwellian  nonsense as first reported\n",
      "                  slammed the demands as  orwellian  nonsense describing them as\n",
      "                  white house has called  orwellian  nonsense us airlines face\n",
      "                    media feeds the ccps  orwellian  narrative should individuals cross\n",
      "                     isnt used by chinas  orwellian  surveillance state we need\n",
      "         the chinese governments demands  orwellian  nonsense back at a\n",
      "         the chinese governments demands  orwellian  nonsense back at a\n",
      "             labeled the chinese demands  orwellian  nonsense describing them as\n",
      "             labeled the chinese demands  orwellian  nonsense describing them as\n",
      "            as prison camps establishing  orwellian  levels of high tech\n",
      "           terrorism while the expanding  orwellian  eye may improve public\n",
      "           collusion with foreign forces  orwellian  measures these provisions fear\n",
      "             for the chinese governments  orwellian  surveillance and egregious human\n",
      "                partys standards this is  orwellian  nonsense and part of\n",
      "           political correctness this is  orwellian  nonsense and part of\n",
      "                     china is moving its  orwellian  system to the genetic\n",
      "             of turkic muslim minorities  orwellian  surveillance and harsh restrictions\n",
      "               the chinese government of  orwellian  nonsense in trying to\n",
      "           called chinas language police  orwellian  nonsense the white house\n",
      "                          a sense of the  orwellian  state that is really\n",
      "                    the operation of the  orwellian  surveillance state of the\n",
      "                 government it poses the  orwellian  threat of the government\n",
      "                 deems as expedient this  orwellian  threat is becoming a\n",
      "                       put in place this  orwellian  police state mcmaster said\n"
     ]
    }
   ],
   "source": [
    "all_kwic_orwellian_s1 = random.sample(all_kwic_orwellian, 50)\n",
    "all_kwic_orwellian_s1 = sort_kwic(all_kwic_orwellian_s1, 'L1')\n",
    "print_kwic(all_kwic_orwellian_s1)"
   ]
  },
  {
   "cell_type": "markdown",
   "metadata": {},
   "source": [
    "**Observations**:\n",
    "* For both 'propaganda' and 'orwellian', I find the contexts displayed to be amusing. The dissonance and lack of cognizance is astounding. The idea behind the usage of both words is simply to evoke fear; \"Big Brother is Watching You\" and that's always been that message when American media discusses Chinese technology.\n",
    "    * but America does the same thing... surveillance occurs everywhere... it doesn't make sense to point fingers and criticize China when you do the same thing and it's not like America is doing much to keep big tech in America from getting any bigger\n",
    "* pot calling the kettle black type of situation"
   ]
  },
  {
   "cell_type": "markdown",
   "metadata": {},
   "source": [
    "### KWIC of 'reality'"
   ]
  },
  {
   "cell_type": "code",
   "execution_count": 18,
   "metadata": {},
   "outputs": [],
   "source": [
    "all_kwic_reality = []\n",
    "\n",
    "for doc in LN2017 + LN2018 + LN2019 + LN2020 + LN2021:\n",
    "    text = doc['body']\n",
    "    tokens = tokenize(text, lowercase=True, strip_chars=chars_to_remove)\n",
    "    kwic = make_kwic('reality', tokens)\n",
    "    all_kwic_reality.extend(kwic)"
   ]
  },
  {
   "cell_type": "code",
   "execution_count": 19,
   "metadata": {
    "scrolled": true
   },
   "outputs": [
    {
     "name": "stdout",
     "output_type": "stream",
     "text": [
      "                    vision for america a  reality     \n",
      "                         rollout of 5g a  reality  companies need to invest\n",
      "                      begins to become a  reality  and operators make plans\n",
      "          selfdriving cars and augmented  reality  trump said it will\n",
      "                 envision has now become  reality  china has made remarkable\n",
      "                 to engineer and control  reality  hrw said in the\n",
      "                 lead to social disgrace  reality  or fiction many people\n",
      "                   is quite a disturbing  reality  which cannot fail to\n",
      "                     become the de facto  reality  for their china operations\n",
      "                    us operations but in  reality  bytedance is no other\n",
      "                       the league but in  reality  it is what will\n",
      "                budget challenges but in  reality  it could actually push\n",
      "                         a friend but in  reality  its an enemy its\n",
      "                  and communist party in  reality  it is probably both\n",
      "               security concerns this in  reality  is undoubtedly shutting oneself\n",
      "                        subject of a new  reality  tv show the ufo\n",
      "                      to embrace the new  reality  and dropped their prices\n",
      "                    adjusting to the new  reality  caused by the pandemic\n",
      "                      5g internet in our  reality  is an essential step\n",
      "                    wong created his own  reality  show and in 2017\n",
      "           not consistent with political  reality  other chinese students were\n",
      "httpswwwbusinesswirecomnewshome20191015006018en contact kian salehizadeh  reality  shares 6194871445 ksalehizadehrealitysharescom httpwwwbusinesswirecom\n",
      "             its understanding of social  reality  enabling them to determine\n",
      "                        for this but the  reality  is when we you\n",
      "                        on trade and the  reality  probably isnt going to\n",
      "                        of china but the  reality  is that the tiffany\n",
      "                 liquidate and close the  reality  shares nasdaq nexgen economy\n",
      "           find similarities between the  reality  that exists in china\n",
      "                     truth more zuck the  reality  here is that if\n",
      "                        we must face the  reality  that the chinesegovernment is\n",
      "    blockchain technology revolution the  reality  shares nasdaq nexgen economy\n",
      "                        money to get the  reality  is that we want\n",
      "                    the street thats the  reality  of living in new\n",
      "                         thing to do the  reality  is that we have\n",
      "                         d trump and the  reality  is i think when\n",
      "                   of influences but the  reality  is we dont know\n",
      "                workers actually are the  reality  is that most people\n",
      "                      must deal with the  reality  that its bilateral trade\n",
      "                 reality element and the  reality  element is rich people\n",
      "                        of china but the  reality  is that the tiffany\n",
      "                policy must reflect this  reality  we look forward to\n",
      "                policy must reflect this  reality  we look forward to\n",
      "                  does not correspond to  reality  concluded the un security\n",
      "                     vaccine is close to  reality  both candidates are headed\n",
      "               ipads or whatever virtual  reality  wizardry will then be\n",
      "             is a firstofitskind virtual  reality  system developed in partnership\n",
      "                       2 new 400 virtual  reality  headsets coming on may\n",
      " intelligence robotics augmented virtual  reality  etc that assumption is\n",
      " support artificial intelligence virtual  reality  augmented big data analysis\n",
      "             the offset strategy virtual  reality  simulations and training technology\n"
     ]
    }
   ],
   "source": [
    "all_kwic_reality_s1 = random.sample(all_kwic_reality, 50)\n",
    "all_kwic_reality_s1 = sort_kwic(all_kwic_reality_s1, 'L1')\n",
    "print_kwic(all_kwic_reality_s1)"
   ]
  },
  {
   "cell_type": "markdown",
   "metadata": {},
   "source": [
    "**Observations**:\n",
    "* Drawing on fears of \"new\" and \"unknown\" realities --> naturally makes people hesitate and scared\n",
    "    * virtual, augmented, hologram realities\n",
    "    * \"decoupling is becoming a  reality  the tiktok and wechat\" - TikTok and WeChat both being Chinese media platforms\n",
    "    * \"harderhitting  reality\""
   ]
  },
  {
   "cell_type": "markdown",
   "metadata": {},
   "source": [
    "### KWIC of regime"
   ]
  },
  {
   "cell_type": "code",
   "execution_count": 20,
   "metadata": {},
   "outputs": [],
   "source": [
    "all_kwic_regime = []\n",
    "\n",
    "for doc in LN2017 + LN2018 + LN2019 + LN2020 + LN2021:\n",
    "    text = doc['body']\n",
    "    tokens = tokenize(text, lowercase=True, strip_chars=chars_to_remove)\n",
    "    kwic = make_kwic('regime', tokens)\n",
    "    all_kwic_regime.extend(kwic)"
   ]
  },
  {
   "cell_type": "code",
   "execution_count": 21,
   "metadata": {},
   "outputs": [
    {
     "name": "stdout",
     "output_type": "stream",
     "text": [
      "               uighur minority related a  regime  that fears religion new\n",
      "                 reminding people that a  regime  whether then the soviet\n",
      "                     just as the beijing  regime  and its dictatorforlife 8220president8221\n",
      "             day the totalitarian castro  regime  has continued to surveil\n",
      "             day the totalitarian castro  regime  has continued to surveil\n",
      "                      party of china ccp  regime  in my research on\n",
      "           to chinas rigorous censorship  regime  the senators wrote chinese\n",
      "         ideology chinas vast censorship  regime  is without parallel freedom\n",
      "       chinas strict internet censorship  regime  known as the great\n",
      "              comply with its censorship  regime  as a prerequisite to\n",
      "           to chinas rigorous censorship  regime  after a cyberattack that\n",
      "                  demands of the chinese  regime  and closed the accounts\n",
      "               bloomberg read on chinese  regime  announced retaliation against us\n",
      "                     part of the chinese  regime  on par the station\n",
      "                pressured by the chinese  regime  when covid19 emerged at\n",
      "                    caved to the chinese  regime  morey has not been\n",
      "           institutions from the chinese  regime  bill list stop funding\n",
      "          favoring the chinese communist  regime  throughout the health crisis\n",
      "                added that the communist  regime  had in the past\n",
      "             minorities by the communist  regime  therefore allowing human rights\n",
      "                spying for the communist  regime  as part of the\n",
      "                 company and a communist  regime  is appalling and the\n",
      "                  the past the communist  regime  had conducted massive espionage\n",
      "                   of our export control  regime  focusing on these two\n",
      "            united states export control  regime  with hong kong first\n",
      "                   of our export control  regime  with hong kong both\n",
      "           and convoluted export control  regime  on us companies facilitating\n",
      "      deficiencies in moroccos copyright  regime  the prospect for meaningful\n",
      "              seen since the discredited  regime  of mao zedong today\n",
      "                    world as a dishonest  regime  running a corrupt economy\n",
      "                    world as a dishonest  regime  running a corrupt economy\n",
      "                    world as a dishonest  regime  running a corrupt economy\n",
      "        law overhauled chinas encryption  regime  after two decades of\n",
      "              the american laissez faire  regime  and the chinese system\n",
      "             party pcc that hypothetical  regime  was symbolically proclaimed by\n",
      "                   sign that xi jinpings  regime  is ready to deflate\n",
      "                chinas support of maduro  regime  even though the regime\n",
      "              the most expansive privacy  regime  in the world the\n",
      "             improved its ipr protection  regime  over the past few\n",
      "            experience with a repressive  regime  shaped his and the\n",
      "             as the cybersecurity review  regime  crr or cybersecurity review\n",
      " increasingly authoritarian and ruthless  regime     \n",
      "                 their message about the  regime  wray said the influence\n",
      "                 communist nature of the  regime  he was trying to\n",
      "             organised opposition to the  regime  the political situation which\n",
      "                       often used by the  regime  against journalists and carries\n",
      "               potential threat to their  regime  wu said its all\n",
      "                signs if an undemocratic  regime  like the one that\n",
      "                     leader kim jung uns  regime  wrongfully imprisoned and horribly\n",
      "                         to kim jong uns  regime  sen cory gardner rcolo\n"
     ]
    }
   ],
   "source": [
    "all_kwic_regime_s1 = random.sample(all_kwic_regime, 50)\n",
    "all_kwic_regime_s1 = sort_kwic(all_kwic_regime_s1, 'L1')\n",
    "print_kwic(all_kwic_regime_s1)"
   ]
  },
  {
   "cell_type": "markdown",
   "metadata": {},
   "source": [
    "**Observations**:\n",
    "* Very obvious that 'regime' has negative undertones as it's paried with:\n",
    "    * totalitarian, communist, and authoritarian, dishonest, encryption\n",
    "* \"world of russias old  regime  and hint at the\" - additionally, draws upon Cold War sentiments (negative history for Americans) with this example that mentions \"russia's old regime\"\n",
    "* \"clear to the maduro  regime  that it is our\" - [Russia and China support Venezuelian president Maduro, US supports interim president Guaido](https://www.bbc.com/news/world-latin-america-47053701)\n",
    "    * further implies how America associates the word 'regime' with\n",
    "    * additional name: castro, kim jung un (all communist and/or dictatorship governments)"
   ]
  },
  {
   "cell_type": "markdown",
   "metadata": {},
   "source": [
    "---"
   ]
  }
 ],
 "metadata": {
  "kernelspec": {
   "display_name": "Python 3",
   "language": "python",
   "name": "python3"
  },
  "language_info": {
   "codemirror_mode": {
    "name": "ipython",
    "version": 3
   },
   "file_extension": ".py",
   "mimetype": "text/x-python",
   "name": "python",
   "nbconvert_exporter": "python",
   "pygments_lexer": "ipython3",
   "version": "3.7.3"
  }
 },
 "nbformat": 4,
 "nbformat_minor": 2
}

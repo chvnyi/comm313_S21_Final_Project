{
 "cells": [
  {
   "cell_type": "markdown",
   "metadata": {},
   "source": [
    "# Initial Step:\n",
    "## Cleaning and Organizing Lexis Nexis Data\n",
    "* Using the Lexis Nexis data I collected and complied in LN_data, this notebook focuses on cleaning the ~10,000 total individual articles to make the dataset easier to navigate and analyze in separate notebook(s).\n",
    "\n",
    "\n",
    "---"
   ]
  },
  {
   "cell_type": "markdown",
   "metadata": {},
   "source": [
    "### Setup\n",
    "* Any additional modules:"
   ]
  },
  {
   "cell_type": "code",
   "execution_count": 1,
   "metadata": {},
   "outputs": [],
   "source": [
    "from collections import Counter\n",
    "import string\n",
    "import os\n",
    "import json\n",
    "import random\n",
    "import re\n",
    "import glob"
   ]
  },
  {
   "cell_type": "markdown",
   "metadata": {},
   "source": [
    "### Functions\n",
    "\n",
    "* Adding the option of functions that may help with the cleaning and organizing process.\n",
    "\n",
    "* A notebook created to store a variety of different functions to allow for quick access."
   ]
  },
  {
   "cell_type": "code",
   "execution_count": 2,
   "metadata": {},
   "outputs": [],
   "source": [
    " %run functions.ipynb"
   ]
  },
  {
   "cell_type": "markdown",
   "metadata": {},
   "source": [
    "## Data Cleaning"
   ]
  },
  {
   "cell_type": "markdown",
   "metadata": {},
   "source": [
    "### 1. Load and read all of the data from 2017-2021\n",
    "Goals: \n",
    "   * to return a list of dictionaries where each dictionary contains an individual article for each year\n",
    "       * previously, every 100 or so articles were grouped into their own txt file since I had to manually download every article in batches of 100 from Lexis Nexis. \n",
    "       * ex: all 2017 articles will be added to a single list of dictionaries dedicated to 2017 Lexis Nexis data.\n",
    "   * split each article on the 'Body' of the document and remove any non-articles\n",
    "       * include information from the header as it may be useful during the analysis."
   ]
  },
  {
   "cell_type": "code",
   "execution_count": 3,
   "metadata": {},
   "outputs": [],
   "source": [
    "raw_text = open('../data/LN_data/raw/LN_2017/LNpilot_2017.txt').read()"
   ]
  },
  {
   "cell_type": "code",
   "execution_count": 4,
   "metadata": {
    "scrolled": true
   },
   "outputs": [],
   "source": [
    "years = [f for f in os.listdir(\"../data/LN_data/raw\") if f.startswith (\"LN\")]"
   ]
  },
  {
   "cell_type": "code",
   "execution_count": 5,
   "metadata": {},
   "outputs": [
    {
     "data": {
      "text/plain": [
       "['LN_2017', 'LN_2018', 'LN_2019', 'LN_2020', 'LN_2021']"
      ]
     },
     "execution_count": 5,
     "metadata": {},
     "output_type": "execute_result"
    }
   ],
   "source": [
    "years"
   ]
  },
  {
   "cell_type": "code",
   "execution_count": 6,
   "metadata": {},
   "outputs": [],
   "source": [
    "raw_texts = glob.glob(\"../data/LN_data/raw/LN_*/LN*.txt\")"
   ]
  },
  {
   "cell_type": "markdown",
   "metadata": {},
   "source": [
    "### additional functions!"
   ]
  },
  {
   "cell_type": "code",
   "execution_count": 7,
   "metadata": {},
   "outputs": [],
   "source": [
    "def process_LN_year(fpath):\n",
    "    '''process all the text files in a folder, e.g. LN_2017 and return a list of dictionaries\n",
    "    \n",
    "    args:\n",
    "         fpath - file path to the folder containing the text files\n",
    "    returns:\n",
    "         a list of dictionaries, where each dictionary is a single article\n",
    "    '''\n",
    "    \n",
    "    docs = []\n",
    "    ln_files = glob.glob(f'{fpath}/LN*.txt')\n",
    "    print('Processing', len(ln_files), 'files')\n",
    "    \n",
    "    for fname in ln_files:\n",
    "        print('processing', fname)\n",
    "    \n",
    "        docs.extend(process_LN_file(fname))\n",
    "        \n",
    "    return docs"
   ]
  },
  {
   "cell_type": "code",
   "execution_count": 8,
   "metadata": {},
   "outputs": [],
   "source": [
    "def process_LN_file(fpath):\n",
    " \n",
    "    docs = []\n",
    "\n",
    "    raw_text = open(fpath).read()\n",
    "    remove = raw_text.split('End of Document')\n",
    "    all_docs = remove[1:]\n",
    "    \n",
    "    rejected_list = []\n",
    "\n",
    "    for doc in all_docs:\n",
    "        try: \n",
    "            body_text_start = doc.index('Body')+4\n",
    "            body_text_end = doc.find('Load-Date:')\n",
    "\n",
    "            body_text = doc[body_text_start:body_text_end].strip()\n",
    "\n",
    "            header = doc[:body_text_start].strip()\n",
    "            hlines = header.split('\\n')\n",
    "            \n",
    "            doc = {\n",
    "                    'title': hlines[0],\n",
    "                    'source': hlines[1],\n",
    "                    'date': hlines[2],\n",
    "                    'body': body_text\n",
    "            }\n",
    "            \n",
    "            docs.append(doc)\n",
    "        except:\n",
    "            rejected_list.append(doc)\n",
    "            \n",
    "    return docs"
   ]
  },
  {
   "cell_type": "markdown",
   "metadata": {},
   "source": [
    "#### 2017 articles"
   ]
  },
  {
   "cell_type": "code",
   "execution_count": 9,
   "metadata": {},
   "outputs": [
    {
     "name": "stdout",
     "output_type": "stream",
     "text": [
      "Processing 12 files\n",
      "processing ../data/LN_data/raw/LN_2017/LN47_2017_1.txt\n",
      "processing ../data/LN_data/raw/LN_2017/LN47_2017_2.txt\n",
      "processing ../data/LN_data/raw/LN_2017/LN47_2017_3.txt\n",
      "processing ../data/LN_data/raw/LN_2017/LN47_2017_4.txt\n",
      "processing ../data/LN_data/raw/LN_2017/LN812_2017_1.txt\n",
      "processing ../data/LN_data/raw/LN_2017/LN812_2017_2.txt\n",
      "processing ../data/LN_data/raw/LN_2017/LN812_2017_3.txt\n",
      "processing ../data/LN_data/raw/LN_2017/LN812_2017_4.txt\n",
      "processing ../data/LN_data/raw/LN_2017/LN812_2017_5.txt\n",
      "processing ../data/LN_data/raw/LN_2017/LNpilot2_2017.txt\n",
      "processing ../data/LN_data/raw/LN_2017/LNpilot3_2017.txt\n",
      "processing ../data/LN_data/raw/LN_2017/LNpilot_2017.txt\n"
     ]
    }
   ],
   "source": [
    "LN2017_docs = process_LN_year('../data/LN_data/raw/LN_2017')"
   ]
  },
  {
   "cell_type": "code",
   "execution_count": 10,
   "metadata": {},
   "outputs": [
    {
     "data": {
      "text/plain": [
       "974"
      ]
     },
     "execution_count": 10,
     "metadata": {},
     "output_type": "execute_result"
    }
   ],
   "source": [
    "len(LN2017_docs)"
   ]
  },
  {
   "cell_type": "markdown",
   "metadata": {},
   "source": [
    "#### 2018 articles"
   ]
  },
  {
   "cell_type": "code",
   "execution_count": 11,
   "metadata": {},
   "outputs": [
    {
     "name": "stdout",
     "output_type": "stream",
     "text": [
      "Processing 22 files\n",
      "processing ../data/LN_data/raw/LN_2018/LN1012_2018_1.txt\n",
      "processing ../data/LN_data/raw/LN_2018/LN1012_2018_2.txt\n",
      "processing ../data/LN_data/raw/LN_2018/LN1012_2018_3.txt\n",
      "processing ../data/LN_data/raw/LN_2018/LN1012_2018_4.txt\n",
      "processing ../data/LN_data/raw/LN_2018/LN1012_2018_5.txt\n",
      "processing ../data/LN_data/raw/LN_2018/LN1012_2018_6.txt\n",
      "processing ../data/LN_data/raw/LN_2018/LN13_2018_1.txt\n",
      "processing ../data/LN_data/raw/LN_2018/LN13_2018_2.txt\n",
      "processing ../data/LN_data/raw/LN_2018/LN13_2018_3.txt\n",
      "processing ../data/LN_data/raw/LN_2018/LN13_2018_4.txt\n",
      "processing ../data/LN_data/raw/LN_2018/LN46_2018_1.txt\n",
      "processing ../data/LN_data/raw/LN_2018/LN46_2018_2.txt\n",
      "processing ../data/LN_data/raw/LN_2018/LN46_2018_3.txt\n",
      "processing ../data/LN_data/raw/LN_2018/LN46_2018_4.txt\n",
      "processing ../data/LN_data/raw/LN_2018/LN46_2018_5.txt\n",
      "processing ../data/LN_data/raw/LN_2018/LN46_2018_6.txt\n",
      "processing ../data/LN_data/raw/LN_2018/LN79_2018_1.txt\n",
      "processing ../data/LN_data/raw/LN_2018/LN79_2018_2.txt\n",
      "processing ../data/LN_data/raw/LN_2018/LN79_2018_3.txt\n",
      "processing ../data/LN_data/raw/LN_2018/LN79_2018_4.txt\n",
      "processing ../data/LN_data/raw/LN_2018/LN79_2018_5.txt\n",
      "processing ../data/LN_data/raw/LN_2018/LN79_2018_6.txt\n"
     ]
    }
   ],
   "source": [
    "LN2018_docs = process_LN_year('../data/LN_data/raw/LN_2018')"
   ]
  },
  {
   "cell_type": "code",
   "execution_count": 12,
   "metadata": {},
   "outputs": [
    {
     "data": {
      "text/plain": [
       "1915"
      ]
     },
     "execution_count": 12,
     "metadata": {},
     "output_type": "execute_result"
    }
   ],
   "source": [
    "len(LN2018_docs)"
   ]
  },
  {
   "cell_type": "markdown",
   "metadata": {},
   "source": [
    "#### 2019 articles"
   ]
  },
  {
   "cell_type": "code",
   "execution_count": 13,
   "metadata": {},
   "outputs": [
    {
     "name": "stdout",
     "output_type": "stream",
     "text": [
      "Processing 34 files\n",
      "processing ../data/LN_data/raw/LN_2019/LN1112_2019_1.txt\n",
      "processing ../data/LN_data/raw/LN_2019/LN1112_2019_2.txt\n",
      "processing ../data/LN_data/raw/LN_2019/LN1112_2019_3.txt\n",
      "processing ../data/LN_data/raw/LN_2019/LN1112_2019_4.txt\n",
      "processing ../data/LN_data/raw/LN_2019/LN1112_2019_5.txt\n",
      "processing ../data/LN_data/raw/LN_2019/LN1112_2019_6.txt\n",
      "processing ../data/LN_data/raw/LN_2019/LN13_2019_1.txt\n",
      "processing ../data/LN_data/raw/LN_2019/LN13_2019_2.txt\n",
      "processing ../data/LN_data/raw/LN_2019/LN13_2019_3.txt\n",
      "processing ../data/LN_data/raw/LN_2019/LN13_2019_4.txt\n",
      "processing ../data/LN_data/raw/LN_2019/LN13_2019_5.txt\n",
      "processing ../data/LN_data/raw/LN_2019/LN13_2019_6.txt\n",
      "processing ../data/LN_data/raw/LN_2019/LN46_2019_1.txt\n",
      "processing ../data/LN_data/raw/LN_2019/LN46_2019_2.txt\n",
      "processing ../data/LN_data/raw/LN_2019/LN46_2019_3.txt\n",
      "processing ../data/LN_data/raw/LN_2019/LN46_2019_4.txt\n",
      "processing ../data/LN_data/raw/LN_2019/LN46_2019_5.txt\n",
      "processing ../data/LN_data/raw/LN_2019/LN46_2019_6.txt\n",
      "processing ../data/LN_data/raw/LN_2019/LN46_2019_7.txt\n",
      "processing ../data/LN_data/raw/LN_2019/LN46_2019_8.txt\n",
      "processing ../data/LN_data/raw/LN_2019/LN78_2019_1.txt\n",
      "processing ../data/LN_data/raw/LN_2019/LN78_2019_2.txt\n",
      "processing ../data/LN_data/raw/LN_2019/LN78_2019_3.txt\n",
      "processing ../data/LN_data/raw/LN_2019/LN78_2019_4.txt\n",
      "processing ../data/LN_data/raw/LN_2019/LN78_2019_5.txt\n",
      "processing ../data/LN_data/raw/LN_2019/LN78_2019_6.txt\n",
      "processing ../data/LN_data/raw/LN_2019/LN78_2019_7.txt\n",
      "processing ../data/LN_data/raw/LN_2019/LN910_2019_1.txt\n",
      "processing ../data/LN_data/raw/LN_2019/LN910_2019_2.txt\n",
      "processing ../data/LN_data/raw/LN_2019/LN910_2019_3.txt\n",
      "processing ../data/LN_data/raw/LN_2019/LN910_2019_4.txt\n",
      "processing ../data/LN_data/raw/LN_2019/LN910_2019_5.txt\n",
      "processing ../data/LN_data/raw/LN_2019/LN910_2019_6.txt\n",
      "processing ../data/LN_data/raw/LN_2019/LN910_2019_7.txt\n"
     ]
    }
   ],
   "source": [
    "LN2019_docs = process_LN_year('../data/LN_data/raw/LN_2019')"
   ]
  },
  {
   "cell_type": "code",
   "execution_count": 14,
   "metadata": {},
   "outputs": [
    {
     "data": {
      "text/plain": [
       "3106"
      ]
     },
     "execution_count": 14,
     "metadata": {},
     "output_type": "execute_result"
    }
   ],
   "source": [
    "len(LN2019_docs)"
   ]
  },
  {
   "cell_type": "markdown",
   "metadata": {},
   "source": [
    "#### 2020 articles"
   ]
  },
  {
   "cell_type": "code",
   "execution_count": 15,
   "metadata": {},
   "outputs": [
    {
     "name": "stdout",
     "output_type": "stream",
     "text": [
      "Processing 33 files\n",
      "processing ../data/LN_data/raw/LN_2020/LN1112_2020_1.txt\n",
      "processing ../data/LN_data/raw/LN_2020/LN1112_2020_2.txt\n",
      "processing ../data/LN_data/raw/LN_2020/LN1112_2020_3.txt\n",
      "processing ../data/LN_data/raw/LN_2020/LN12_2020_1.txt\n",
      "processing ../data/LN_data/raw/LN_2020/LN12_2020_2.txt\n",
      "processing ../data/LN_data/raw/LN_2020/LN12_2020_3.txt\n",
      "processing ../data/LN_data/raw/LN_2020/LN12_2020_4.txt\n",
      "processing ../data/LN_data/raw/LN_2020/LN12_2020_5.txt\n",
      "processing ../data/LN_data/raw/LN_2020/LN12_2020_6.txt\n",
      "processing ../data/LN_data/raw/LN_2020/LN35_2020_1.txt\n",
      "processing ../data/LN_data/raw/LN_2020/LN35_2020_2.txt\n",
      "processing ../data/LN_data/raw/LN_2020/LN35_2020_3.txt\n",
      "processing ../data/LN_data/raw/LN_2020/LN35_2020_4.txt\n",
      "processing ../data/LN_data/raw/LN_2020/LN35_2020_5.txt\n",
      "processing ../data/LN_data/raw/LN_2020/LN35_2020_6.txt\n",
      "processing ../data/LN_data/raw/LN_2020/LN35_2020_7.txt\n",
      "processing ../data/LN_data/raw/LN_2020/LN67_2020_1.txt\n",
      "processing ../data/LN_data/raw/LN_2020/LN67_2020_2.txt\n",
      "processing ../data/LN_data/raw/LN_2020/LN67_2020_3.txt\n",
      "processing ../data/LN_data/raw/LN_2020/LN67_2020_4.txt\n",
      "processing ../data/LN_data/raw/LN_2020/LN67_2020_5.txt\n",
      "processing ../data/LN_data/raw/LN_2020/LN67_2020_6.txt\n",
      "processing ../data/LN_data/raw/LN_2020/LN67_2020_7.txt\n",
      "processing ../data/LN_data/raw/LN_2020/LN8_2020_1.txt\n",
      "processing ../data/LN_data/raw/LN_2020/LN8_2020_2.txt\n",
      "processing ../data/LN_data/raw/LN_2020/LN8_2020_3.txt\n",
      "processing ../data/LN_data/raw/LN_2020/LN8_2020_4.txt\n",
      "processing ../data/LN_data/raw/LN_2020/LN910_2020_1.txt\n",
      "processing ../data/LN_data/raw/LN_2020/LN910_2020_2.txt\n",
      "processing ../data/LN_data/raw/LN_2020/LN910_2020_3.txt\n",
      "processing ../data/LN_data/raw/LN_2020/LN910_2020_4.txt\n",
      "processing ../data/LN_data/raw/LN_2020/LN910_2020_5.txt\n",
      "processing ../data/LN_data/raw/LN_2020/LN910_2020_6.txt\n"
     ]
    }
   ],
   "source": [
    "LN2020_docs = process_LN_year('../data/LN_data/raw/LN_2020')"
   ]
  },
  {
   "cell_type": "code",
   "execution_count": 16,
   "metadata": {},
   "outputs": [
    {
     "data": {
      "text/plain": [
       "3057"
      ]
     },
     "execution_count": 16,
     "metadata": {},
     "output_type": "execute_result"
    }
   ],
   "source": [
    "len(LN2020_docs)"
   ]
  },
  {
   "cell_type": "markdown",
   "metadata": {},
   "source": [
    "#### 2021 articles\n",
    "* data collected from Jan 2021 - March 2021"
   ]
  },
  {
   "cell_type": "code",
   "execution_count": 17,
   "metadata": {},
   "outputs": [
    {
     "name": "stdout",
     "output_type": "stream",
     "text": [
      "Processing 8 files\n",
      "processing ../data/LN_data/raw/LN_2021/LN_2021_1.txt\n",
      "processing ../data/LN_data/raw/LN_2021/LN_2021_2.txt\n",
      "processing ../data/LN_data/raw/LN_2021/LN_2021_3.txt\n",
      "processing ../data/LN_data/raw/LN_2021/LN_2021_4.txt\n",
      "processing ../data/LN_data/raw/LN_2021/LN_2021_5.txt\n",
      "processing ../data/LN_data/raw/LN_2021/LN_2021_6.txt\n",
      "processing ../data/LN_data/raw/LN_2021/LN_2021_7.txt\n",
      "processing ../data/LN_data/raw/LN_2021/LN_2021_8.txt\n"
     ]
    }
   ],
   "source": [
    "LN2021_docs = process_LN_year('../data/LN_data/raw/LN_2021')"
   ]
  },
  {
   "cell_type": "code",
   "execution_count": 18,
   "metadata": {},
   "outputs": [
    {
     "data": {
      "text/plain": [
       "771"
      ]
     },
     "execution_count": 18,
     "metadata": {},
     "output_type": "execute_result"
    }
   ],
   "source": [
    "len(LN2021_docs)"
   ]
  },
  {
   "cell_type": "markdown",
   "metadata": {},
   "source": [
    "### 2. Write JSON files for each year\n",
    "* taking the cleaned data, write each list as a JSON file"
   ]
  },
  {
   "cell_type": "code",
   "execution_count": 19,
   "metadata": {},
   "outputs": [],
   "source": [
    "def write_LN_JSON(year, data):\n",
    "    with open(f'../data/LN_data/cleaned/LN_{year}.json', 'w') as out:\n",
    "        out.write(json.dumps(data,indent=4))"
   ]
  },
  {
   "cell_type": "code",
   "execution_count": 20,
   "metadata": {},
   "outputs": [],
   "source": [
    "write_LN_JSON(2017, LN2017_docs)"
   ]
  },
  {
   "cell_type": "code",
   "execution_count": 21,
   "metadata": {},
   "outputs": [],
   "source": [
    "write_LN_JSON(2018, LN2018_docs)"
   ]
  },
  {
   "cell_type": "code",
   "execution_count": 22,
   "metadata": {},
   "outputs": [],
   "source": [
    "write_LN_JSON(2019, LN2019_docs)\n",
    "write_LN_JSON(2020, LN2020_docs)"
   ]
  },
  {
   "cell_type": "code",
   "execution_count": 23,
   "metadata": {},
   "outputs": [],
   "source": [
    "write_LN_JSON(2021, LN2021_docs)"
   ]
  }
 ],
 "metadata": {
  "kernelspec": {
   "display_name": "Python 3",
   "language": "python",
   "name": "python3"
  },
  "language_info": {
   "codemirror_mode": {
    "name": "ipython",
    "version": 3
   },
   "file_extension": ".py",
   "mimetype": "text/x-python",
   "name": "python",
   "nbconvert_exporter": "python",
   "pygments_lexer": "ipython3",
   "version": "3.7.3"
  }
 },
 "nbformat": 4,
 "nbformat_minor": 2
}

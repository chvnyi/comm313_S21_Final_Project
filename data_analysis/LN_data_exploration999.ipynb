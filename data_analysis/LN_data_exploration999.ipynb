{
 "cells": [
  {
   "cell_type": "markdown",
   "metadata": {},
   "source": [
    "# Data Exploration (-):\n",
    "## N-gram Frequency Analyses\n",
    "* This notebook focuses on looking at the bigram and trigrams for each year with a combined bitrigram list at the end.\n",
    "\n",
    "\n",
    "Unfortunately, the notebook keeps crashing and restarting on me and I haven't gotten it to run smoothly so while it won't be part of my analysis, I still wanted to keep my work instead of getting rid of it entirely.\n",
    "\n",
    "---"
   ]
  },
  {
   "cell_type": "markdown",
   "metadata": {},
   "source": [
    "### Setup\n",
    "* includes additional modules, functions, and chars_to_strip"
   ]
  },
  {
   "cell_type": "code",
   "execution_count": 1,
   "metadata": {},
   "outputs": [],
   "source": [
    "import json\n",
    "from collections import Counter\n",
    "import random\n",
    "import pandas as pd\n",
    "import numpy as np"
   ]
  },
  {
   "cell_type": "code",
   "execution_count": 2,
   "metadata": {},
   "outputs": [],
   "source": [
    "%run functions.ipynb"
   ]
  },
  {
   "cell_type": "code",
   "execution_count": 3,
   "metadata": {},
   "outputs": [],
   "source": [
    "chars_to_remove = '!\"#$%&\\'()*+,-./:;<=>?@[\\\\]^_`{|}~'"
   ]
  },
  {
   "cell_type": "markdown",
   "metadata": {},
   "source": [
    "## 1. Load data"
   ]
  },
  {
   "cell_type": "code",
   "execution_count": 4,
   "metadata": {},
   "outputs": [],
   "source": [
    "LN2017 = json.load(open('../data/LN_data/cleaned/LN_2017.json'))\n",
    "LN2018 = json.load(open('../data/LN_data/cleaned/LN_2018.json'))\n",
    "LN2019 = json.load(open('../data/LN_data/cleaned/LN_2019.json'))\n",
    "LN2020 = json.load(open('../data/LN_data/cleaned/LN_2020.json'))\n",
    "LN2021 = json.load(open('../data/LN_data/cleaned/LN_2021.json'))"
   ]
  },
  {
   "cell_type": "markdown",
   "metadata": {},
   "source": [
    "## 2. Bigram and Trigrams"
   ]
  },
  {
   "cell_type": "markdown",
   "metadata": {},
   "source": [
    "### 2017"
   ]
  },
  {
   "cell_type": "code",
   "execution_count": 5,
   "metadata": {},
   "outputs": [],
   "source": [
    "word_bigram_2017 = Counter()\n",
    "word_trigram_2017 = Counter()\n",
    "\n",
    "for bitri in LN2017:\n",
    "    text = bitri['body']\n",
    "    tokens = tokenize(text, lowercase=True, strip_chars=chars_to_remove)\n",
    "    bigram_2017 = get_ngram_tokens(tokens, n=2)\n",
    "    trigram_2017 = get_ngram_tokens(tokens, n=3)\n",
    "    word_bigram_2017.update(bigram_2017)\n",
    "    word_trigram_2017.update(trigram_2017)"
   ]
  },
  {
   "cell_type": "code",
   "execution_count": 6,
   "metadata": {},
   "outputs": [],
   "source": [
    "top_20_bigrams_2017 = word_bigram_2017.most_common(20)\n",
    "top_20_trigrams_2017 = word_trigram_2017.most_common(20)"
   ]
  },
  {
   "cell_type": "code",
   "execution_count": 7,
   "metadata": {},
   "outputs": [],
   "source": [
    "bigram_list_2017 = [i[0] for i in top_20_bigrams_2017]\n",
    "trigram_list_2017 = [i[0] for i in top_20_trigrams_2017]"
   ]
  },
  {
   "cell_type": "code",
   "execution_count": 8,
   "metadata": {},
   "outputs": [
    {
     "data": {
      "text/html": [
       "<div>\n",
       "<style scoped>\n",
       "    .dataframe tbody tr th:only-of-type {\n",
       "        vertical-align: middle;\n",
       "    }\n",
       "\n",
       "    .dataframe tbody tr th {\n",
       "        vertical-align: top;\n",
       "    }\n",
       "\n",
       "    .dataframe thead th {\n",
       "        text-align: right;\n",
       "    }\n",
       "</style>\n",
       "<table border=\"1\" class=\"dataframe\">\n",
       "  <thead>\n",
       "    <tr style=\"text-align: right;\">\n",
       "      <th></th>\n",
       "      <th>Bigrams</th>\n",
       "      <th>Trigrams</th>\n",
       "    </tr>\n",
       "  </thead>\n",
       "  <tbody>\n",
       "    <tr>\n",
       "      <th>0</th>\n",
       "      <td>of the</td>\n",
       "      <td>the united states</td>\n",
       "    </tr>\n",
       "    <tr>\n",
       "      <th>1</th>\n",
       "      <td>in the</td>\n",
       "      <td>the chinese government</td>\n",
       "    </tr>\n",
       "    <tr>\n",
       "      <th>2</th>\n",
       "      <td>to the</td>\n",
       "      <td>as well as</td>\n",
       "    </tr>\n",
       "    <tr>\n",
       "      <th>3</th>\n",
       "      <td>for the</td>\n",
       "      <td>includes corresponding graphchart</td>\n",
       "    </tr>\n",
       "    <tr>\n",
       "      <th>4</th>\n",
       "      <td>and the</td>\n",
       "      <td>one of the</td>\n",
       "    </tr>\n",
       "    <tr>\n",
       "      <th>5</th>\n",
       "      <td>on the</td>\n",
       "      <td>in the united</td>\n",
       "    </tr>\n",
       "    <tr>\n",
       "      <th>6</th>\n",
       "      <td>the chinese</td>\n",
       "      <td>in the us</td>\n",
       "    </tr>\n",
       "    <tr>\n",
       "      <th>7</th>\n",
       "      <td>in china</td>\n",
       "      <td>according to the</td>\n",
       "    </tr>\n",
       "    <tr>\n",
       "      <th>8</th>\n",
       "      <td>with the</td>\n",
       "      <td>a lot of</td>\n",
       "    </tr>\n",
       "    <tr>\n",
       "      <th>9</th>\n",
       "      <td>by the</td>\n",
       "      <td>analyzed with annual</td>\n",
       "    </tr>\n",
       "    <tr>\n",
       "      <th>10</th>\n",
       "      <td>the united</td>\n",
       "      <td>in the world</td>\n",
       "    </tr>\n",
       "    <tr>\n",
       "      <th>11</th>\n",
       "      <td>united states</td>\n",
       "      <td>the chinese governments</td>\n",
       "    </tr>\n",
       "    <tr>\n",
       "      <th>12</th>\n",
       "      <td>the us</td>\n",
       "      <td>corresponding graphchart table</td>\n",
       "    </tr>\n",
       "    <tr>\n",
       "      <th>13</th>\n",
       "      <td>the company</td>\n",
       "      <td>figures in us</td>\n",
       "    </tr>\n",
       "    <tr>\n",
       "      <th>14</th>\n",
       "      <td>that the</td>\n",
       "      <td>united states and</td>\n",
       "    </tr>\n",
       "    <tr>\n",
       "      <th>15</th>\n",
       "      <td>to be</td>\n",
       "      <td>of the chinese</td>\n",
       "    </tr>\n",
       "    <tr>\n",
       "      <th>16</th>\n",
       "      <td>at the</td>\n",
       "      <td>by the chinese</td>\n",
       "    </tr>\n",
       "    <tr>\n",
       "      <th>17</th>\n",
       "      <td>chinese government</td>\n",
       "      <td>markets independently analyzed</td>\n",
       "    </tr>\n",
       "    <tr>\n",
       "      <th>18</th>\n",
       "      <td>in a</td>\n",
       "      <td>independently analyzed with</td>\n",
       "    </tr>\n",
       "    <tr>\n",
       "      <th>19</th>\n",
       "      <td>from the</td>\n",
       "      <td>in china and</td>\n",
       "    </tr>\n",
       "  </tbody>\n",
       "</table>\n",
       "</div>"
      ],
      "text/plain": [
       "               Bigrams                           Trigrams\n",
       "0               of the                  the united states\n",
       "1               in the             the chinese government\n",
       "2               to the                         as well as\n",
       "3              for the  includes corresponding graphchart\n",
       "4              and the                         one of the\n",
       "5               on the                      in the united\n",
       "6          the chinese                          in the us\n",
       "7             in china                   according to the\n",
       "8             with the                           a lot of\n",
       "9               by the               analyzed with annual\n",
       "10          the united                       in the world\n",
       "11       united states            the chinese governments\n",
       "12              the us     corresponding graphchart table\n",
       "13         the company                      figures in us\n",
       "14            that the                  united states and\n",
       "15               to be                     of the chinese\n",
       "16              at the                     by the chinese\n",
       "17  chinese government     markets independently analyzed\n",
       "18                in a        independently analyzed with\n",
       "19            from the                       in china and"
      ]
     },
     "execution_count": 8,
     "metadata": {},
     "output_type": "execute_result"
    }
   ],
   "source": [
    "bitrigram_2017 = pd.DataFrame({\"Bigrams\":bigram_list_2017, \"Trigrams\":trigram_list_2017})\n",
    "bitrigram_2017"
   ]
  },
  {
   "cell_type": "markdown",
   "metadata": {},
   "source": [
    "### 2018"
   ]
  },
  {
   "cell_type": "code",
   "execution_count": 9,
   "metadata": {},
   "outputs": [],
   "source": [
    "word_bigram_2018 = Counter()\n",
    "word_trigram_2018 = Counter()\n",
    "\n",
    "for bitri in LN2018:\n",
    "    text = bitri['body']\n",
    "    tokens = tokenize(text, lowercase=True, strip_chars=chars_to_remove)\n",
    "    bigram_2018 = get_ngram_tokens(tokens, n=2)\n",
    "    trigram_2018 = get_ngram_tokens(tokens, n=3)\n",
    "    word_bigram_2018.update(bigram_2018)\n",
    "    word_trigram_2018.update(trigram_2018)"
   ]
  },
  {
   "cell_type": "code",
   "execution_count": 10,
   "metadata": {},
   "outputs": [],
   "source": [
    "top_20_bigrams_2018 = word_bigram_2018.most_common(20)\n",
    "top_20_trigrams_2018 = word_trigram_2018.most_common(20)"
   ]
  },
  {
   "cell_type": "code",
   "execution_count": 11,
   "metadata": {},
   "outputs": [],
   "source": [
    "bigram_list_2018 = [i[0] for i in top_20_bigrams_2018]\n",
    "trigram_list_2018 = [i[0] for i in top_20_trigrams_2018]"
   ]
  },
  {
   "cell_type": "code",
   "execution_count": 12,
   "metadata": {
    "scrolled": true
   },
   "outputs": [
    {
     "data": {
      "text/html": [
       "<div>\n",
       "<style scoped>\n",
       "    .dataframe tbody tr th:only-of-type {\n",
       "        vertical-align: middle;\n",
       "    }\n",
       "\n",
       "    .dataframe tbody tr th {\n",
       "        vertical-align: top;\n",
       "    }\n",
       "\n",
       "    .dataframe thead th {\n",
       "        text-align: right;\n",
       "    }\n",
       "</style>\n",
       "<table border=\"1\" class=\"dataframe\">\n",
       "  <thead>\n",
       "    <tr style=\"text-align: right;\">\n",
       "      <th></th>\n",
       "      <th>Bigrams</th>\n",
       "      <th>Trigrams</th>\n",
       "    </tr>\n",
       "  </thead>\n",
       "  <tbody>\n",
       "    <tr>\n",
       "      <th>0</th>\n",
       "      <td>of the</td>\n",
       "      <td>the united states</td>\n",
       "    </tr>\n",
       "    <tr>\n",
       "      <th>1</th>\n",
       "      <td>in the</td>\n",
       "      <td>the chinese government</td>\n",
       "    </tr>\n",
       "    <tr>\n",
       "      <th>2</th>\n",
       "      <td>to the</td>\n",
       "      <td>includes corresponding graphchart</td>\n",
       "    </tr>\n",
       "    <tr>\n",
       "      <th>3</th>\n",
       "      <td>the chinese</td>\n",
       "      <td>one of the</td>\n",
       "    </tr>\n",
       "    <tr>\n",
       "      <th>4</th>\n",
       "      <td>on the</td>\n",
       "      <td>a lot of</td>\n",
       "    </tr>\n",
       "    <tr>\n",
       "      <th>5</th>\n",
       "      <td>for the</td>\n",
       "      <td>as well as</td>\n",
       "    </tr>\n",
       "    <tr>\n",
       "      <th>6</th>\n",
       "      <td>and the</td>\n",
       "      <td>going to be</td>\n",
       "    </tr>\n",
       "    <tr>\n",
       "      <th>7</th>\n",
       "      <td>the us</td>\n",
       "      <td>in the united</td>\n",
       "    </tr>\n",
       "    <tr>\n",
       "      <th>8</th>\n",
       "      <td>in china</td>\n",
       "      <td>corresponding graphchart table</td>\n",
       "    </tr>\n",
       "    <tr>\n",
       "      <th>9</th>\n",
       "      <td>to be</td>\n",
       "      <td>in terms of</td>\n",
       "    </tr>\n",
       "    <tr>\n",
       "      <th>10</th>\n",
       "      <td>with the</td>\n",
       "      <td>in the us</td>\n",
       "    </tr>\n",
       "    <tr>\n",
       "      <th>11</th>\n",
       "      <td>at the</td>\n",
       "      <td>according to the</td>\n",
       "    </tr>\n",
       "    <tr>\n",
       "      <th>12</th>\n",
       "      <td>united states</td>\n",
       "      <td>the white house</td>\n",
       "    </tr>\n",
       "    <tr>\n",
       "      <th>13</th>\n",
       "      <td>the united</td>\n",
       "      <td>in the world</td>\n",
       "    </tr>\n",
       "    <tr>\n",
       "      <th>14</th>\n",
       "      <td>by the</td>\n",
       "      <td>of the chinese</td>\n",
       "    </tr>\n",
       "    <tr>\n",
       "      <th>15</th>\n",
       "      <td>that the</td>\n",
       "      <td>around the world</td>\n",
       "    </tr>\n",
       "    <tr>\n",
       "      <th>16</th>\n",
       "      <td>going to</td>\n",
       "      <td>quarter of 2018</td>\n",
       "    </tr>\n",
       "    <tr>\n",
       "      <th>17</th>\n",
       "      <td>chinese government</td>\n",
       "      <td>quarter of 2017</td>\n",
       "    </tr>\n",
       "    <tr>\n",
       "      <th>18</th>\n",
       "      <td>in a</td>\n",
       "      <td>by the chinese</td>\n",
       "    </tr>\n",
       "    <tr>\n",
       "      <th>19</th>\n",
       "      <td>the company</td>\n",
       "      <td>is going to</td>\n",
       "    </tr>\n",
       "  </tbody>\n",
       "</table>\n",
       "</div>"
      ],
      "text/plain": [
       "               Bigrams                           Trigrams\n",
       "0               of the                  the united states\n",
       "1               in the             the chinese government\n",
       "2               to the  includes corresponding graphchart\n",
       "3          the chinese                         one of the\n",
       "4               on the                           a lot of\n",
       "5              for the                         as well as\n",
       "6              and the                        going to be\n",
       "7               the us                      in the united\n",
       "8             in china     corresponding graphchart table\n",
       "9                to be                        in terms of\n",
       "10            with the                          in the us\n",
       "11              at the                   according to the\n",
       "12       united states                    the white house\n",
       "13          the united                       in the world\n",
       "14              by the                     of the chinese\n",
       "15            that the                   around the world\n",
       "16            going to                    quarter of 2018\n",
       "17  chinese government                    quarter of 2017\n",
       "18                in a                     by the chinese\n",
       "19         the company                        is going to"
      ]
     },
     "execution_count": 12,
     "metadata": {},
     "output_type": "execute_result"
    }
   ],
   "source": [
    "bitrigram_2018 = pd.DataFrame({\"Bigrams\":bigram_list_2018, \"Trigrams\":trigram_list_2018})\n",
    "bitrigram_2018"
   ]
  },
  {
   "cell_type": "markdown",
   "metadata": {},
   "source": [
    "### 2019"
   ]
  },
  {
   "cell_type": "code",
   "execution_count": 13,
   "metadata": {},
   "outputs": [],
   "source": [
    "word_bigram_2019 = Counter()\n",
    "word_trigram_2019 = Counter()\n",
    "\n",
    "for bitri in LN2019:\n",
    "    text = bitri['body']\n",
    "    tokens = tokenize(text, lowercase=True, strip_chars=chars_to_remove)\n",
    "    bigram_2019 = get_ngram_tokens(tokens, n=2)\n",
    "    trigram_2019 = get_ngram_tokens(tokens, n=3)\n",
    "    word_bigram_2019.update(bigram_2019)\n",
    "    word_trigram_2019.update(trigram_2019)"
   ]
  },
  {
   "cell_type": "code",
   "execution_count": null,
   "metadata": {},
   "outputs": [],
   "source": [
    "top_20_bigrams_2019 = word_bigram_2019.most_common(20)\n",
    "top_20_trigrams_2019 = word_trigram_2019.most_common(20)"
   ]
  },
  {
   "cell_type": "code",
   "execution_count": null,
   "metadata": {},
   "outputs": [],
   "source": [
    "bigram_list_2019 = [i[0] for i in top_20_bigrams_2019]\n",
    "trigram_list_2019 = [i[0] for i in top_20_trigrams_2019]"
   ]
  },
  {
   "cell_type": "code",
   "execution_count": null,
   "metadata": {},
   "outputs": [
    {
     "data": {
      "text/html": [
       "<div>\n",
       "<style scoped>\n",
       "    .dataframe tbody tr th:only-of-type {\n",
       "        vertical-align: middle;\n",
       "    }\n",
       "\n",
       "    .dataframe tbody tr th {\n",
       "        vertical-align: top;\n",
       "    }\n",
       "\n",
       "    .dataframe thead th {\n",
       "        text-align: right;\n",
       "    }\n",
       "</style>\n",
       "<table border=\"1\" class=\"dataframe\">\n",
       "  <thead>\n",
       "    <tr style=\"text-align: right;\">\n",
       "      <th></th>\n",
       "      <th>Bigrams</th>\n",
       "      <th>Trigrams</th>\n",
       "    </tr>\n",
       "  </thead>\n",
       "  <tbody>\n",
       "    <tr>\n",
       "      <th>0</th>\n",
       "      <td>in the</td>\n",
       "      <td>sp capital iq</td>\n",
       "    </tr>\n",
       "    <tr>\n",
       "      <th>1</th>\n",
       "      <td>of the</td>\n",
       "      <td>capital iq consensus</td>\n",
       "    </tr>\n",
       "    <tr>\n",
       "      <th>2</th>\n",
       "      <td>capital iq</td>\n",
       "      <td>the sp 500</td>\n",
       "    </tr>\n",
       "    <tr>\n",
       "      <th>3</th>\n",
       "      <td>sp capital</td>\n",
       "      <td>vs fair value</td>\n",
       "    </tr>\n",
       "    <tr>\n",
       "      <th>4</th>\n",
       "      <td>for the</td>\n",
       "      <td>futures vs fair</td>\n",
       "    </tr>\n",
       "    <tr>\n",
       "      <th>5</th>\n",
       "      <td>iq consensus</td>\n",
       "      <td>iq consensus of</td>\n",
       "    </tr>\n",
       "    <tr>\n",
       "      <th>6</th>\n",
       "      <td>to the</td>\n",
       "      <td>the sp capital</td>\n",
       "    </tr>\n",
       "    <tr>\n",
       "      <th>7</th>\n",
       "      <td>the sp</td>\n",
       "      <td>than the sp</td>\n",
       "    </tr>\n",
       "    <tr>\n",
       "      <th>8</th>\n",
       "      <td>and the</td>\n",
       "      <td>excluding nonrecurring items</td>\n",
       "    </tr>\n",
       "    <tr>\n",
       "      <th>9</th>\n",
       "      <td>the us</td>\n",
       "      <td>mln sp capital</td>\n",
       "    </tr>\n",
       "    <tr>\n",
       "      <th>10</th>\n",
       "      <td>on the</td>\n",
       "      <td>bln sp capital</td>\n",
       "    </tr>\n",
       "    <tr>\n",
       "      <th>11</th>\n",
       "      <td>the company</td>\n",
       "      <td>better than the</td>\n",
       "    </tr>\n",
       "    <tr>\n",
       "      <th>12</th>\n",
       "      <td>to be</td>\n",
       "      <td>reports q2 jun</td>\n",
       "    </tr>\n",
       "    <tr>\n",
       "      <th>13</th>\n",
       "      <td>with the</td>\n",
       "      <td>is expected to</td>\n",
       "    </tr>\n",
       "    <tr>\n",
       "      <th>14</th>\n",
       "      <td>from the</td>\n",
       "      <td>mln vs the</td>\n",
       "    </tr>\n",
       "    <tr>\n",
       "      <th>15</th>\n",
       "      <td>that the</td>\n",
       "      <td>jun earnings of</td>\n",
       "    </tr>\n",
       "    <tr>\n",
       "      <th>16</th>\n",
       "      <td>per share</td>\n",
       "      <td>the united states</td>\n",
       "    </tr>\n",
       "    <tr>\n",
       "      <th>17</th>\n",
       "      <td>fair value</td>\n",
       "      <td>per share excluding</td>\n",
       "    </tr>\n",
       "    <tr>\n",
       "      <th>18</th>\n",
       "      <td>at the</td>\n",
       "      <td>share excluding nonrecurring</td>\n",
       "    </tr>\n",
       "    <tr>\n",
       "      <th>19</th>\n",
       "      <td>sp 500</td>\n",
       "      <td>sp futures vs</td>\n",
       "    </tr>\n",
       "  </tbody>\n",
       "</table>\n",
       "</div>"
      ],
      "text/plain": [
       "         Bigrams                      Trigrams\n",
       "0         in the                 sp capital iq\n",
       "1         of the          capital iq consensus\n",
       "2     capital iq                    the sp 500\n",
       "3     sp capital                 vs fair value\n",
       "4        for the               futures vs fair\n",
       "5   iq consensus               iq consensus of\n",
       "6         to the                the sp capital\n",
       "7         the sp                   than the sp\n",
       "8        and the  excluding nonrecurring items\n",
       "9         the us                mln sp capital\n",
       "10        on the                bln sp capital\n",
       "11   the company               better than the\n",
       "12         to be                reports q2 jun\n",
       "13      with the                is expected to\n",
       "14      from the                    mln vs the\n",
       "15      that the               jun earnings of\n",
       "16     per share             the united states\n",
       "17    fair value           per share excluding\n",
       "18        at the  share excluding nonrecurring\n",
       "19        sp 500                 sp futures vs"
      ]
     },
     "execution_count": 16,
     "metadata": {},
     "output_type": "execute_result"
    }
   ],
   "source": [
    "bitrigram_2019 = pd.DataFrame({\"Bigrams\":bigram_list_2019, \"Trigrams\":trigram_list_2019})\n",
    "bitrigram_2019"
   ]
  },
  {
   "cell_type": "markdown",
   "metadata": {},
   "source": [
    "### 2020"
   ]
  },
  {
   "cell_type": "code",
   "execution_count": null,
   "metadata": {},
   "outputs": [],
   "source": [
    "word_bigram_2020 = Counter()\n",
    "word_trigram_2020 = Counter()\n",
    "\n",
    "for bitri in LN2020:\n",
    "    text = bitri['body']\n",
    "    tokens = tokenize(text, lowercase=True, strip_chars=chars_to_remove)\n",
    "    bigram_2020 = get_ngram_tokens(tokens, n=2)\n",
    "    trigram_2020 = get_ngram_tokens(tokens, n=3)\n",
    "    word_bigram_2020.update(bigram_2020)\n",
    "    word_trigram_2020.update(trigram_2020)"
   ]
  },
  {
   "cell_type": "code",
   "execution_count": null,
   "metadata": {},
   "outputs": [],
   "source": [
    "top_20_bigrams_2020 = word_bigram_2020.most_common(20)\n",
    "top_20_trigrams_2020 = word_trigram_2020.most_common(20)"
   ]
  },
  {
   "cell_type": "code",
   "execution_count": null,
   "metadata": {},
   "outputs": [],
   "source": [
    "bigram_list_2020 = [i[0] for i in top_20_bigrams_2020]\n",
    "trigram_list_2020 = [i[0] for i in top_20_trigrams_2020]"
   ]
  },
  {
   "cell_type": "code",
   "execution_count": null,
   "metadata": {},
   "outputs": [],
   "source": [
    "bitrigram_2020 = pd.DataFrame({\"Bigrams\":bigram_list_2020, \"Trigrams\":trigram_list_2020})\n",
    "bitrigram_2020"
   ]
  },
  {
   "cell_type": "markdown",
   "metadata": {},
   "source": [
    "### 2021"
   ]
  },
  {
   "cell_type": "code",
   "execution_count": null,
   "metadata": {},
   "outputs": [],
   "source": [
    "word_bigram_2021 = Counter()\n",
    "word_trigram_2021 = Counter()\n",
    "\n",
    "for bitri in LN2021:\n",
    "    text = bitri['body']\n",
    "    tokens = tokenize(text, lowercase=True, strip_chars=chars_to_remove)\n",
    "    bigram_2021 = get_ngram_tokens(tokens, n=2)\n",
    "    trigram_2021 = get_ngram_tokens(tokens, n=3)\n",
    "    word_bigram_2021.update(bigram_2021)\n",
    "    word_trigram_2021.update(trigram_2021)"
   ]
  },
  {
   "cell_type": "code",
   "execution_count": null,
   "metadata": {},
   "outputs": [],
   "source": [
    "top_20_bigrams_2021 = word_bigram_2021.most_common(20)\n",
    "top_20_trigrams_2021 = word_trigram_2021.most_common(20)"
   ]
  },
  {
   "cell_type": "code",
   "execution_count": null,
   "metadata": {},
   "outputs": [],
   "source": [
    "bigram_list_2021 = [i[0] for i in top_20_bigrams_2021]\n",
    "trigram_list_2021 = [i[0] for i in top_20_trigrams_2021]"
   ]
  },
  {
   "cell_type": "code",
   "execution_count": null,
   "metadata": {},
   "outputs": [],
   "source": [
    "bitrigram_2021 = pd.DataFrame({\"Bigrams\":bigram_list_2021, \"Trigrams\":trigram_list_2021})\n",
    "bitrigram_2021"
   ]
  },
  {
   "cell_type": "markdown",
   "metadata": {},
   "source": [
    "### Combined Bigram, Trigram"
   ]
  },
  {
   "cell_type": "code",
   "execution_count": null,
   "metadata": {},
   "outputs": [],
   "source": [
    "all_word_bigram = Counter()\n",
    "all_word_trigram = Counter()\n",
    "\n",
    "for bitri in LN2017 + LN2018 + LN2019 + LN2020 + LN2021:\n",
    "    text = bitri['body']\n",
    "    tokens = tokenize(text, lowercase=True, strip_chars=chars_to_remove)\n",
    "    all_bigram = get_ngram_tokens(tokens, n=2)\n",
    "    all_trigram = get_ngram_tokens(tokens, n=3)\n",
    "    all_word_bigram.update(all_bigram)\n",
    "    all_word_trigram.update(all_trigram)"
   ]
  },
  {
   "cell_type": "code",
   "execution_count": null,
   "metadata": {},
   "outputs": [],
   "source": [
    "top_20_bigrams = all_word_bigram.most_common(20)\n",
    "top_20_trigrams = all_word_trigram.most_common(20)"
   ]
  },
  {
   "cell_type": "code",
   "execution_count": null,
   "metadata": {},
   "outputs": [],
   "source": [
    "bigram_list_all = [i[0] for i in top_20_bigrams]\n",
    "trigram_list_all = [i[0] for i in top_20_trigrams]"
   ]
  },
  {
   "cell_type": "code",
   "execution_count": null,
   "metadata": {},
   "outputs": [],
   "source": [
    "all_bitrigram = pd.DataFrame({\"Bigrams\":bigram_list_all, \"Trigrams\":trigram_list_all})\n",
    "all_bitrigram "
   ]
  },
  {
   "cell_type": "markdown",
   "metadata": {},
   "source": [
    "---"
   ]
  }
 ],
 "metadata": {
  "kernelspec": {
   "display_name": "Python 3",
   "language": "python",
   "name": "python3"
  },
  "language_info": {
   "codemirror_mode": {
    "name": "ipython",
    "version": 3
   },
   "file_extension": ".py",
   "mimetype": "text/x-python",
   "name": "python",
   "nbconvert_exporter": "python",
   "pygments_lexer": "ipython3",
   "version": "3.7.3"
  }
 },
 "nbformat": 4,
 "nbformat_minor": 2
}

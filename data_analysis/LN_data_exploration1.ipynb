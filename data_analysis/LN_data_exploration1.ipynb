{
 "cells": [
  {
   "cell_type": "markdown",
   "metadata": {},
   "source": [
    "# Data Exploration (1):\n",
    "## Word Frequency Analyses\n",
    "* This notebook focuses on the first step in my analysis: figuring out which words are most commonly used in regards to China and its government and setting up a list of words of interest to delve further into.\n",
    "\n",
    "\n",
    "---"
   ]
  },
  {
   "cell_type": "markdown",
   "metadata": {},
   "source": [
    "### Setup\n",
    "* includes additional modules, functions, and chars_to_strip"
   ]
  },
  {
   "cell_type": "code",
   "execution_count": 1,
   "metadata": {},
   "outputs": [],
   "source": [
    "import json\n",
    "from collections import Counter\n",
    "import random\n",
    "import pandas as pd\n",
    "import numpy as np\n",
    "import matplotlib.pyplot as plt"
   ]
  },
  {
   "cell_type": "code",
   "execution_count": 2,
   "metadata": {},
   "outputs": [],
   "source": [
    "%run functions.ipynb"
   ]
  },
  {
   "cell_type": "code",
   "execution_count": 3,
   "metadata": {},
   "outputs": [],
   "source": [
    "chars_to_remove = '!\"#$%&\\'()*+,-./:;<=>?@[\\\\]^_`{|}~'"
   ]
  },
  {
   "cell_type": "markdown",
   "metadata": {},
   "source": [
    "## 1. Load data"
   ]
  },
  {
   "cell_type": "code",
   "execution_count": 4,
   "metadata": {},
   "outputs": [],
   "source": [
    "LN2017 = json.load(open('../data/LN_data/cleaned/LN_2017.json'))\n",
    "LN2018 = json.load(open('../data/LN_data/cleaned/LN_2018.json'))\n",
    "LN2019 = json.load(open('../data/LN_data/cleaned/LN_2019.json'))\n",
    "LN2020 = json.load(open('../data/LN_data/cleaned/LN_2020.json'))\n",
    "LN2021 = json.load(open('../data/LN_data/cleaned/LN_2021.json'))"
   ]
  },
  {
   "cell_type": "markdown",
   "metadata": {},
   "source": [
    "## 2. Frequency Lists for Each Year"
   ]
  },
  {
   "cell_type": "markdown",
   "metadata": {},
   "source": [
    "### 2017"
   ]
  },
  {
   "cell_type": "code",
   "execution_count": 5,
   "metadata": {},
   "outputs": [
    {
     "data": {
      "text/plain": [
       "974"
      ]
     },
     "execution_count": 5,
     "metadata": {},
     "output_type": "execute_result"
    }
   ],
   "source": [
    "len(LN2017)"
   ]
  },
  {
   "cell_type": "code",
   "execution_count": 6,
   "metadata": {},
   "outputs": [],
   "source": [
    "# set up a Counter for words\n",
    "LN2017_word_dist = Counter()\n",
    "\n",
    "# process each document in list\n",
    "for doc in LN2017:\n",
    "    text = doc['body']\n",
    "    tokens = tokenize(text, lowercase=True, strip_chars=chars_to_remove)\n",
    "    LN2017_word_dist.update(tokens)"
   ]
  },
  {
   "cell_type": "code",
   "execution_count": 7,
   "metadata": {
    "scrolled": true
   },
   "outputs": [
    {
     "data": {
      "text/plain": [
       "[('report', 1023),\n",
       " ('national', 1022),\n",
       " ('some', 1019),\n",
       " ('foreign', 988),\n",
       " ('growth', 981),\n",
       " ('when', 975),\n",
       " ('rights', 967),\n",
       " ('after', 943),\n",
       " ('news', 942),\n",
       " ('do', 936),\n",
       " ('two', 936),\n",
       " ('could', 934),\n",
       " ('financial', 932),\n",
       " ('first', 928),\n",
       " ('research', 923),\n",
       " ('markets', 921),\n",
       " ('like', 890),\n",
       " ('media', 875),\n",
       " ('future', 863),\n",
       " ('just', 860),\n",
       " ('think', 853),\n",
       " ('no', 834),\n",
       " ('percent', 831),\n",
       " ('going', 830),\n",
       " ('bartiromo', 818),\n",
       " ('time', 816),\n",
       " ('because', 801),\n",
       " ('most', 795),\n",
       " ('billion', 791),\n",
       " ('many', 787),\n",
       " ('products', 785),\n",
       " ('how', 784),\n",
       " ('both', 781),\n",
       " ('those', 781),\n",
       " ('while', 776),\n",
       " ('them', 769),\n",
       " ('last', 766),\n",
       " ('right', 765),\n",
       " ('economic', 758),\n",
       " ('public', 756),\n",
       " ('beijing', 748),\n",
       " ('system', 747),\n",
       " ('2015', 743),\n",
       " ('according', 737),\n",
       " ('online', 723),\n",
       " ('group', 722),\n",
       " ('state', 711),\n",
       " ('statements', 710),\n",
       " ('use', 705),\n",
       " ('under', 704)]"
      ]
     },
     "execution_count": 7,
     "metadata": {},
     "output_type": "execute_result"
    }
   ],
   "source": [
    "LN2017_word_dist.most_common()[100:150]"
   ]
  },
  {
   "cell_type": "markdown",
   "metadata": {},
   "source": [
    "### 2018"
   ]
  },
  {
   "cell_type": "code",
   "execution_count": 8,
   "metadata": {},
   "outputs": [
    {
     "data": {
      "text/plain": [
       "1915"
      ]
     },
     "execution_count": 8,
     "metadata": {},
     "output_type": "execute_result"
    }
   ],
   "source": [
    "len(LN2018)"
   ]
  },
  {
   "cell_type": "code",
   "execution_count": 9,
   "metadata": {},
   "outputs": [],
   "source": [
    "LN2018_word_dist = Counter()\n",
    "\n",
    "for doc in LN2018:\n",
    "    text = doc['body']\n",
    "    tokens = tokenize(text, lowercase=True, strip_chars=chars_to_remove)\n",
    "    LN2018_word_dist.update(tokens)"
   ]
  },
  {
   "cell_type": "code",
   "execution_count": 10,
   "metadata": {
    "scrolled": true
   },
   "outputs": [
    {
     "data": {
      "text/plain": [
       "[('mcdowell', 1518),\n",
       " ('most', 1515),\n",
       " ('rights', 1513),\n",
       " ('many', 1495),\n",
       " ('much', 1485),\n",
       " ('huawei', 1469),\n",
       " ('research', 1468),\n",
       " ('country', 1458),\n",
       " ('state', 1451),\n",
       " ('only', 1447),\n",
       " ('take', 1434),\n",
       " ('against', 1418),\n",
       " ('steel', 1415),\n",
       " ('make', 1406),\n",
       " ('want', 1398),\n",
       " ('according', 1381),\n",
       " ('economy', 1375),\n",
       " ('then', 1373),\n",
       " ('while', 1367),\n",
       " ('made', 1352),\n",
       " ('way', 1349),\n",
       " ('look', 1343),\n",
       " ('under', 1336),\n",
       " ('investment', 1331),\n",
       " ('even', 1323),\n",
       " ('say', 1321),\n",
       " ('financial', 1315),\n",
       " ('media', 1308),\n",
       " ('should', 1274),\n",
       " ('use', 1273),\n",
       " ('group', 1262),\n",
       " ('video', 1236),\n",
       " ('future', 1235),\n",
       " ('house', 1225),\n",
       " ('internet', 1209),\n",
       " ('really', 1209),\n",
       " ('being', 1207),\n",
       " ('network', 1167),\n",
       " ('big', 1158),\n",
       " ('both', 1155),\n",
       " ('today', 1144),\n",
       " ('human', 1137),\n",
       " ('end', 1127),\n",
       " ('intelligence', 1125),\n",
       " ('part', 1125),\n",
       " ('public', 1121),\n",
       " ('work', 1114),\n",
       " ('includes', 1112),\n",
       " ('go', 1111),\n",
       " ('administration', 1110)]"
      ]
     },
     "execution_count": 10,
     "metadata": {},
     "output_type": "execute_result"
    }
   ],
   "source": [
    "LN2018_word_dist.most_common()[150:200]"
   ]
  },
  {
   "cell_type": "markdown",
   "metadata": {},
   "source": [
    "**Observations for 2017 + 2018**: \n",
    "* 'bartiromo' is quite consistently high for both 2017 and 2018\n",
    "    * doing a quick google search, it seems to be the last name of a Fox News journalist, but I will conduct a KWIC search in a different notebook to double check its context.\n",
    "* Interestingly, Beijing itself is mentioned quite frequently in 2017 (748 mentions in one of the smaller datasets)\n",
    "    * like China, Beijing (China's capital) is sometimes used in media coverage to refer to the entire country, so this may be a notable word to look into.\n",
    "* Further down the list for 2018, Huawei begins to appear as well. \n",
    "    * this is appropriate as I narrowed my LN search to focus on the tech industry since America is currently being threatened by China's growth as an emerging global leader in science and technology. "
   ]
  },
  {
   "cell_type": "markdown",
   "metadata": {},
   "source": [
    "### 2019"
   ]
  },
  {
   "cell_type": "code",
   "execution_count": 11,
   "metadata": {},
   "outputs": [
    {
     "data": {
      "text/plain": [
       "3106"
      ]
     },
     "execution_count": 11,
     "metadata": {},
     "output_type": "execute_result"
    }
   ],
   "source": [
    "len(LN2019)"
   ]
  },
  {
   "cell_type": "code",
   "execution_count": 12,
   "metadata": {},
   "outputs": [],
   "source": [
    "LN2019_word_dist = Counter()\n",
    "\n",
    "for doc in LN2019:\n",
    "    text = doc['body']\n",
    "    tokens = tokenize(text, lowercase=True, strip_chars=chars_to_remove)\n",
    "    LN2019_word_dist.update(tokens)"
   ]
  },
  {
   "cell_type": "code",
   "execution_count": 13,
   "metadata": {
    "scrolled": true
   },
   "outputs": [
    {
     "data": {
      "text/plain": [
       "[('better', 7127),\n",
       " ('revenue', 6982),\n",
       " ('huawei', 6956),\n",
       " ('day', 6953),\n",
       " ('2020', 6950),\n",
       " ('rate', 6944),\n",
       " ('price', 6877),\n",
       " ('yearyear', 6860),\n",
       " ('basis', 6848),\n",
       " ('chinas', 6847),\n",
       " ('industrial', 6828),\n",
       " ('11', 6781),\n",
       " ('net', 6707),\n",
       " ('cash', 6666),\n",
       " ('no', 6656),\n",
       " ('15', 6646),\n",
       " ('including', 6638),\n",
       " ('rose', 6619),\n",
       " ('what', 6567),\n",
       " ('global', 6543),\n",
       " ('phase', 6527),\n",
       " ('if', 6449),\n",
       " ('items', 6447),\n",
       " ('dow', 6411),\n",
       " ('who', 6410),\n",
       " ('agreement', 6381),\n",
       " ('percent', 6375),\n",
       " ('consumer', 6339),\n",
       " ('had', 6285),\n",
       " ('due', 6250),\n",
       " ('offering', 6185),\n",
       " ('second', 6155),\n",
       " ('bartiromo', 6129),\n",
       " ('yield', 6129),\n",
       " ('companys', 6094),\n",
       " ('production', 6041),\n",
       " ('3', 6029),\n",
       " ('reported', 5985),\n",
       " ('2018', 5933),\n",
       " ('stocks', 5920),\n",
       " ('nonrecurring', 5913),\n",
       " ('hong', 5864),\n",
       " ('sector', 5822),\n",
       " ('just', 5813),\n",
       " ('years', 5802),\n",
       " ('common', 5743),\n",
       " ('approximately', 5735),\n",
       " ('financial', 5708),\n",
       " ('any', 5700),\n",
       " ('october', 5692)]"
      ]
     },
     "execution_count": 13,
     "metadata": {},
     "output_type": "execute_result"
    }
   ],
   "source": [
    "LN2019_word_dist.most_common()[150:200]"
   ]
  },
  {
   "cell_type": "markdown",
   "metadata": {},
   "source": [
    "**Observations**:\n",
    "* Like 2018, 2019 shows a focus on Huawei as well. \n",
    "    * Huawei appears more frequently in this year as the [Huawei Ban](https://www.androidauthority.com/huawei-google-android-ban-988382/#:~:text=The%20Huawei%20ban%20begins%20on,deemed%20a%20national%20security%20risk.) was implemented in May 2019 as Trump deemed it a \"security risk.\""
   ]
  },
  {
   "cell_type": "markdown",
   "metadata": {},
   "source": [
    "### 2020"
   ]
  },
  {
   "cell_type": "code",
   "execution_count": 14,
   "metadata": {},
   "outputs": [
    {
     "data": {
      "text/plain": [
       "3057"
      ]
     },
     "execution_count": 14,
     "metadata": {},
     "output_type": "execute_result"
    }
   ],
   "source": [
    "len(LN2020)"
   ]
  },
  {
   "cell_type": "code",
   "execution_count": 15,
   "metadata": {},
   "outputs": [],
   "source": [
    "LN2020_word_dist = Counter()\n",
    "\n",
    "for doc in LN2020:\n",
    "    text = doc['body']\n",
    "    tokens = tokenize(text, lowercase=True, strip_chars=chars_to_remove)\n",
    "    LN2020_word_dist.update(tokens)"
   ]
  },
  {
   "cell_type": "code",
   "execution_count": 16,
   "metadata": {
    "scrolled": true
   },
   "outputs": [
    {
     "data": {
      "text/plain": [
       "[('what', 6472),\n",
       " ('security', 6431),\n",
       " ('coronavirus', 6429),\n",
       " ('fy20', 6365),\n",
       " ('while', 6261),\n",
       " ('2019', 6252),\n",
       " ('into', 6130),\n",
       " ('may', 6098),\n",
       " ('two', 6050),\n",
       " ('week', 6035),\n",
       " ('beats', 6033),\n",
       " ('global', 6003),\n",
       " ('can', 5926),\n",
       " ('technology', 5861),\n",
       " ('march', 5843),\n",
       " ('trump', 5775),\n",
       " ('q4', 5767),\n",
       " ('his', 5766),\n",
       " ('including', 5740),\n",
       " ('out', 5708),\n",
       " ('inline', 5636),\n",
       " ('had', 5601),\n",
       " ('if', 5589),\n",
       " ('report', 5580),\n",
       " ('some', 5570),\n",
       " ('growth', 5521),\n",
       " ('revenue', 5474),\n",
       " ('trade', 5389),\n",
       " ('national', 5358),\n",
       " ('no', 5213),\n",
       " ('pandemic', 5154),\n",
       " ('prior', 5139),\n",
       " ('yearyear', 5112),\n",
       " ('through', 5098),\n",
       " ('time', 5060),\n",
       " ('when', 5055),\n",
       " ('economic', 5046),\n",
       " ('april', 5030),\n",
       " ('1', 5030),\n",
       " ('do', 5025),\n",
       " ('better', 5003),\n",
       " ('patients', 4998),\n",
       " ('markets', 4918),\n",
       " ('issues', 4894),\n",
       " ('information', 4882),\n",
       " ('results', 4808),\n",
       " ('increased', 4779),\n",
       " ('cash', 4758),\n",
       " ('could', 4728),\n",
       " ('during', 4716)]"
      ]
     },
     "execution_count": 16,
     "metadata": {},
     "output_type": "execute_result"
    }
   ],
   "source": [
    "LN2020_word_dist.most_common()[100:150]"
   ]
  },
  {
   "cell_type": "markdown",
   "metadata": {},
   "source": [
    "### 2021"
   ]
  },
  {
   "cell_type": "code",
   "execution_count": 17,
   "metadata": {
    "scrolled": true
   },
   "outputs": [
    {
     "data": {
      "text/plain": [
       "771"
      ]
     },
     "execution_count": 17,
     "metadata": {},
     "output_type": "execute_result"
    }
   ],
   "source": [
    "len(LN2021)"
   ]
  },
  {
   "cell_type": "code",
   "execution_count": 18,
   "metadata": {},
   "outputs": [],
   "source": [
    "LN2021_word_dist = Counter()\n",
    "\n",
    "for doc in LN2021:\n",
    "    text = doc['body']\n",
    "    tokens = tokenize(text, lowercase=True, strip_chars=chars_to_remove)\n",
    "    LN2021_word_dist.update(tokens)"
   ]
  },
  {
   "cell_type": "code",
   "execution_count": 19,
   "metadata": {
    "scrolled": true
   },
   "outputs": [
    {
     "data": {
      "text/plain": [
       "[('country', 763),\n",
       " ('products', 750),\n",
       " ('since', 747),\n",
       " ('1', 743),\n",
       " ('share', 740),\n",
       " ('higher', 735),\n",
       " ('research', 734),\n",
       " ('quarter', 734),\n",
       " ('value', 728),\n",
       " ('where', 726),\n",
       " ('administration', 725),\n",
       " ('500', 722),\n",
       " ('according', 719),\n",
       " ('any', 718),\n",
       " ('may', 709),\n",
       " ('many', 704),\n",
       " ('increase', 698),\n",
       " ('briefingcom', 695),\n",
       " ('key', 692),\n",
       " ('bartiromo', 689),\n",
       " ('economic', 687),\n",
       " ('see', 687),\n",
       " ('markets', 684),\n",
       " ('being', 681),\n",
       " ('end', 680),\n",
       " ('cash', 680),\n",
       " ('use', 676),\n",
       " ('foreign', 675),\n",
       " ('•', 664),\n",
       " ('agreement', 663),\n",
       " ('total', 660),\n",
       " ('10', 658),\n",
       " ('how', 658),\n",
       " ('pandemic', 655),\n",
       " ('sector', 651),\n",
       " ('digital', 651),\n",
       " ('hong', 649),\n",
       " ('guidance', 648),\n",
       " ('should', 647),\n",
       " ('countries', 643),\n",
       " ('companys', 641),\n",
       " ('vs', 641),\n",
       " ('social', 639),\n",
       " ('trump', 637),\n",
       " ('under', 636),\n",
       " ('following', 635),\n",
       " ('q4', 633),\n",
       " ('15', 632),\n",
       " ('only', 632),\n",
       " ('increased', 630)]"
      ]
     },
     "execution_count": 19,
     "metadata": {},
     "output_type": "execute_result"
    }
   ],
   "source": [
    "LN2021_word_dist.most_common()[150:200]"
   ]
  },
  {
   "cell_type": "markdown",
   "metadata": {},
   "source": [
    "**Observations for 2020 + 2021**:\n",
    "* For 2020 and 2021, COVID took precedent over anything, so the related terms such as 'coronavirus', ('global')'pandemic', 'patients', etc appeared in both lists\n",
    "* Additionally, words such as 'beats' and 'vs'—which incites competition—begin to show up often as well\n",
    "* 'trump' himself is mentioned frequently in 2020\n",
    "    * appropriate as Trump handled the COVID outbreak particularly poorly, especially the first few months and contributed in the spread of misinformation, doubt, and defiance among the American people. \n",
    "        * unlike other world leaders who were clear in allowing their medical experts provide information for the citizens, [Trump voiced conflicting information](https://www.latimes.com/politics/story/2020-03-30/trumps-mixed-messages-confuse-coronavirus-response) and caused more harm, slowing the country's recovery as America's COVID death rate exceeded that of any country's as a result."
   ]
  },
  {
   "cell_type": "markdown",
   "metadata": {},
   "source": [
    "---"
   ]
  },
  {
   "cell_type": "code",
   "execution_count": 20,
   "metadata": {},
   "outputs": [],
   "source": [
    "all_word_dist = Counter()\n",
    "\n",
    "for doc in LN2017 + LN2018 + LN2019 + LN2020 + LN2021:\n",
    "    text = doc['body']\n",
    "    tokens = tokenize(text, lowercase=True, strip_chars=chars_to_remove)\n",
    "    all_word_dist.update(tokens)"
   ]
  },
  {
   "cell_type": "code",
   "execution_count": 21,
   "metadata": {
    "scrolled": true
   },
   "outputs": [
    {
     "data": {
      "text/plain": [
       "[('two', 18829),\n",
       " ('announced', 18785),\n",
       " ('who', 18656),\n",
       " ('out', 18612),\n",
       " ('value', 18229),\n",
       " ('01', 18216),\n",
       " ('futures', 17732),\n",
       " ('markets', 17700),\n",
       " ('global', 17601),\n",
       " ('eps', 17582),\n",
       " ('united', 17536),\n",
       " ('if', 17363),\n",
       " ('states', 17304),\n",
       " ('may', 17127),\n",
       " ('his', 17070),\n",
       " ('security', 17057),\n",
       " ('can', 17015),\n",
       " ('increased', 16706),\n",
       " ('02', 16629),\n",
       " ('economic', 16608),\n",
       " ('revenues', 16607),\n",
       " ('including', 16487),\n",
       " ('had', 16461),\n",
       " ('chinas', 16429),\n",
       " ('people', 16382),\n",
       " ('billion', 16213),\n",
       " ('yryr', 16083),\n",
       " ('results', 16044),\n",
       " ('week', 16010),\n",
       " ('news', 15972),\n",
       " ('03', 15963),\n",
       " ('trump', 15809),\n",
       " ('index', 15800),\n",
       " ('no', 15665),\n",
       " ('bartiromo', 15510),\n",
       " ('information', 15478),\n",
       " ('patients', 15337),\n",
       " ('nasdaq', 15330),\n",
       " ('sees', 15293),\n",
       " ('1', 15250),\n",
       " ('500', 15220),\n",
       " ('do', 15110),\n",
       " ('going', 14950),\n",
       " ('years', 14830),\n",
       " ('prior', 14632),\n",
       " ('shares', 14581),\n",
       " ('percent', 14487),\n",
       " ('today', 14408),\n",
       " ('could', 14406),\n",
       " ('through', 14394)]"
      ]
     },
     "execution_count": 21,
     "metadata": {},
     "output_type": "execute_result"
    }
   ],
   "source": [
    "all_word_dist.most_common()[100:150]"
   ]
  },
  {
   "cell_type": "markdown",
   "metadata": {},
   "source": [
    "**Observation**:\n",
    "* Going through the first 250 or so words, 'huawei' and 'bartiromo' were words that reflect the consistency shown above.\n",
    "* 'beats' appears consistently high throughout the year as well\n",
    "* noticed 'his' (male pronoun) is used\n",
    "    * leaders, CEOs are all male figures"
   ]
  },
  {
   "cell_type": "markdown",
   "metadata": {},
   "source": [
    "---"
   ]
  },
  {
   "cell_type": "markdown",
   "metadata": {},
   "source": [
    "## 3. Words of Interest for KWIC \n",
    "* words gathered from frequency lists above or from my own prior knowledge that I would like to explore further\n",
    "    * negative words, words that breed competition, brand names, words that draw on American fear\n",
    "    \n",
    "    \n",
    "* NOTE: Of course there are a lot more words of interest that could be explored, but this was a set of words I wanted to look at for this project in particular: a varied list of obviously negative words and ones that may appear more neutral (but contextually contains negative undertones). Even then, I couldn't go into every single one, but I thought it was important to list them here still. There are a huge huge list of words out there that American media uses to purposefully portray situations and events as China's fault individually when America itself (and other Western countries) have participated in the same or even worst, so this project could very easily expand into something bigger. "
   ]
  },
  {
   "cell_type": "code",
   "execution_count": 22,
   "metadata": {},
   "outputs": [
    {
     "name": "stdout",
     "output_type": "stream",
     "text": [
      "crisis 2008\n",
      "danger 305\n",
      "dangerous 633\n",
      "damage 743\n",
      "deny 286\n",
      "control 4960\n",
      "alarming 125\n",
      "corrupt 202\n",
      "communism 88\n",
      "communist 4427\n",
      "dominance 429\n",
      "war 3355\n",
      "warning 1118\n",
      "restrict 413\n",
      "regime 1044\n",
      "beats 13929\n",
      "enemy 156\n",
      "but 38656\n",
      "now 20024\n",
      "propaganda 801\n",
      "national 13433\n",
      "grip 124\n",
      "tighten 109\n",
      "fall 1218\n",
      "hard 1669\n",
      "authoritarian 550\n",
      "totalitarian 78\n",
      "orwellian 78\n",
      "influence 2252\n",
      "secret 656\n",
      "secrets 1430\n",
      "appetite 88\n",
      "surge 551\n",
      "concerns 5432\n",
      "concern 2048\n",
      "reality 777\n",
      "beijing 8071\n",
      "huawei 12284\n",
      "tiktok 7703\n",
      "google 4442\n",
      "apple 5227\n",
      "vs 42654\n",
      "freedom 2545\n",
      "weapon 228\n"
     ]
    }
   ],
   "source": [
    "words_to_lookup = ['crisis', 'danger', 'dangerous', 'damage', 'deny', 'control', 'alarming', 'corrupt',\n",
    "                  'communism', 'communist', 'dominance', 'war', 'warning', 'restrict', 'regime', 'beats', 'enemy',\n",
    "                   'but', 'now', 'propaganda', 'national', 'grip', 'tighten', 'fall', 'hard', 'authoritarian', \n",
    "                   'totalitarian','orwellian', 'influence', 'secret', 'secrets', 'appetite', 'surge', 'concerns', \n",
    "                   'concern', 'reality', 'beijing', 'huawei', 'tiktok', 'google', 'apple', 'vs', 'freedom', 'weapon']\n",
    "\n",
    "for word in words_to_lookup:\n",
    "    print(word, all_word_dist[word])"
   ]
  },
  {
   "cell_type": "markdown",
   "metadata": {},
   "source": [
    "---"
   ]
  }
 ],
 "metadata": {
  "kernelspec": {
   "display_name": "Python 3",
   "language": "python",
   "name": "python3"
  },
  "language_info": {
   "codemirror_mode": {
    "name": "ipython",
    "version": 3
   },
   "file_extension": ".py",
   "mimetype": "text/x-python",
   "name": "python",
   "nbconvert_exporter": "python",
   "pygments_lexer": "ipython3",
   "version": "3.7.3"
  }
 },
 "nbformat": 4,
 "nbformat_minor": 2
}

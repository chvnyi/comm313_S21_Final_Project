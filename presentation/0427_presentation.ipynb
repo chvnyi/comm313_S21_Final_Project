{
 "cells": [
  {
   "cell_type": "markdown",
   "metadata": {
    "slideshow": {
     "slide_type": "slide"
    }
   },
   "source": [
    "## COMM313: Computation Text Analysis (S'21)\n",
    "### A Brief Presentation\n",
    "---\n",
    "# Investigating American Media's Coverage of China: The Consequences of Western Propaganda\n",
    "### Is there an increase of sinophobic verbiage in the past few years? Does that correspond with/explain the increase in anti-Asian hate crimes?\n",
    "\n",
    "![cover](photos/US_China_Relations.jpeg)\n",
    "\n",
    "\n",
    "## Presentation by: Vivienne Chen"
   ]
  },
  {
   "cell_type": "markdown",
   "metadata": {
    "slideshow": {
     "slide_type": "slide"
    }
   },
   "source": [
    "## Background (RQ & Hypothesis)\n",
    "![cover](photos/Stop-Asian-Hate.jpeg)\n",
    "* Since the start of the pandemic in March 2020 - February 2021, Stop AAPI Hate has recorded [3,795 reported anti-Asian hate incidents](https://secureservercdn.net/104.238.69.231/a1w.90d.myftpupload.com/wp-content/uploads/2021/03/210312-Stop-AAPI-Hate-National-Report-.pdf) and a study conducted in California State University’s Center for the Study of Hate and Extremism reports that anti-Asian hate crimes have rose nearly [150%](https://www.nbcnews.com/news/asian-america/anti-asian-hate-crimes-increased-nearly-150-2020-mostly-n-n1260264) since 2019. \n",
    "* With the pandemic beginning under the leadership of Trump that led to the increasing hyper-polarization of our political environment, is it really a surprise that hate crimes have increased? \n",
    "    * Short answer: No. \n",
    "* Exploring the ties between Western media coverage of China through the years (2017-2020) to evaluate the impact it has on the perception of China/Chinese people (or Asians in general) as a result."
   ]
  },
  {
   "cell_type": "markdown",
   "metadata": {
    "slideshow": {
     "slide_type": "slide"
    }
   },
   "source": [
    "## Data\n",
    "* Current: Lexis Nexis\n",
    "    * gathered as 3 month chunks (~200-500 articles each)\n",
    "    * 2017-~first half of 2019 = focused on Computer and Information Technology as my primary interest\n",
    "    * second half of 2019-2021 = more Health/Medicine (COVID) related\n",
    "* Tweets from users\n",
    "    * still need to gather"
   ]
  },
  {
   "cell_type": "markdown",
   "metadata": {
    "slideshow": {
     "slide_type": "skip"
    }
   },
   "source": [
    "revised 'Data' plan:\n",
    "* keep all LN data on the same industry of interest\n",
    "* tweets could be gathered to demonstrate the increase in AAPI hate\n",
    "    * comparing the amount of negative tweets from 2017-nov 2019 and nov 2019-march/april 2021"
   ]
  },
  {
   "cell_type": "markdown",
   "metadata": {
    "slideshow": {
     "slide_type": "slide"
    }
   },
   "source": [
    "## Current Analysis\n",
    "* Frequency and N-gram Lists\n",
    "![cover](photos/freq.png)\n",
    "![cover](photos/freq2.png)"
   ]
  },
  {
   "cell_type": "markdown",
   "metadata": {
    "slideshow": {
     "slide_type": "slide"
    }
   },
   "source": [
    "* KWIC\n",
    "![cover](photos/kwic.png)\n",
    "![cover](photos/kwic2.png)"
   ]
  },
  {
   "cell_type": "markdown",
   "metadata": {
    "slideshow": {
     "slide_type": "slide"
    }
   },
   "source": [
    "## Future Analyses and Direction\n",
    "* Sentiment Analysis\n",
    "* Finishing collecting data (rest of LN and Tweets)\n",
    "* Looking to KWIC and sentiment around 'communist'\n",
    "\n",
    "\n",
    "* The flow of the final data presentation/story is pretty much set!\n",
    "\n",
    "### Thank you for listening! c:"
   ]
  }
 ],
 "metadata": {
  "celltoolbar": "Slideshow",
  "kernelspec": {
   "display_name": "Python 3",
   "language": "python",
   "name": "python3"
  },
  "language_info": {
   "codemirror_mode": {
    "name": "ipython",
    "version": 3
   },
   "file_extension": ".py",
   "mimetype": "text/x-python",
   "name": "python",
   "nbconvert_exporter": "python",
   "pygments_lexer": "ipython3",
   "version": "3.7.3"
  }
 },
 "nbformat": 4,
 "nbformat_minor": 2
}

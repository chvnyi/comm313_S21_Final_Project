{
 "cells": [
  {
   "cell_type": "markdown",
   "metadata": {},
   "source": [
    "# Investigating Media's Coverage of China\n",
    "### How is China and its government portrayed in news media? Can the accustomed use of and exposure to sinophobic verbiage explain the increase in anti-Asian hate crimes? \n",
    "\n",
    "### Vivienne Chen | May 7th, 2021\n"
   ]
  },
  {
   "cell_type": "markdown",
   "metadata": {},
   "source": [
    "![cover](photos/COMM313.png)\n",
    "\n",
    "\n",
    "<center> <i> Image created by Vivienne Chen (2021) </i> </center>\n",
    "\n",
    "---"
   ]
  },
  {
   "cell_type": "markdown",
   "metadata": {},
   "source": [
    "Since the start of the pandemic in March 2020 - February 2021, Stop AAPI Hate has recorded [3,795 reported anti-Asian hate incidents](https://secureservercdn.net/104.238.69.231/a1w.90d.myftpupload.com/wp-content/uploads/2021/03/210312-Stop-AAPI-Hate-National-Report-.pdf) and a study conducted in California State University’s Center for the Study of Hate and Extremism reports that anti-Asian hate crimes have rose nearly [150%](https://www.nbcnews.com/news/asian-america/anti-asian-hate-crimes-increased-nearly-150-2020-mostly-n-n1260264) since 2019. Since 2020, the media has continuously ignored the growing cries of grief, pain, and fear from the Asian community. It wasn't until the mass shooting of 6 Asian women in Georgia did the media and other institutions bother to provide the little sympathy they could bring up, utterly shocked and disgusted at the actions of the murderer. However, for many in the community and allies, the tragic shooting only served as a reminder of America's callousness towards racism/xenophobia/injustice until the situation reaches its climax. The absolute abysmal lack of awareness regarding anti-Asian hate crimes before this moment displays this country's indifference towards its POC and minority groups. \n",
    "\n",
    "After the initial feelings of sorrow, an indescribable wave of anger and frustration took over. Was this consequence truly so unforeseeable? Why did it have to get to this point? For a country so complicit in its racism, microagressions that are constantly perpetuated in \"jokes,\" and racialized misogyny under the guise of \"compliments,\" for a country so quick to brush aside our concerns because of their attachment to the Model Minority Myth, how much more do you wish to see our people hurt before you take action to address the main issue of white supremacy? With the pandemic beginning under the leadership of Trump that led to the increasing hyper-polarization of our political environment, is it really a surprise that hate crimes have increased? The blame that has always been placed onto China for the pandemic and the narrative that has meticulously been constructed by the media pre-pandemic to paint China as the enemy resulting in the indiscriminate violence against the Asian community is directly correlated. To see individuals and institutions who have always implicitly or even explicitly contributed to this rise in anti-Asian hate crimes suddenly feign compassion without acknowledging their very part in the spread of anti-China (and anti-Asian as Americans see Asians as a monolith) propaganda is honestly absurd. \n",
    "\n",
    "As a direct result of a myriad of complex feelings at this time, I decided to channel my energy into looking through American media coverage on the topic of China. American coverage has an inarguable power and part in influencing the beliefs of the people within the country and abroad. We're very quick to distinguish our \"in\" and \"out\" groups, and it's clear that what the media reports on (and how they report it), affects our perspectives. Specifically, the question I would like to answer through my investigation is related to exploring the depth and amount of sinophobic verbiage during the outbreak compared to an earlier time period. Just how is China discussed within America's media environment?\n",
    "\n",
    "Although America has a long history of anti-communist and anti-Asian/Chinese propaganda, I decided to focus my search to a shorter time period to illustrate the dire consequences of Western propaganda—a concerning issue that doesn't receive the scrutiny it should. \n",
    "\n",
    "---"
   ]
  },
  {
   "cell_type": "markdown",
   "metadata": {},
   "source": [
    "## Data Collection"
   ]
  },
  {
   "cell_type": "markdown",
   "metadata": {},
   "source": [
    "To start my exploration, I decided to focus on collecting a comprehensive dataset from Lexis Nexis (LN) as my main data source. My search term was pretty broad (\"china\", \"chinese government\"), so I had to make the search smaller through more specific categorizations. The data starts from January 1, 2017 until March 31, 2021. I also narrowed down the search by collecting on \"News\" in the United States with the news publication sources being Newswires & Press Releases, Newspapers, and Web-based Publications. News sources are supposed to be \"neutral\" sources where audiences could read up on current events to gather information on their own; however, it's impossible to remove one's bias from coverage and that's the aspect I hope to take advantage of. \n",
    "\n",
    "Another categorization I chose to focus in on was technology. I needed to find a constant/form of comparison to gauge the way China was perceived before the pandemic, so I decided to use computer and information technology as my industry of focus. Appropriately enough, a prominent stereotype directed towards Asia revolves around techno-orientalism to play into our present day cultural fears, evoking apocalyptic futures. \n",
    "\n",
    "This situates the East to appear hyper technological, yet intellectually primitive. The West continues to perpetuate the stereotype of Asians as \"robotic (dehumanized),\" \"foreign (perpetual foreigner),\" and \"smart (Model Minority Myth),\" but primitive in the sense that they're easily brainwashed and require Western intervention/liberation. Techno-orientalist troupes are constantly being displayed in news coverage of China (ex: origins of COVID as biological weapon, TikTok/privacy issues) and I want to explore how they appear in Lexis Nexis data as this troupe fuels the negative belief of China/Asians to the American people. I would say that people tend to be more adverse to algorithms and the expansion of technology because of the ambiguity of tech, and the addition of techno-orientalism—like COVID—only heightens that fear. As a result, I hypothesize that it implicitly contributed to the rise in Asian hate crimes seen throughout the past year or so."
   ]
  },
  {
   "cell_type": "markdown",
   "metadata": {},
   "source": [
    "---\n",
    "\n",
    "## Analyses\n",
    "1. Word Frequency\n",
    "2. KWIC and Collocation\n",
    "3. Keyness "
   ]
  },
  {
   "cell_type": "markdown",
   "metadata": {},
   "source": [
    "### Frequency Analysis"
   ]
  },
  {
   "cell_type": "markdown",
   "metadata": {},
   "source": [
    "Since the topic of my project ultimately centers around sinophobic media, I started with frequency analyses to pinpoint specific words that could indicate hostility, looking for loaded words essentially. It's difficult to have a set list of words since sinophobic language is typically implicit rather than explicit. Compared to tweets or verbal insults, it's unlikely that more \"professional\" news sources would blatantly expose their sinophobic (along racist and xenophobic) remarks plainly. As a result, KWIC analyses for context would prove to be more useful; however, this initial step of word frequency lists is still important. Are there any particular words or phrases that appear often that require more exploring? These could be of interest in my goal to form my own set of words that could be tested further.\n",
    "\n",
    "To get a better grasp of the data, I ended up looking at each year individually before looking at the frequency of everything combined. "
   ]
  },
  {
   "cell_type": "markdown",
   "metadata": {},
   "source": [
    "For the frequency lists for 2017 and 2018, there were a few interesting words that appeared. One common word was 'bartiromo'. Conducting a quick google search, I learned that it seemed to be the last name of an anchor who has repeatedly spoken about her \"takes\" on China on Fox News and in her latest book \"The Cost.\" Interestingly, 'beijing' itself was mentioned quite frequently in 2017 (748 mentions in one of the smaller datasets[2017]). Like China, Beijing (China's capital) is sometimes used in media coverage to refer to the entire country, so this may be a notable word to look into. Further down the list for 2018, 'huawei' begins to appear as well. This is appropriate as I narrowed my LN search to focus on the tech industry since America has been threatened by China's growth as an emerging global leader in science and technology for the past few years.\n",
    "\n",
    "Like 2018, 2019 shows a focus on 'huawei' too. Since May 2019 was the year the [Huawei Ban](https://www.androidauthority.com/huawei-google-android-ban-988382/#:~:text=The%20Huawei%20ban%20begins%20on,deemed%20a%20national%20security%20risk.) was implemented as Trump deemed it a \"security risk,\" the frequent appearance of Huawei is expected.\n",
    "\n",
    "Finally, for 2020 and 2021, as COVID took precedent over everything else this past year or so, the related terms such as 'coronavirus', ('global')'pandemic', 'patients', etc appeared in both lists more frequently than tech related terms.\n",
    "Moreover, I noticed words such as 'beats' and 'vs'—which incite competition—begin to show up often during this time. 'trump' himself was mentioned frequently in 2020 which also differs from previous years as names weren't highly ranked before. "
   ]
  },
  {
   "cell_type": "markdown",
   "metadata": {},
   "source": [
    "On the other hand, just looking at the top 200 or so most frequent words for the combined years proved to be difficult as it was harder to discern anything novel. I restricted the search on specific parameters when collecting the data to being with, so keeping that in mind, none of the words that appeared seemed out of place. Words like 'huawei' and 'bartiromo' reflected the consistency shown for the individual year analyses, as well as 'beats'.\n",
    "\n",
    "While it seemed that the frequency search didn't provide me with much, I still finished the analyses with a small set of words that I could check for my subsequent analyses."
   ]
  },
  {
   "cell_type": "markdown",
   "metadata": {},
   "source": [
    "---\n",
    "Words of interest:"
   ]
  },
  {
   "cell_type": "markdown",
   "metadata": {},
   "source": [
    "'crisis', 'danger', 'dangerous', 'damage', 'deny', 'control', 'alarming', 'corrupt', 'communism', 'communist', 'dominance', 'war', 'warning', 'restrict', 'regime', 'beats', 'enemy','but', 'now', 'propaganda', 'national', 'grip', 'tighten', 'fall', 'hard', 'authoritarian','totalitarian','orwellian', 'influence', 'secret', 'secrets', 'appetite', 'surge', 'concerns','concern', 'reality', 'beijing', 'huawei', 'tiktok', 'google', 'apple', 'vs', 'freedom', 'weapon'\n",
    "\n",
    "---"
   ]
  },
  {
   "cell_type": "markdown",
   "metadata": {},
   "source": [
    "This set of words was gathered from frequency lists or from my own prior knowledge of related words that I would like to explore further. I chose negative words, words that bred competition, brand names, and words that drew on American fears to make up this list."
   ]
  },
  {
   "cell_type": "markdown",
   "metadata": {},
   "source": [
    "### KWIC and Collocation Analyses"
   ]
  },
  {
   "cell_type": "markdown",
   "metadata": {},
   "source": [
    "With the selection of words complete, I could now move onto the bulk of my analysis (KWIC and collocation) to provide a more in-depth conclusion to my research questions: how is China and its government portrayed in news media? Can the accustomed use of and exposure to sinophobic verbiage explain the increase in anti-Asian hate crimes? The current stream of media we're digesting has a larger impact than it may seem to the average person. However, how negative (or positive) are the contexts of these articles? Just relying on a portion of a larger sentence isn't an accurate representation and there's still a chance that it's taken out of context. Are a majority of these words associated with negative terms? By checking the collocation of the words in the dataset as well, we can arrive at a clearer conclusion concerning the consequences of sinophobic media.\n",
    "\n",
    "Since I chose a decently sized list of words that I could potentially explore, it would be difficult to fit each and every one into this post. Suitably, I'll focus on highlighting 4 KWICs and collocations in particular. "
   ]
  },
  {
   "cell_type": "markdown",
   "metadata": {},
   "source": [
    "#### Concerns"
   ]
  },
  {
   "cell_type": "markdown",
   "metadata": {},
   "source": [
    "![img](photos/colls_concerns.png)"
   ]
  },
  {
   "cell_type": "markdown",
   "metadata": {},
   "source": [
    "Analyzing the KWIC for 'concerns', the output provided glimpses of sentences that only added to idea of the amount of uncertainty that would arise should China be acknowledged for its advancements and growth. The surrounding context for the word play with the idea that there's so much that could go wrong when China's involved. Emulating the unpleasant belief that things \"Made In China\" are of poor quality and a common indication of \"cheap\" material(s), Chinese and Chinese-adjacent things are only worthy of \"concern.\" \n",
    "\n",
    "For example, many of the instances of concern appeared to be related to large scale ones such as: national security, growth, trade, \"serious\" concerns to heighten the severity of the issue at hand. This is perfectly displayed in the collocation visualization as the words trade, growth, national, and security appear within the top 20 of collocates."
   ]
  },
  {
   "cell_type": "markdown",
   "metadata": {},
   "source": [
    "#### Regime"
   ]
  },
  {
   "cell_type": "markdown",
   "metadata": {},
   "source": [
    "![img](photos/colls_regime.png)"
   ]
  },
  {
   "cell_type": "markdown",
   "metadata": {},
   "source": [
    "For 'regime', it was clear that the word held negative undertones as it was paried with: totalitarian, communist, and authoritarian, dishonest, encryption. Examples from a random sample included: \"world of russias old  regime  and hint at the\" and \"clear to the maduro  regime  that it is our.\" For the first quote, it specifically draws upon Cold War sentiments (a negative history for Americans) with the explicit mention of \"russia's old regime\". For the second quote, [Russia and China support Venezuelian president Maduro, the US supports interim president Guaido](https://www.bbc.com/news/world-latin-america-47053701), so it further implies what America associates the word 'regime' with. To drive the point home further, additional names that appeared alongside 'regime' were Castro and Kim Jung Un (all leaders of communist and/or dictatorship governments). The incorporation of 'regime' when discussing China is and will always be meticulous and calculated; the goal is for the reader to form a connection between China and these other governing bodies.\n",
    "\n",
    "Like the 'concern' collocation visualization, this visualization fittingly presents communist, censorship, control, and authoritarian as regime's top collocates."
   ]
  },
  {
   "cell_type": "markdown",
   "metadata": {},
   "source": [
    "#### Freedom"
   ]
  },
  {
   "cell_type": "markdown",
   "metadata": {},
   "source": [
    "![img](photos/colls_freedom.png)"
   ]
  },
  {
   "cell_type": "markdown",
   "metadata": {},
   "source": [
    "#### Control"
   ]
  },
  {
   "cell_type": "markdown",
   "metadata": {},
   "source": [
    "![img](photos/colls_control.png)"
   ]
  },
  {
   "cell_type": "markdown",
   "metadata": {},
   "source": [
    "The context for 'control' was more obviously negative. Whether it's criticizing government practices (\"a wider government move to tighten control over freedom of expression said human\", \"pathology of the chinese government to control the narratives of the country both\", \"a wider government move to tighten control over freedom of expression said human\") or internet policies (\"theres no doubt about it their control over the internet is going to\", \"over the domestic internet and closely control what information may be accessed by\", \"heralding a new era of state control over the mobile web starting on\"), the random sample seemed to serve the main purpose of inciting fear and perpetuating the image of a tight/restrictive communist regime.\n",
    "\n",
    "Similarly to 'control', 'freedom' displayed examples of the absence of such, \"crackdown on hong kongs  freedom  google facebook and twitter\", \"concern about limited press  freedom  in china xis policies\", \"violated its promises of  freedom  expression in censoring\" while flaunting contrasting experiences of \"international freedom.\"\n",
    "\n",
    "While seemingly innocent, stories of \"controlling\" governments and instances of a \"lack of freedom\" especially resonate with American readers who are very sensitive to and passionate about protecting their rights. This directly fuels the belief that the West is \"superior\" to the \"inferior, less progressive\" East who needs the help of the West to liberate them with the knowledge of the \"real news\" instead of the communist propaganda the Chinese government has been feeding them. But every country provides propaganda. It just happens to be that this narrative of China as a \"threat\" is more widespread (even outside of the States) and constantly in our faces that people accept it as fact. After all, everyone is saying the same thing, so shouldn't the information be true?"
   ]
  },
  {
   "cell_type": "markdown",
   "metadata": {},
   "source": [
    "It is *this* very narrow \"bubble\" of media consumption that feeds into the eventual development of sinophobic beliefs exploding as a result of the pandemic, the very event that played to the heightened fears of individuals due to the already abysmal state of our news environments. With the strong prominence of echo chambers regarding the way we interact with news, anything we read as a headline is taken as fact without much additional research. We're \"too busy\" to fact check everything we read and we're mentally exhausted from the neverending influx of material we receive everyday now that we're always connected online. As a result, we choose to rely on the majority heuristic as a marker of validity; if a majority of the people are sharing this message or if I constantly see this same message over and over again, it must be correct, so I'll go with it as well. Heuristics aren't always a bad choice, but in this specific instance, it could quickly escalate into a bigger issue. As your mind unconsciously updates your availability and anchoring heuristics, over time stereotyping and prejudices shift to straight up racism and xenophobia."
   ]
  },
  {
   "cell_type": "markdown",
   "metadata": {},
   "source": [
    "### Keyness Analysis"
   ]
  },
  {
   "cell_type": "markdown",
   "metadata": {},
   "source": [
    "To round off the heavy analyses above, the last step I sought to complete was a quick keyness analysis to check for any additional patterns that may exist within and between the years. For the KWIC and Collocation analyses, I mainly looked at the words combined into one large dataset, and not as isolated years. \n",
    "\n",
    "First, I wanted to explore the years 2017 + 2018 with 2020 + 2021. Comparing the two sets, there wasn't a strong sentiment difference detected between the words; however, it still showed a bit of insight into the shifts from 2018 + 2018 and 2020 + 2021.\n",
    "\n",
    "To get the more obvious difference out of the way, 2020 and 2021 had a higher relative frequency of health related terms than in 2017 and 2018. Words like 'pandemic', 'patients', 'fda, 'clinical', and 'outbreak' appeared at higher rates than in the earlier years as a result of COVID. The words that appeared in greater frequency in 2017 and 2018 are thus more tech related: 'blockchain', 'google', 'zte', 'internet', 'bitcoin', and the word 'technology' itself. Additionally, 'cooperation', 'forwardlooking', and 'independently' seemed to be examples of more positive words that appear earlier (2017, 2018), whereas 'exlcuding', and 'misses' in 2020 and 2021 hold a more negative undertone.\n",
    "\n",
    "There was a mix of potentially positive and negative words in the 2020 + 2021 list, but there was still a visible difference compared to 2017 + 2018 which is more positive/neutral overall.\n",
    "\n",
    "Isolating just the two years (2017, 2020) reflect similar results as the analysis above. However, it's then important to note that since coverage on the pandemic invades a lot of the 2020 articles, it seems that it's impossible to speak on COVID without mentioning China or its government. Even with the articles filtered on technology, the 2020 articles still discuss China's role in the spread of COVID-19. Consequently, this shows the impact of the pandemic and the lasting effects of the media. Associations run strong."
   ]
  },
  {
   "cell_type": "markdown",
   "metadata": {},
   "source": [
    "---"
   ]
  },
  {
   "cell_type": "markdown",
   "metadata": {},
   "source": [
    "To conclude, it's imperative to remember that the context for a word plays a crucial role and with time and consistent usage, associated meanings may begin to change. Through my research, I was unfortunately unable to prove direct causation between the consumption of sinophobic media and the increase of hate crimes. However, it's safe to say that the way America portrays China and its government is mainly negative, perpetuating damaging stereotypes and igniting the fears of vulnerable minds during a time of crisis. After my research, I've realized how necessary it is to be more mindful of the information we're exposed to and the language that we consume. Even if the intention wasn't purposefully harmful, the unconscious choice to use specific words create implications for readers. This in turn affects their beliefs and understandings of the situations/events. \n",
    "\n",
    "![img](photos/hypocrisy.jpeg)\n",
    "<center> <i> An example of different news sources covering two similar events with very polarizing headlines </i> </center>\n",
    "<center> <i> Source: https://twitter.com/RK4real2020/status/1390627001636032514 </i> </center>\n",
    "\n",
    "America is undoubtedly great at creating the belief that there's a common enemy as seen through the countless times minority groups are pitted against each other—whether it's related to race, religion, or sexuality—and it's the never the perpetrator's fault. They're great at pointing fingers, but throw a tantrum every time they're called out. I don't want to make it seem like I believe China is a perfect country or one that is better than America, but I simply hope to point out the blaring hypocrisy in America's media coverage. The fact that news reporting in America is aggressively painting China as the \"bad guy\" to make up for the country's own shortcomings is incredibly dangerous and fuels the distorted mindset of the uber-patriotic. By essentially scapegoating China daily, America has failed to consider (or never bothered to consider) the dire consequences it has on the Asian American community. \n",
    "\n",
    "Every country is bad; there's not one without fault. Some are just better than others are branding/rebranding themselves. *cough* Japan and Canada *cough* (but that's another topic of its own.) As America is still a world power (with a strong branding), other countries do follow their lead. Regrettably, this means that the issue of sinophobia ends up evolving into a global one as a result.\n",
    "\n",
    "Moving forward for future studies, it would be interesting to further the study of contextual analysis by exploring more datasets to make potential causal connections; something that I couldn't achieve with this project. I would've loved to look at tweets as well to study the direct result of the effects of people consuming propaganda and to get a better grasps of its effects in daily life. Unlike news articles, tweets are mostly one's unfiltered thoughts, providing a different perspective than the one gained from this research. \n",
    "\n",
    "While I hate to end on a negative note, personally, I don't believe these negative sentiments will change any time soon. However, as long as people are more conscious of the information they consume and start questioning the reasoning behind specific phrasing, the consumption of veiled racism and xenophobia can be countered over time. "
   ]
  },
  {
   "cell_type": "markdown",
   "metadata": {},
   "source": [
    "---"
   ]
  }
 ],
 "metadata": {
  "kernelspec": {
   "display_name": "Python 3",
   "language": "python",
   "name": "python3"
  },
  "language_info": {
   "codemirror_mode": {
    "name": "ipython",
    "version": 3
   },
   "file_extension": ".py",
   "mimetype": "text/x-python",
   "name": "python",
   "nbconvert_exporter": "python",
   "pygments_lexer": "ipython3",
   "version": "3.7.3"
  }
 },
 "nbformat": 4,
 "nbformat_minor": 2
}
